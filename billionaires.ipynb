{
 "cells": [
  {
   "cell_type": "markdown",
   "metadata": {},
   "source": [
    "### Data Loading"
   ]
  },
  {
   "cell_type": "code",
   "execution_count": 126,
   "metadata": {},
   "outputs": [
    {
     "data": {
      "text/html": [
       "<div>\n",
       "<style scoped>\n",
       "    .dataframe tbody tr th:only-of-type {\n",
       "        vertical-align: middle;\n",
       "    }\n",
       "\n",
       "    .dataframe tbody tr th {\n",
       "        vertical-align: top;\n",
       "    }\n",
       "\n",
       "    .dataframe thead th {\n",
       "        text-align: right;\n",
       "    }\n",
       "</style>\n",
       "<table border=\"1\" class=\"dataframe\">\n",
       "  <thead>\n",
       "    <tr style=\"text-align: right;\">\n",
       "      <th></th>\n",
       "      <th>Name</th>\n",
       "      <th>NetWorth</th>\n",
       "      <th>Country</th>\n",
       "      <th>Source</th>\n",
       "      <th>Rank</th>\n",
       "      <th>Age</th>\n",
       "      <th>Industry</th>\n",
       "    </tr>\n",
       "  </thead>\n",
       "  <tbody>\n",
       "    <tr>\n",
       "      <th>0</th>\n",
       "      <td>Jeff Bezos</td>\n",
       "      <td>$177 B</td>\n",
       "      <td>United States</td>\n",
       "      <td>Amazon</td>\n",
       "      <td>1</td>\n",
       "      <td>57.0</td>\n",
       "      <td>Technology</td>\n",
       "    </tr>\n",
       "    <tr>\n",
       "      <th>1</th>\n",
       "      <td>Elon Musk</td>\n",
       "      <td>$151 B</td>\n",
       "      <td>United States</td>\n",
       "      <td>Tesla, SpaceX</td>\n",
       "      <td>2</td>\n",
       "      <td>49.0</td>\n",
       "      <td>Automotive</td>\n",
       "    </tr>\n",
       "    <tr>\n",
       "      <th>2</th>\n",
       "      <td>Bernard Arnault &amp; family</td>\n",
       "      <td>$150 B</td>\n",
       "      <td>France</td>\n",
       "      <td>LVMH</td>\n",
       "      <td>3</td>\n",
       "      <td>72.0</td>\n",
       "      <td>Fashion &amp; Retail</td>\n",
       "    </tr>\n",
       "    <tr>\n",
       "      <th>3</th>\n",
       "      <td>Bill Gates</td>\n",
       "      <td>$124 B</td>\n",
       "      <td>United States</td>\n",
       "      <td>Microsoft</td>\n",
       "      <td>4</td>\n",
       "      <td>65.0</td>\n",
       "      <td>Technology</td>\n",
       "    </tr>\n",
       "    <tr>\n",
       "      <th>4</th>\n",
       "      <td>Mark Zuckerberg</td>\n",
       "      <td>$97 B</td>\n",
       "      <td>United States</td>\n",
       "      <td>Facebook</td>\n",
       "      <td>5</td>\n",
       "      <td>36.0</td>\n",
       "      <td>Technology</td>\n",
       "    </tr>\n",
       "  </tbody>\n",
       "</table>\n",
       "</div>"
      ],
      "text/plain": [
       "                       Name NetWorth        Country         Source  Rank  \\\n",
       "0                Jeff Bezos   $177 B  United States         Amazon     1   \n",
       "1                 Elon Musk   $151 B  United States  Tesla, SpaceX     2   \n",
       "2  Bernard Arnault & family   $150 B         France           LVMH     3   \n",
       "3                Bill Gates   $124 B  United States      Microsoft     4   \n",
       "4           Mark Zuckerberg    $97 B  United States       Facebook     5   \n",
       "\n",
       "    Age          Industry  \n",
       "0  57.0        Technology  \n",
       "1  49.0        Automotive  \n",
       "2  72.0  Fashion & Retail  \n",
       "3  65.0        Technology  \n",
       "4  36.0        Technology  "
      ]
     },
     "execution_count": 126,
     "metadata": {},
     "output_type": "execute_result"
    }
   ],
   "source": [
    "import pandas as pd\n",
    "import numpy as np\n",
    "import scipy.stats as stats\n",
    "import plotly.express as px\n",
    "\n",
    "# Loading the data\n",
    "data = pd.read_csv(\"Billionaire.csv\")\n",
    "\n",
    "#Storing the data into a dataframe\n",
    "df = pd.DataFrame(data)\n",
    "\n",
    "# Printing out the first 5 rows of the data\n",
    "df.head()"
   ]
  },
  {
   "cell_type": "code",
   "execution_count": 127,
   "metadata": {},
   "outputs": [
    {
     "data": {
      "text/html": [
       "<div>\n",
       "<style scoped>\n",
       "    .dataframe tbody tr th:only-of-type {\n",
       "        vertical-align: middle;\n",
       "    }\n",
       "\n",
       "    .dataframe tbody tr th {\n",
       "        vertical-align: top;\n",
       "    }\n",
       "\n",
       "    .dataframe thead th {\n",
       "        text-align: right;\n",
       "    }\n",
       "</style>\n",
       "<table border=\"1\" class=\"dataframe\">\n",
       "  <thead>\n",
       "    <tr style=\"text-align: right;\">\n",
       "      <th></th>\n",
       "      <th>Name</th>\n",
       "      <th>NetWorth</th>\n",
       "      <th>Country</th>\n",
       "      <th>Source</th>\n",
       "      <th>Rank</th>\n",
       "      <th>Age</th>\n",
       "      <th>Industry</th>\n",
       "    </tr>\n",
       "  </thead>\n",
       "  <tbody>\n",
       "    <tr>\n",
       "      <th>2750</th>\n",
       "      <td>Daniel Yong Zhang</td>\n",
       "      <td>$1 B</td>\n",
       "      <td>China</td>\n",
       "      <td>e-commerce</td>\n",
       "      <td>2674</td>\n",
       "      <td>49.0</td>\n",
       "      <td>Technology</td>\n",
       "    </tr>\n",
       "    <tr>\n",
       "      <th>2751</th>\n",
       "      <td>Zhang Yuqiang</td>\n",
       "      <td>$1 B</td>\n",
       "      <td>China</td>\n",
       "      <td>Fiberglass</td>\n",
       "      <td>2674</td>\n",
       "      <td>65.0</td>\n",
       "      <td>Manufacturing</td>\n",
       "    </tr>\n",
       "    <tr>\n",
       "      <th>2752</th>\n",
       "      <td>Zhao Meiguang</td>\n",
       "      <td>$1 B</td>\n",
       "      <td>China</td>\n",
       "      <td>gold mining</td>\n",
       "      <td>2674</td>\n",
       "      <td>58.0</td>\n",
       "      <td>Metals &amp; Mining</td>\n",
       "    </tr>\n",
       "    <tr>\n",
       "      <th>2753</th>\n",
       "      <td>Zhong Naixiong</td>\n",
       "      <td>$1 B</td>\n",
       "      <td>China</td>\n",
       "      <td>conglomerate</td>\n",
       "      <td>2674</td>\n",
       "      <td>58.0</td>\n",
       "      <td>Diversified</td>\n",
       "    </tr>\n",
       "    <tr>\n",
       "      <th>2754</th>\n",
       "      <td>Zhou Wei family</td>\n",
       "      <td>$1 B</td>\n",
       "      <td>China</td>\n",
       "      <td>Software</td>\n",
       "      <td>2674</td>\n",
       "      <td>54.0</td>\n",
       "      <td>Technology</td>\n",
       "    </tr>\n",
       "  </tbody>\n",
       "</table>\n",
       "</div>"
      ],
      "text/plain": [
       "                   Name NetWorth Country        Source  Rank   Age  \\\n",
       "2750  Daniel Yong Zhang     $1 B   China    e-commerce  2674  49.0   \n",
       "2751      Zhang Yuqiang     $1 B   China    Fiberglass  2674  65.0   \n",
       "2752      Zhao Meiguang     $1 B   China   gold mining  2674  58.0   \n",
       "2753     Zhong Naixiong     $1 B   China  conglomerate  2674  58.0   \n",
       "2754    Zhou Wei family     $1 B   China      Software  2674  54.0   \n",
       "\n",
       "             Industry  \n",
       "2750       Technology  \n",
       "2751    Manufacturing  \n",
       "2752  Metals & Mining  \n",
       "2753      Diversified  \n",
       "2754       Technology  "
      ]
     },
     "execution_count": 127,
     "metadata": {},
     "output_type": "execute_result"
    }
   ],
   "source": [
    "df.tail()"
   ]
  },
  {
   "cell_type": "markdown",
   "metadata": {},
   "source": [
    "### Understanding and cleaning the dataset"
   ]
  },
  {
   "cell_type": "code",
   "execution_count": 128,
   "metadata": {},
   "outputs": [
    {
     "name": "stdout",
     "output_type": "stream",
     "text": [
      "<class 'pandas.core.frame.DataFrame'>\n",
      "RangeIndex: 2755 entries, 0 to 2754\n",
      "Data columns (total 7 columns):\n",
      " #   Column    Non-Null Count  Dtype  \n",
      "---  ------    --------------  -----  \n",
      " 0   Name      2755 non-null   object \n",
      " 1   NetWorth  2755 non-null   object \n",
      " 2   Country   2755 non-null   object \n",
      " 3   Source    2755 non-null   object \n",
      " 4   Rank      2755 non-null   int64  \n",
      " 5   Age       2676 non-null   float64\n",
      " 6   Industry  2755 non-null   object \n",
      "dtypes: float64(1), int64(1), object(5)\n",
      "memory usage: 150.8+ KB\n"
     ]
    }
   ],
   "source": [
    "df.info()"
   ]
  },
  {
   "cell_type": "markdown",
   "metadata": {},
   "source": [
    "##### The dataset has 2 types of datatypes that is the object and the numericals ( intergers and floats). It has 7 columns and 2754 data rows. "
   ]
  },
  {
   "cell_type": "code",
   "execution_count": 129,
   "metadata": {},
   "outputs": [
    {
     "name": "stdout",
     "output_type": "stream",
     "text": [
      "  index  column name\n",
      "-------  -------------\n",
      "      1  Name\n",
      "      2  NetWorth\n",
      "      3  Country\n",
      "      4  Source\n",
      "      5  Rank\n",
      "      6  Age\n",
      "      7  Industry\n"
     ]
    }
   ],
   "source": [
    "# Tabulating the column names in tabular format\n",
    "from tabulate import tabulate\n",
    "col_names = df.columns.tolist()\n",
    "col_names_table = [[i+1, name] for i, name in enumerate(col_names)] # i+1 is used to start the index from 1\n",
    "print(tabulate(col_names_table, headers = [\"index\", \"column name\"]))\n"
   ]
  },
  {
   "cell_type": "code",
   "execution_count": 130,
   "metadata": {},
   "outputs": [
    {
     "data": {
      "text/plain": [
       "Name         0\n",
       "NetWorth     0\n",
       "Country      0\n",
       "Source       0\n",
       "Rank         0\n",
       "Age         79\n",
       "Industry     0\n",
       "dtype: int64"
      ]
     },
     "execution_count": 130,
     "metadata": {},
     "output_type": "execute_result"
    }
   ],
   "source": [
    "import warnings\n",
    "warnings.filterwarnings('ignore')\n",
    "\n",
    "# Check for missing values\n",
    "df.isnull().sum()"
   ]
  },
  {
   "cell_type": "code",
   "execution_count": 131,
   "metadata": {},
   "outputs": [
    {
     "name": "stdout",
     "output_type": "stream",
     "text": [
      "<class 'pandas.core.frame.DataFrame'>\n",
      "Index: 2676 entries, 0 to 2754\n",
      "Data columns (total 7 columns):\n",
      " #   Column    Non-Null Count  Dtype  \n",
      "---  ------    --------------  -----  \n",
      " 0   Name      2676 non-null   object \n",
      " 1   NetWorth  2676 non-null   object \n",
      " 2   Country   2676 non-null   object \n",
      " 3   Source    2676 non-null   object \n",
      " 4   Rank      2676 non-null   int64  \n",
      " 5   Age       2676 non-null   float64\n",
      " 6   Industry  2676 non-null   object \n",
      "dtypes: float64(1), int64(1), object(5)\n",
      "memory usage: 167.2+ KB\n"
     ]
    }
   ],
   "source": [
    "# Dropping all the rows with missing values in the specified columns\n",
    "columns_to_check = ['Age']\n",
    "df = df.dropna(subset=columns_to_check)\n",
    "df.info()"
   ]
  },
  {
   "cell_type": "code",
   "execution_count": 132,
   "metadata": {},
   "outputs": [
    {
     "name": "stdout",
     "output_type": "stream",
     "text": [
      "0    177.0\n",
      "1    151.0\n",
      "2    150.0\n",
      "3    124.0\n",
      "4     97.0\n",
      "Name: NetWorth, dtype: float64\n"
     ]
    }
   ],
   "source": [
    "# Clean the NetWorth column\n",
    "df['NetWorth'] = df['NetWorth'].str.replace('[$B]', '', regex=True).astype(float)\n",
    "\n",
    "# Verify the changes\n",
    "print(df['NetWorth'].head())\n"
   ]
  },
  {
   "cell_type": "code",
   "execution_count": 133,
   "metadata": {},
   "outputs": [
    {
     "name": "stdout",
     "output_type": "stream",
     "text": [
      "NUmber of OUtliers In Each Column:\n",
      " NetWorth    298\n",
      "Rank          0\n",
      "Age           4\n",
      "Name: NUmber of Outliers, dtype: int64\n"
     ]
    }
   ],
   "source": [
    "# Checking for outliers using the IQR method\n",
    "def detect_outliers_iqr(df):\n",
    "    outlier_counts = {}\n",
    "    for column in df.select_dtypes(include = ['number']).columns:\n",
    "        Q1 = df[column].quantile(0.25)\n",
    "        Q3 = df[column].quantile(0.75)\n",
    "        IQR = Q3 - Q1\n",
    "\n",
    "        lower_bound = Q1 - 1.5*IQR\n",
    "        upper_bound = Q3 +1.5*IQR\n",
    "\n",
    "        outliers = df[(df[column]< lower_bound) | (df[column] > upper_bound)]\n",
    "        outlier_counts[column] = len(outliers)\n",
    "\n",
    "    return pd.Series(outlier_counts, name=\"NUmber of Outliers\")\n",
    "\n",
    "outliers = detect_outliers_iqr(df)\n",
    "print(\"NUmber of OUtliers In Each Column:\\n\", outliers)\n"
   ]
  },
  {
   "cell_type": "code",
   "execution_count": 134,
   "metadata": {},
   "outputs": [
    {
     "data": {
      "image/png": "[encoded data removed]",
      "text/plain": [
       "<Figure size 1000x600 with 1 Axes>"
      ]
     },
     "metadata": {},
     "output_type": "display_data"
    }
   ],
   "source": [
    "import matplotlib.pyplot as plt\n",
    "\n",
    "# Creating a box plot for the 'Age' column to visualize outliers\n",
    "plt.figure(figsize=(10, 6))\n",
    "plt.boxplot(df['Age'].dropna(), vert=False)\n",
    "plt.title('Box plot of Age')\n",
    "plt.xlabel('Age')\n",
    "plt.show()"
   ]
  },
  {
   "cell_type": "code",
   "execution_count": 135,
   "metadata": {},
   "outputs": [
    {
     "data": {
      "application/vnd.plotly.v1+json": {
       "config": {
        "plotlyServerURL": "https://plot.ly"
       },
       "data": [
        {
         "branchvalues": "total",
         "domain": {
          "x": [
           0,
           1
          ],
          "y": [
           0,
           1
          ]
         },
         "hovertemplate": "labels=%{label}<br>Total Net Worth (in Billion USD)=%{value}<br>parent=%{parent}<br>id=%{id}<extra></extra>",
         "ids": [
          "United States",
          "China",
          "Russia",
          "Germany",
          "India",
          "France",
          "Hong Kong",
          "Japan",
          "Canada",
          "Brazil",
          "United Kingdom",
          "Italy",
          "Sweden",
          "Australia",
          "Singapore",
          "Switzerland",
          "Mexico",
          "Spain",
          "South Korea",
          "Taiwan"
         ],
         "labels": [
          "United States",
          "China",
          "Russia",
          "Germany",
          "India",
          "France",
          "Hong Kong",
          "Japan",
          "Canada",
          "Brazil",
          "United Kingdom",
          "Italy",
          "Sweden",
          "Australia",
          "Singapore",
          "Switzerland",
          "Mexico",
          "Spain",
          "South Korea",
          "Taiwan"
         ],
         "name": "",
         "parents": [
          "",
          "",
          "",
          "",
          "",
          "",
          "",
          "",
          "",
          "",
          "",
          "",
          "",
          "",
          "",
          "",
          "",
          "",
          "",
          ""
         ],
         "type": "treemap",
         "values": {
          "bdata": "MzMzM7MgsUAzMzMzM4CjQAAAAAAAUIJAzczMzMwEgkBmZmZmZrqBQJmZmZmZuX9AZmZmZmbGekBmZmZmZsZrQAAAAAAAMGtAZmZmZmYWaUAAAAAAAJBoQAAAAAAAYGhAAAAAAADAZkBmZmZmZhZmQJqZmZmZ6WJAAAAAAAAwYkAzMzMzMwNhQGZmZmZmxmBAmpmZmZlZXkDNzMzMzExcQA==",
          "dtype": "f8"
         }
        }
       ],
       "layout": {
        "height": 600,
        "legend": {
         "tracegroupgap": 0
        },
        "template": {
         "data": {
          "bar": [
           {
            "error_x": {
             "color": "#2a3f5f"
            },
            "error_y": {
             "color": "#2a3f5f"
            },
            "marker": {
             "line": {
              "color": "white",
              "width": 0.5
             },
             "pattern": {
              "fillmode": "overlay",
              "size": 10,
              "solidity": 0.2
             }
            },
            "type": "bar"
           }
          ],
          "barpolar": [
           {
            "marker": {
             "line": {
              "color": "white",
              "width": 0.5
             },
             "pattern": {
              "fillmode": "overlay",
              "size": 10,
              "solidity": 0.2
             }
            },
            "type": "barpolar"
           }
          ],
          "carpet": [
           {
            "aaxis": {
             "endlinecolor": "#2a3f5f",
             "gridcolor": "#C8D4E3",
             "linecolor": "#C8D4E3",
             "minorgridcolor": "#C8D4E3",
             "startlinecolor": "#2a3f5f"
            },
            "baxis": {
             "endlinecolor": "#2a3f5f",
             "gridcolor": "#C8D4E3",
             "linecolor": "#C8D4E3",
             "minorgridcolor": "#C8D4E3",
             "startlinecolor": "#2a3f5f"
            },
            "type": "carpet"
           }
          ],
          "choropleth": [
           {
            "colorbar": {
             "outlinewidth": 0,
             "ticks": ""
            },
            "type": "choropleth"
           }
          ],
          "contour": [
           {
            "colorbar": {
             "outlinewidth": 0,
             "ticks": ""
            },
            "colorscale": [
             [
              0,
              "#0d0887"
             ],
             [
              0.1111111111111111,
              "#46039f"
             ],
             [
              0.2222222222222222,
              "#7201a8"
             ],
             [
              0.3333333333333333,
              "#9c179e"
             ],
             [
              0.4444444444444444,
              "#bd3786"
             ],
             [
              0.5555555555555556,
              "#d8576b"
             ],
             [
              0.6666666666666666,
              "#ed7953"
             ],
             [
              0.7777777777777778,
              "#fb9f3a"
             ],
             [
              0.8888888888888888,
              "#fdca26"
             ],
             [
              1,
              "#f0f921"
             ]
            ],
            "type": "contour"
           }
          ],
          "contourcarpet": [
           {
            "colorbar": {
             "outlinewidth": 0,
             "ticks": ""
            },
            "type": "contourcarpet"
           }
          ],
          "heatmap": [
           {
            "colorbar": {
             "outlinewidth": 0,
             "ticks": ""
            },
            "colorscale": [
             [
              0,
              "#0d0887"
             ],
             [
              0.1111111111111111,
              "#46039f"
             ],
             [
              0.2222222222222222,
              "#7201a8"
             ],
             [
              0.3333333333333333,
              "#9c179e"
             ],
             [
              0.4444444444444444,
              "#bd3786"
             ],
             [
              0.5555555555555556,
              "#d8576b"
             ],
             [
              0.6666666666666666,
              "#ed7953"
             ],
             [
              0.7777777777777778,
              "#fb9f3a"
             ],
             [
              0.8888888888888888,
              "#fdca26"
             ],
             [
              1,
              "#f0f921"
             ]
            ],
            "type": "heatmap"
           }
          ],
          "histogram": [
           {
            "marker": {
             "pattern": {
              "fillmode": "overlay",
              "size": 10,
              "solidity": 0.2
             }
            },
            "type": "histogram"
           }
          ],
          "histogram2d": [
           {
            "colorbar": {
             "outlinewidth": 0,
             "ticks": ""
            },
            "colorscale": [
             [
              0,
              "#0d0887"
             ],
             [
              0.1111111111111111,
              "#46039f"
             ],
             [
              0.2222222222222222,
              "#7201a8"
             ],
             [
              0.3333333333333333,
              "#9c179e"
             ],
             [
              0.4444444444444444,
              "#bd3786"
             ],
             [
              0.5555555555555556,
              "#d8576b"
             ],
             [
              0.6666666666666666,
              "#ed7953"
             ],
             [
              0.7777777777777778,
              "#fb9f3a"
             ],
             [
              0.8888888888888888,
              "#fdca26"
             ],
             [
              1,
              "#f0f921"
             ]
            ],
            "type": "histogram2d"
           }
          ],
          "histogram2dcontour": [
           {
            "colorbar": {
             "outlinewidth": 0,
             "ticks": ""
            },
            "colorscale": [
             [
              0,
              "#0d0887"
             ],
             [
              0.1111111111111111,
              "#46039f"
             ],
             [
              0.2222222222222222,
              "#7201a8"
             ],
             [
              0.3333333333333333,
              "#9c179e"
             ],
             [
              0.4444444444444444,
              "#bd3786"
             ],
             [
              0.5555555555555556,
              "#d8576b"
             ],
             [
              0.6666666666666666,
              "#ed7953"
             ],
             [
              0.7777777777777778,
              "#fb9f3a"
             ],
             [
              0.8888888888888888,
              "#fdca26"
             ],
             [
              1,
              "#f0f921"
             ]
            ],
            "type": "histogram2dcontour"
           }
          ],
          "mesh3d": [
           {
            "colorbar": {
             "outlinewidth": 0,
             "ticks": ""
            },
            "type": "mesh3d"
           }
          ],
          "parcoords": [
           {
            "line": {
             "colorbar": {
              "outlinewidth": 0,
              "ticks": ""
             }
            },
            "type": "parcoords"
           }
          ],
          "pie": [
           {
            "automargin": true,
            "type": "pie"
           }
          ],
          "scatter": [
           {
            "fillpattern": {
             "fillmode": "overlay",
             "size": 10,
             "solidity": 0.2
            },
            "type": "scatter"
           }
          ],
          "scatter3d": [
           {
            "line": {
             "colorbar": {
              "outlinewidth": 0,
              "ticks": ""
             }
            },
            "marker": {
             "colorbar": {
              "outlinewidth": 0,
              "ticks": ""
             }
            },
            "type": "scatter3d"
           }
          ],
          "scattercarpet": [
           {
            "marker": {
             "colorbar": {
              "outlinewidth": 0,
              "ticks": ""
             }
            },
            "type": "scattercarpet"
           }
          ],
          "scattergeo": [
           {
            "marker": {
             "colorbar": {
              "outlinewidth": 0,
              "ticks": ""
             }
            },
            "type": "scattergeo"
           }
          ],
          "scattergl": [
           {
            "marker": {
             "colorbar": {
              "outlinewidth": 0,
              "ticks": ""
             }
            },
            "type": "scattergl"
           }
          ],
          "scattermap": [
           {
            "marker": {
             "colorbar": {
              "outlinewidth": 0,
              "ticks": ""
             }
            },
            "type": "scattermap"
           }
          ],
          "scattermapbox": [
           {
            "marker": {
             "colorbar": {
              "outlinewidth": 0,
              "ticks": ""
             }
            },
            "type": "scattermapbox"
           }
          ],
          "scatterpolar": [
           {
            "marker": {
             "colorbar": {
              "outlinewidth": 0,
              "ticks": ""
             }
            },
            "type": "scatterpolar"
           }
          ],
          "scatterpolargl": [
           {
            "marker": {
             "colorbar": {
              "outlinewidth": 0,
              "ticks": ""
             }
            },
            "type": "scatterpolargl"
           }
          ],
          "scatterternary": [
           {
            "marker": {
             "colorbar": {
              "outlinewidth": 0,
              "ticks": ""
             }
            },
            "type": "scatterternary"
           }
          ],
          "surface": [
           {
            "colorbar": {
             "outlinewidth": 0,
             "ticks": ""
            },
            "colorscale": [
             [
              0,
              "#0d0887"
             ],
             [
              0.1111111111111111,
              "#46039f"
             ],
             [
              0.2222222222222222,
              "#7201a8"
             ],
             [
              0.3333333333333333,
              "#9c179e"
             ],
             [
              0.4444444444444444,
              "#bd3786"
             ],
             [
              0.5555555555555556,
              "#d8576b"
             ],
             [
              0.6666666666666666,
              "#ed7953"
             ],
             [
              0.7777777777777778,
              "#fb9f3a"
             ],
             [
              0.8888888888888888,
              "#fdca26"
             ],
             [
              1,
              "#f0f921"
             ]
            ],
            "type": "surface"
           }
          ],
          "table": [
           {
            "cells": {
             "fill": {
              "color": "#EBF0F8"
             },
             "line": {
              "color": "white"
             }
            },
            "header": {
             "fill": {
              "color": "#C8D4E3"
             },
             "line": {
              "color": "white"
             }
            },
            "type": "table"
           }
          ]
         },
         "layout": {
          "annotationdefaults": {
           "arrowcolor": "#2a3f5f",
           "arrowhead": 0,
           "arrowwidth": 1
          },
          "autotypenumbers": "strict",
          "coloraxis": {
           "colorbar": {
            "outlinewidth": 0,
            "ticks": ""
           }
          },
          "colorscale": {
           "diverging": [
            [
             0,
             "#8e0152"
            ],
            [
             0.1,
             "#c51b7d"
            ],
            [
             0.2,
             "#de77ae"
            ],
            [
             0.3,
             "#f1b6da"
            ],
            [
             0.4,
             "#fde0ef"
            ],
            [
             0.5,
             "#f7f7f7"
            ],
            [
             0.6,
             "#e6f5d0"
            ],
            [
             0.7,
             "#b8e186"
            ],
            [
             0.8,
             "#7fbc41"
            ],
            [
             0.9,
             "#4d9221"
            ],
            [
             1,
             "#276419"
            ]
           ],
           "sequential": [
            [
             0,
             "#0d0887"
            ],
            [
             0.1111111111111111,
             "#46039f"
            ],
            [
             0.2222222222222222,
             "#7201a8"
            ],
            [
             0.3333333333333333,
             "#9c179e"
            ],
            [
             0.4444444444444444,
             "#bd3786"
            ],
            [
             0.5555555555555556,
             "#d8576b"
            ],
            [
             0.6666666666666666,
             "#ed7953"
            ],
            [
             0.7777777777777778,
             "#fb9f3a"
            ],
            [
             0.8888888888888888,
             "#fdca26"
            ],
            [
             1,
             "#f0f921"
            ]
           ],
           "sequentialminus": [
            [
             0,
             "#0d0887"
            ],
            [
             0.1111111111111111,
             "#46039f"
            ],
            [
             0.2222222222222222,
             "#7201a8"
            ],
            [
             0.3333333333333333,
             "#9c179e"
            ],
            [
             0.4444444444444444,
             "#bd3786"
            ],
            [
             0.5555555555555556,
             "#d8576b"
            ],
            [
             0.6666666666666666,
             "#ed7953"
            ],
            [
             0.7777777777777778,
             "#fb9f3a"
            ],
            [
             0.8888888888888888,
             "#fdca26"
            ],
            [
             1,
             "#f0f921"
            ]
           ]
          },
          "colorway": [
           "#636efa",
           "#EF553B",
           "#00cc96",
           "#ab63fa",
           "#FFA15A",
           "#19d3f3",
           "#FF6692",
           "#B6E880",
           "#FF97FF",
           "#FECB52"
          ],
          "font": {
           "color": "#2a3f5f"
          },
          "geo": {
           "bgcolor": "white",
           "lakecolor": "white",
           "landcolor": "white",
           "showlakes": true,
           "showland": true,
           "subunitcolor": "#C8D4E3"
          },
          "hoverlabel": {
           "align": "left"
          },
          "hovermode": "closest",
          "mapbox": {
           "style": "light"
          },
          "paper_bgcolor": "white",
          "plot_bgcolor": "white",
          "polar": {
           "angularaxis": {
            "gridcolor": "#EBF0F8",
            "linecolor": "#EBF0F8",
            "ticks": ""
           },
           "bgcolor": "white",
           "radialaxis": {
            "gridcolor": "#EBF0F8",
            "linecolor": "#EBF0F8",
            "ticks": ""
           }
          },
          "scene": {
           "xaxis": {
            "backgroundcolor": "white",
            "gridcolor": "#DFE8F3",
            "gridwidth": 2,
            "linecolor": "#EBF0F8",
            "showbackground": true,
            "ticks": "",
            "zerolinecolor": "#EBF0F8"
           },
           "yaxis": {
            "backgroundcolor": "white",
            "gridcolor": "#DFE8F3",
            "gridwidth": 2,
            "linecolor": "#EBF0F8",
            "showbackground": true,
            "ticks": "",
            "zerolinecolor": "#EBF0F8"
           },
           "zaxis": {
            "backgroundcolor": "white",
            "gridcolor": "#DFE8F3",
            "gridwidth": 2,
            "linecolor": "#EBF0F8",
            "showbackground": true,
            "ticks": "",
            "zerolinecolor": "#EBF0F8"
           }
          },
          "shapedefaults": {
           "line": {
            "color": "#2a3f5f"
           }
          },
          "ternary": {
           "aaxis": {
            "gridcolor": "#DFE8F3",
            "linecolor": "#A2B1C6",
            "ticks": ""
           },
           "baxis": {
            "gridcolor": "#DFE8F3",
            "linecolor": "#A2B1C6",
            "ticks": ""
           },
           "bgcolor": "white",
           "caxis": {
            "gridcolor": "#DFE8F3",
            "linecolor": "#A2B1C6",
            "ticks": ""
           }
          },
          "title": {
           "x": 0.05
          },
          "xaxis": {
           "automargin": true,
           "gridcolor": "#EBF0F8",
           "linecolor": "#EBF0F8",
           "ticks": "",
           "title": {
            "standoff": 15
           },
           "zerolinecolor": "#EBF0F8",
           "zerolinewidth": 2
          },
          "yaxis": {
           "automargin": true,
           "gridcolor": "#EBF0F8",
           "linecolor": "#EBF0F8",
           "ticks": "",
           "title": {
            "standoff": 15
           },
           "zerolinecolor": "#EBF0F8",
           "zerolinewidth": 2
          }
         }
        },
        "title": {
         "text": "Total Net Worth by Country (Top 20)"
        },
        "width": 1500
       }
      }
     },
     "metadata": {},
     "output_type": "display_data"
    }
   ],
   "source": [
    "# Total Networth by Country\n",
    "net_worth_by_country = df.groupby('Country')['NetWorth'].sum().reset_index().sort_values(by='NetWorth', ascending=False).head(20)\n",
    "# Creating an interactive treeemap\n",
    "fig = px.treemap(\n",
    "    net_worth_by_country,\n",
    "    path=['Country'],\n",
    "    values='NetWorth',\n",
    "    title='Total Net Worth by Country (Top 20)',\n",
    "    labels={'NetWorth': 'Total Net Worth (in Billion USD)'}\n",
    ")\n",
    "\n",
    "fig.update_layout(\n",
    "    template = 'plotly_white',\n",
    "    width = 1500,\n",
    "    height = 600\n",
    ")\n",
    "fig.show()"
   ]
  },
  {
   "cell_type": "markdown",
   "metadata": {},
   "source": [
    "##### The treemap above shows the global distribution of billionaires wealth, with the United States dominating as a country with the highest total net worth, this reflects the country's strong economy, the thriving technology sector and robust financial markets. China follows closely as the second largest comtributor, driven by the rapid economic growth and wealth accumalation industries like technology, manufacturing and real estate. Countries such as Russia India and Germany also stand out in the list showing the influence of natural resources, engineering and technology as well. WHile smaller economies like Sweden, Singapore and Hong Kong have fewer billionaires, their presence is an indication of the notabvle contributins from the niche industries and global trade. Overall, billionaire wealth is highly concentrated in a few countries, reflecting economic disparities while highlighting the economic powerhouses shaping global wealth trends."
   ]
  },
  {
   "cell_type": "code",
   "execution_count": 136,
   "metadata": {},
   "outputs": [
    {
     "data": {
      "application/vnd.plotly.v1+json": {
       "config": {
        "plotlyServerURL": "https://plot.ly"
       },
       "data": [
        {
         "hovertemplate": "Country=%{x}<br>Number of Billionaires=%{marker.color}<extra></extra>",
         "legendgroup": "",
         "marker": {
          "color": {
           "bdata": "0AJiAoYAdgBzAEQAPQA8ADYAMQAwAC0AKwArACkAKQAoABwAHAAbAA==",
           "dtype": "i2"
          },
          "coloraxis": "coloraxis",
          "pattern": {
           "shape": ""
          }
         },
         "name": "",
         "orientation": "v",
         "showlegend": false,
         "text": {
          "bdata": "AAAAAACAhkAAAAAAABCDQAAAAAAAwGBAAAAAAACAXUAAAAAAAMBcQAAAAAAAAFFAAAAAAACATkAAAAAAAABOQAAAAAAAAEtAAAAAAACASEAAAAAAAABIQAAAAAAAgEZAAAAAAACARUAAAAAAAIBFQAAAAAAAgERAAAAAAACAREAAAAAAAABEQAAAAAAAADxAAAAAAAAAPEAAAAAAAAA7QA==",
          "dtype": "f8"
         },
         "textposition": "outside",
         "type": "bar",
         "x": [
          "United States",
          "China",
          "India",
          "Russia",
          "Germany",
          "Hong Kong",
          "Brazil",
          "Canada",
          "United Kingdom",
          "Italy",
          "Japan",
          "Taiwan",
          "South Korea",
          "Australia",
          "France",
          "Sweden",
          "Switzerland",
          "Spain",
          "Thailand",
          "Turkey"
         ],
         "xaxis": "x",
         "y": {
          "bdata": "0AJiAoYAdgBzAEQAPQA8ADYAMQAwAC0AKwArACkAKQAoABwAHAAbAA==",
          "dtype": "i2"
         },
         "yaxis": "y"
        }
       ],
       "layout": {
        "barmode": "relative",
        "coloraxis": {
         "colorbar": {
          "title": {
           "text": "Number of Billionaires"
          }
         },
         "colorscale": [
          [
           0,
           "#0d0887"
          ],
          [
           0.1111111111111111,
           "#46039f"
          ],
          [
           0.2222222222222222,
           "#7201a8"
          ],
          [
           0.3333333333333333,
           "#9c179e"
          ],
          [
           0.4444444444444444,
           "#bd3786"
          ],
          [
           0.5555555555555556,
           "#d8576b"
          ],
          [
           0.6666666666666666,
           "#ed7953"
          ],
          [
           0.7777777777777778,
           "#fb9f3a"
          ],
          [
           0.8888888888888888,
           "#fdca26"
          ],
          [
           1,
           "#f0f921"
          ]
         ]
        },
        "height": 500,
        "legend": {
         "tracegroupgap": 0
        },
        "template": {
         "data": {
          "bar": [
           {
            "error_x": {
             "color": "#2a3f5f"
            },
            "error_y": {
             "color": "#2a3f5f"
            },
            "marker": {
             "line": {
              "color": "white",
              "width": 0.5
             },
             "pattern": {
              "fillmode": "overlay",
              "size": 10,
              "solidity": 0.2
             }
            },
            "type": "bar"
           }
          ],
          "barpolar": [
           {
            "marker": {
             "line": {
              "color": "white",
              "width": 0.5
             },
             "pattern": {
              "fillmode": "overlay",
              "size": 10,
              "solidity": 0.2
             }
            },
            "type": "barpolar"
           }
          ],
          "carpet": [
           {
            "aaxis": {
             "endlinecolor": "#2a3f5f",
             "gridcolor": "#C8D4E3",
             "linecolor": "#C8D4E3",
             "minorgridcolor": "#C8D4E3",
             "startlinecolor": "#2a3f5f"
            },
            "baxis": {
             "endlinecolor": "#2a3f5f",
             "gridcolor": "#C8D4E3",
             "linecolor": "#C8D4E3",
             "minorgridcolor": "#C8D4E3",
             "startlinecolor": "#2a3f5f"
            },
            "type": "carpet"
           }
          ],
          "choropleth": [
           {
            "colorbar": {
             "outlinewidth": 0,
             "ticks": ""
            },
            "type": "choropleth"
           }
          ],
          "contour": [
           {
            "colorbar": {
             "outlinewidth": 0,
             "ticks": ""
            },
            "colorscale": [
             [
              0,
              "#0d0887"
             ],
             [
              0.1111111111111111,
              "#46039f"
             ],
             [
              0.2222222222222222,
              "#7201a8"
             ],
             [
              0.3333333333333333,
              "#9c179e"
             ],
             [
              0.4444444444444444,
              "#bd3786"
             ],
             [
              0.5555555555555556,
              "#d8576b"
             ],
             [
              0.6666666666666666,
              "#ed7953"
             ],
             [
              0.7777777777777778,
              "#fb9f3a"
             ],
             [
              0.8888888888888888,
              "#fdca26"
             ],
             [
              1,
              "#f0f921"
             ]
            ],
            "type": "contour"
           }
          ],
          "contourcarpet": [
           {
            "colorbar": {
             "outlinewidth": 0,
             "ticks": ""
            },
            "type": "contourcarpet"
           }
          ],
          "heatmap": [
           {
            "colorbar": {
             "outlinewidth": 0,
             "ticks": ""
            },
            "colorscale": [
             [
              0,
              "#0d0887"
             ],
             [
              0.1111111111111111,
              "#46039f"
             ],
             [
              0.2222222222222222,
              "#7201a8"
             ],
             [
              0.3333333333333333,
              "#9c179e"
             ],
             [
              0.4444444444444444,
              "#bd3786"
             ],
             [
              0.5555555555555556,
              "#d8576b"
             ],
             [
              0.6666666666666666,
              "#ed7953"
             ],
             [
              0.7777777777777778,
              "#fb9f3a"
             ],
             [
              0.8888888888888888,
              "#fdca26"
             ],
             [
              1,
              "#f0f921"
             ]
            ],
            "type": "heatmap"
           }
          ],
          "histogram": [
           {
            "marker": {
             "pattern": {
              "fillmode": "overlay",
              "size": 10,
              "solidity": 0.2
             }
            },
            "type": "histogram"
           }
          ],
          "histogram2d": [
           {
            "colorbar": {
             "outlinewidth": 0,
             "ticks": ""
            },
            "colorscale": [
             [
              0,
              "#0d0887"
             ],
             [
              0.1111111111111111,
              "#46039f"
             ],
             [
              0.2222222222222222,
              "#7201a8"
             ],
             [
              0.3333333333333333,
              "#9c179e"
             ],
             [
              0.4444444444444444,
              "#bd3786"
             ],
             [
              0.5555555555555556,
              "#d8576b"
             ],
             [
              0.6666666666666666,
              "#ed7953"
             ],
             [
              0.7777777777777778,
              "#fb9f3a"
             ],
             [
              0.8888888888888888,
              "#fdca26"
             ],
             [
              1,
              "#f0f921"
             ]
            ],
            "type": "histogram2d"
           }
          ],
          "histogram2dcontour": [
           {
            "colorbar": {
             "outlinewidth": 0,
             "ticks": ""
            },
            "colorscale": [
             [
              0,
              "#0d0887"
             ],
             [
              0.1111111111111111,
              "#46039f"
             ],
             [
              0.2222222222222222,
              "#7201a8"
             ],
             [
              0.3333333333333333,
              "#9c179e"
             ],
             [
              0.4444444444444444,
              "#bd3786"
             ],
             [
              0.5555555555555556,
              "#d8576b"
             ],
             [
              0.6666666666666666,
              "#ed7953"
             ],
             [
              0.7777777777777778,
              "#fb9f3a"
             ],
             [
              0.8888888888888888,
              "#fdca26"
             ],
             [
              1,
              "#f0f921"
             ]
            ],
            "type": "histogram2dcontour"
           }
          ],
          "mesh3d": [
           {
            "colorbar": {
             "outlinewidth": 0,
             "ticks": ""
            },
            "type": "mesh3d"
           }
          ],
          "parcoords": [
           {
            "line": {
             "colorbar": {
              "outlinewidth": 0,
              "ticks": ""
             }
            },
            "type": "parcoords"
           }
          ],
          "pie": [
           {
            "automargin": true,
            "type": "pie"
           }
          ],
          "scatter": [
           {
            "fillpattern": {
             "fillmode": "overlay",
             "size": 10,
             "solidity": 0.2
            },
            "type": "scatter"
           }
          ],
          "scatter3d": [
           {
            "line": {
             "colorbar": {
              "outlinewidth": 0,
              "ticks": ""
             }
            },
            "marker": {
             "colorbar": {
              "outlinewidth": 0,
              "ticks": ""
             }
            },
            "type": "scatter3d"
           }
          ],
          "scattercarpet": [
           {
            "marker": {
             "colorbar": {
              "outlinewidth": 0,
              "ticks": ""
             }
            },
            "type": "scattercarpet"
           }
          ],
          "scattergeo": [
           {
            "marker": {
             "colorbar": {
              "outlinewidth": 0,
              "ticks": ""
             }
            },
            "type": "scattergeo"
           }
          ],
          "scattergl": [
           {
            "marker": {
             "colorbar": {
              "outlinewidth": 0,
              "ticks": ""
             }
            },
            "type": "scattergl"
           }
          ],
          "scattermap": [
           {
            "marker": {
             "colorbar": {
              "outlinewidth": 0,
              "ticks": ""
             }
            },
            "type": "scattermap"
           }
          ],
          "scattermapbox": [
           {
            "marker": {
             "colorbar": {
              "outlinewidth": 0,
              "ticks": ""
             }
            },
            "type": "scattermapbox"
           }
          ],
          "scatterpolar": [
           {
            "marker": {
             "colorbar": {
              "outlinewidth": 0,
              "ticks": ""
             }
            },
            "type": "scatterpolar"
           }
          ],
          "scatterpolargl": [
           {
            "marker": {
             "colorbar": {
              "outlinewidth": 0,
              "ticks": ""
             }
            },
            "type": "scatterpolargl"
           }
          ],
          "scatterternary": [
           {
            "marker": {
             "colorbar": {
              "outlinewidth": 0,
              "ticks": ""
             }
            },
            "type": "scatterternary"
           }
          ],
          "surface": [
           {
            "colorbar": {
             "outlinewidth": 0,
             "ticks": ""
            },
            "colorscale": [
             [
              0,
              "#0d0887"
             ],
             [
              0.1111111111111111,
              "#46039f"
             ],
             [
              0.2222222222222222,
              "#7201a8"
             ],
             [
              0.3333333333333333,
              "#9c179e"
             ],
             [
              0.4444444444444444,
              "#bd3786"
             ],
             [
              0.5555555555555556,
              "#d8576b"
             ],
             [
              0.6666666666666666,
              "#ed7953"
             ],
             [
              0.7777777777777778,
              "#fb9f3a"
             ],
             [
              0.8888888888888888,
              "#fdca26"
             ],
             [
              1,
              "#f0f921"
             ]
            ],
            "type": "surface"
           }
          ],
          "table": [
           {
            "cells": {
             "fill": {
              "color": "#EBF0F8"
             },
             "line": {
              "color": "white"
             }
            },
            "header": {
             "fill": {
              "color": "#C8D4E3"
             },
             "line": {
              "color": "white"
             }
            },
            "type": "table"
           }
          ]
         },
         "layout": {
          "annotationdefaults": {
           "arrowcolor": "#2a3f5f",
           "arrowhead": 0,
           "arrowwidth": 1
          },
          "autotypenumbers": "strict",
          "coloraxis": {
           "colorbar": {
            "outlinewidth": 0,
            "ticks": ""
           }
          },
          "colorscale": {
           "diverging": [
            [
             0,
             "#8e0152"
            ],
            [
             0.1,
             "#c51b7d"
            ],
            [
             0.2,
             "#de77ae"
            ],
            [
             0.3,
             "#f1b6da"
            ],
            [
             0.4,
             "#fde0ef"
            ],
            [
             0.5,
             "#f7f7f7"
            ],
            [
             0.6,
             "#e6f5d0"
            ],
            [
             0.7,
             "#b8e186"
            ],
            [
             0.8,
             "#7fbc41"
            ],
            [
             0.9,
             "#4d9221"
            ],
            [
             1,
             "#276419"
            ]
           ],
           "sequential": [
            [
             0,
             "#0d0887"
            ],
            [
             0.1111111111111111,
             "#46039f"
            ],
            [
             0.2222222222222222,
             "#7201a8"
            ],
            [
             0.3333333333333333,
             "#9c179e"
            ],
            [
             0.4444444444444444,
             "#bd3786"
            ],
            [
             0.5555555555555556,
             "#d8576b"
            ],
            [
             0.6666666666666666,
             "#ed7953"
            ],
            [
             0.7777777777777778,
             "#fb9f3a"
            ],
            [
             0.8888888888888888,
             "#fdca26"
            ],
            [
             1,
             "#f0f921"
            ]
           ],
           "sequentialminus": [
            [
             0,
             "#0d0887"
            ],
            [
             0.1111111111111111,
             "#46039f"
            ],
            [
             0.2222222222222222,
             "#7201a8"
            ],
            [
             0.3333333333333333,
             "#9c179e"
            ],
            [
             0.4444444444444444,
             "#bd3786"
            ],
            [
             0.5555555555555556,
             "#d8576b"
            ],
            [
             0.6666666666666666,
             "#ed7953"
            ],
            [
             0.7777777777777778,
             "#fb9f3a"
            ],
            [
             0.8888888888888888,
             "#fdca26"
            ],
            [
             1,
             "#f0f921"
            ]
           ]
          },
          "colorway": [
           "#636efa",
           "#EF553B",
           "#00cc96",
           "#ab63fa",
           "#FFA15A",
           "#19d3f3",
           "#FF6692",
           "#B6E880",
           "#FF97FF",
           "#FECB52"
          ],
          "font": {
           "color": "#2a3f5f"
          },
          "geo": {
           "bgcolor": "white",
           "lakecolor": "white",
           "landcolor": "white",
           "showlakes": true,
           "showland": true,
           "subunitcolor": "#C8D4E3"
          },
          "hoverlabel": {
           "align": "left"
          },
          "hovermode": "closest",
          "mapbox": {
           "style": "light"
          },
          "paper_bgcolor": "white",
          "plot_bgcolor": "white",
          "polar": {
           "angularaxis": {
            "gridcolor": "#EBF0F8",
            "linecolor": "#EBF0F8",
            "ticks": ""
           },
           "bgcolor": "white",
           "radialaxis": {
            "gridcolor": "#EBF0F8",
            "linecolor": "#EBF0F8",
            "ticks": ""
           }
          },
          "scene": {
           "xaxis": {
            "backgroundcolor": "white",
            "gridcolor": "#DFE8F3",
            "gridwidth": 2,
            "linecolor": "#EBF0F8",
            "showbackground": true,
            "ticks": "",
            "zerolinecolor": "#EBF0F8"
           },
           "yaxis": {
            "backgroundcolor": "white",
            "gridcolor": "#DFE8F3",
            "gridwidth": 2,
            "linecolor": "#EBF0F8",
            "showbackground": true,
            "ticks": "",
            "zerolinecolor": "#EBF0F8"
           },
           "zaxis": {
            "backgroundcolor": "white",
            "gridcolor": "#DFE8F3",
            "gridwidth": 2,
            "linecolor": "#EBF0F8",
            "showbackground": true,
            "ticks": "",
            "zerolinecolor": "#EBF0F8"
           }
          },
          "shapedefaults": {
           "line": {
            "color": "#2a3f5f"
           }
          },
          "ternary": {
           "aaxis": {
            "gridcolor": "#DFE8F3",
            "linecolor": "#A2B1C6",
            "ticks": ""
           },
           "baxis": {
            "gridcolor": "#DFE8F3",
            "linecolor": "#A2B1C6",
            "ticks": ""
           },
           "bgcolor": "white",
           "caxis": {
            "gridcolor": "#DFE8F3",
            "linecolor": "#A2B1C6",
            "ticks": ""
           }
          },
          "title": {
           "x": 0.05
          },
          "xaxis": {
           "automargin": true,
           "gridcolor": "#EBF0F8",
           "linecolor": "#EBF0F8",
           "ticks": "",
           "title": {
            "standoff": 15
           },
           "zerolinecolor": "#EBF0F8",
           "zerolinewidth": 2
          },
          "yaxis": {
           "automargin": true,
           "gridcolor": "#EBF0F8",
           "linecolor": "#EBF0F8",
           "ticks": "",
           "title": {
            "standoff": 15
           },
           "zerolinecolor": "#EBF0F8",
           "zerolinewidth": 2
          }
         }
        },
        "title": {
         "text": "Top 20 Countries with most Billionaires"
        },
        "width": 1500,
        "xaxis": {
         "anchor": "y",
         "domain": [
          0,
          1
         ],
         "title": {
          "text": "Country"
         }
        },
        "yaxis": {
         "anchor": "x",
         "domain": [
          0,
          1
         ],
         "title": {
          "text": "Number of Billionaires"
         }
        }
       }
      }
     },
     "metadata": {},
     "output_type": "display_data"
    }
   ],
   "source": [
    "# Top 20 countries with most billionaires\n",
    "top_countries = df['Country'].value_counts().head(20).reset_index()\n",
    "top_countries.columns = ['Country', 'Number of Billionaires']\n",
    "fig = px.bar(\n",
    "    top_countries,\n",
    "    x= 'Country',\n",
    "    y = 'Number of Billionaires',\n",
    "    text = 'Number of Billionaires',\n",
    "    title = 'Top 20 Countries with most Billionaires',\n",
    "    color = 'Number of Billionaires',\n",
    "    labels = {'Number of Billionaires': 'Number of Billionaires'}\n",
    ")\n",
    "\n",
    "fig.update_traces(textposition = 'outside')\n",
    "fig.update_layout(\n",
    "    template = 'plotly_white',\n",
    "    width = 1500,\n",
    "    height = 500\n",
    ")\n",
    "fig.show()"
   ]
  },
  {
   "cell_type": "markdown",
   "metadata": {},
   "source": [
    "##### This bar chart showcases the top 20 countries with the highest number of billionaires. The United States stands out significantly, with 720 billionaires, showcasing its dominance in wealth accumulation driven by industries such as technology, finance, and retail. China follows with 610 billionaires, highlighting its rapid economic growth and the emergence of wealth in sectors like technology and manufacturing. India ranks third with 134 billionaires, reflecting its growing economy and success in technology and pharmaceuticals. Other countries, such as Russia and Germany, maintain a notable billionaire presence due to strong natural resources and industrial sectors. The chart demonstrates that while wealth is concentrated in a few major economies, smaller nations also contribute significantly to the global billionaire count, indicating diverse opportunities for wealth creation across regions."
   ]
  },
  {
   "cell_type": "code",
   "execution_count": 137,
   "metadata": {},
   "outputs": [
    {
     "data": {
      "application/vnd.plotly.v1+json": {
       "config": {
        "plotlyServerURL": "https://plot.ly"
       },
       "data": [
        {
         "hovertemplate": "Industry=%{x}<br>Number of Billionaires=%{marker.color}<extra></extra>",
         "legendgroup": "",
         "marker": {
          "color": {
           "bdata": "bQFjAT0BDAHVANMAzAC0AGMAXABJAEkAQwArACMAIAAZABgA",
           "dtype": "i2"
          },
          "coloraxis": "coloraxis",
          "pattern": {
           "shape": ""
          }
         },
         "name": "",
         "orientation": "v",
         "showlegend": false,
         "text": {
          "bdata": "AAAAAADQdkAAAAAAADB2QAAAAAAA0HNAAAAAAADAcEAAAAAAAKBqQAAAAAAAYGpAAAAAAACAaUAAAAAAAIBmQAAAAAAAwFhAAAAAAAAAV0AAAAAAAEBSQAAAAAAAQFJAAAAAAADAUEAAAAAAAIBFQAAAAAAAgEFAAAAAAAAAQEAAAAAAAAA5QAAAAAAAADhA",
          "dtype": "f8"
         },
         "textposition": "outside",
         "type": "bar",
         "x": [
          "Finance & Investments",
          "Technology",
          "Manufacturing",
          "Fashion & Retail",
          "Healthcare",
          "Real Estate",
          "Food & Beverage",
          "Diversified",
          "Energy",
          "Media & Entertainment",
          "Service",
          "Metals & Mining",
          "Automotive",
          "Construction & Engineering",
          "Logistics",
          "Telecom",
          "Gambling & Casinos",
          "Sports"
         ],
         "xaxis": "x",
         "y": {
          "bdata": "bQFjAT0BDAHVANMAzAC0AGMAXABJAEkAQwArACMAIAAZABgA",
          "dtype": "i2"
         },
         "yaxis": "y"
        }
       ],
       "layout": {
        "barmode": "relative",
        "coloraxis": {
         "colorbar": {
          "title": {
           "text": "Number of Billionaires"
          }
         },
         "colorscale": [
          [
           0,
           "#0d0887"
          ],
          [
           0.1111111111111111,
           "#46039f"
          ],
          [
           0.2222222222222222,
           "#7201a8"
          ],
          [
           0.3333333333333333,
           "#9c179e"
          ],
          [
           0.4444444444444444,
           "#bd3786"
          ],
          [
           0.5555555555555556,
           "#d8576b"
          ],
          [
           0.6666666666666666,
           "#ed7953"
          ],
          [
           0.7777777777777778,
           "#fb9f3a"
          ],
          [
           0.8888888888888888,
           "#fdca26"
          ],
          [
           1,
           "#f0f921"
          ]
         ]
        },
        "height": 500,
        "legend": {
         "tracegroupgap": 0
        },
        "template": {
         "data": {
          "bar": [
           {
            "error_x": {
             "color": "#2a3f5f"
            },
            "error_y": {
             "color": "#2a3f5f"
            },
            "marker": {
             "line": {
              "color": "white",
              "width": 0.5
             },
             "pattern": {
              "fillmode": "overlay",
              "size": 10,
              "solidity": 0.2
             }
            },
            "type": "bar"
           }
          ],
          "barpolar": [
           {
            "marker": {
             "line": {
              "color": "white",
              "width": 0.5
             },
             "pattern": {
              "fillmode": "overlay",
              "size": 10,
              "solidity": 0.2
             }
            },
            "type": "barpolar"
           }
          ],
          "carpet": [
           {
            "aaxis": {
             "endlinecolor": "#2a3f5f",
             "gridcolor": "#C8D4E3",
             "linecolor": "#C8D4E3",
             "minorgridcolor": "#C8D4E3",
             "startlinecolor": "#2a3f5f"
            },
            "baxis": {
             "endlinecolor": "#2a3f5f",
             "gridcolor": "#C8D4E3",
             "linecolor": "#C8D4E3",
             "minorgridcolor": "#C8D4E3",
             "startlinecolor": "#2a3f5f"
            },
            "type": "carpet"
           }
          ],
          "choropleth": [
           {
            "colorbar": {
             "outlinewidth": 0,
             "ticks": ""
            },
            "type": "choropleth"
           }
          ],
          "contour": [
           {
            "colorbar": {
             "outlinewidth": 0,
             "ticks": ""
            },
            "colorscale": [
             [
              0,
              "#0d0887"
             ],
             [
              0.1111111111111111,
              "#46039f"
             ],
             [
              0.2222222222222222,
              "#7201a8"
             ],
             [
              0.3333333333333333,
              "#9c179e"
             ],
             [
              0.4444444444444444,
              "#bd3786"
             ],
             [
              0.5555555555555556,
              "#d8576b"
             ],
             [
              0.6666666666666666,
              "#ed7953"
             ],
             [
              0.7777777777777778,
              "#fb9f3a"
             ],
             [
              0.8888888888888888,
              "#fdca26"
             ],
             [
              1,
              "#f0f921"
             ]
            ],
            "type": "contour"
           }
          ],
          "contourcarpet": [
           {
            "colorbar": {
             "outlinewidth": 0,
             "ticks": ""
            },
            "type": "contourcarpet"
           }
          ],
          "heatmap": [
           {
            "colorbar": {
             "outlinewidth": 0,
             "ticks": ""
            },
            "colorscale": [
             [
              0,
              "#0d0887"
             ],
             [
              0.1111111111111111,
              "#46039f"
             ],
             [
              0.2222222222222222,
              "#7201a8"
             ],
             [
              0.3333333333333333,
              "#9c179e"
             ],
             [
              0.4444444444444444,
              "#bd3786"
             ],
             [
              0.5555555555555556,
              "#d8576b"
             ],
             [
              0.6666666666666666,
              "#ed7953"
             ],
             [
              0.7777777777777778,
              "#fb9f3a"
             ],
             [
              0.8888888888888888,
              "#fdca26"
             ],
             [
              1,
              "#f0f921"
             ]
            ],
            "type": "heatmap"
           }
          ],
          "histogram": [
           {
            "marker": {
             "pattern": {
              "fillmode": "overlay",
              "size": 10,
              "solidity": 0.2
             }
            },
            "type": "histogram"
           }
          ],
          "histogram2d": [
           {
            "colorbar": {
             "outlinewidth": 0,
             "ticks": ""
            },
            "colorscale": [
             [
              0,
              "#0d0887"
             ],
             [
              0.1111111111111111,
              "#46039f"
             ],
             [
              0.2222222222222222,
              "#7201a8"
             ],
             [
              0.3333333333333333,
              "#9c179e"
             ],
             [
              0.4444444444444444,
              "#bd3786"
             ],
             [
              0.5555555555555556,
              "#d8576b"
             ],
             [
              0.6666666666666666,
              "#ed7953"
             ],
             [
              0.7777777777777778,
              "#fb9f3a"
             ],
             [
              0.8888888888888888,
              "#fdca26"
             ],
             [
              1,
              "#f0f921"
             ]
            ],
            "type": "histogram2d"
           }
          ],
          "histogram2dcontour": [
           {
            "colorbar": {
             "outlinewidth": 0,
             "ticks": ""
            },
            "colorscale": [
             [
              0,
              "#0d0887"
             ],
             [
              0.1111111111111111,
              "#46039f"
             ],
             [
              0.2222222222222222,
              "#7201a8"
             ],
             [
              0.3333333333333333,
              "#9c179e"
             ],
             [
              0.4444444444444444,
              "#bd3786"
             ],
             [
              0.5555555555555556,
              "#d8576b"
             ],
             [
              0.6666666666666666,
              "#ed7953"
             ],
             [
              0.7777777777777778,
              "#fb9f3a"
             ],
             [
              0.8888888888888888,
              "#fdca26"
             ],
             [
              1,
              "#f0f921"
             ]
            ],
            "type": "histogram2dcontour"
           }
          ],
          "mesh3d": [
           {
            "colorbar": {
             "outlinewidth": 0,
             "ticks": ""
            },
            "type": "mesh3d"
           }
          ],
          "parcoords": [
           {
            "line": {
             "colorbar": {
              "outlinewidth": 0,
              "ticks": ""
             }
            },
            "type": "parcoords"
           }
          ],
          "pie": [
           {
            "automargin": true,
            "type": "pie"
           }
          ],
          "scatter": [
           {
            "fillpattern": {
             "fillmode": "overlay",
             "size": 10,
             "solidity": 0.2
            },
            "type": "scatter"
           }
          ],
          "scatter3d": [
           {
            "line": {
             "colorbar": {
              "outlinewidth": 0,
              "ticks": ""
             }
            },
            "marker": {
             "colorbar": {
              "outlinewidth": 0,
              "ticks": ""
             }
            },
            "type": "scatter3d"
           }
          ],
          "scattercarpet": [
           {
            "marker": {
             "colorbar": {
              "outlinewidth": 0,
              "ticks": ""
             }
            },
            "type": "scattercarpet"
           }
          ],
          "scattergeo": [
           {
            "marker": {
             "colorbar": {
              "outlinewidth": 0,
              "ticks": ""
             }
            },
            "type": "scattergeo"
           }
          ],
          "scattergl": [
           {
            "marker": {
             "colorbar": {
              "outlinewidth": 0,
              "ticks": ""
             }
            },
            "type": "scattergl"
           }
          ],
          "scattermap": [
           {
            "marker": {
             "colorbar": {
              "outlinewidth": 0,
              "ticks": ""
             }
            },
            "type": "scattermap"
           }
          ],
          "scattermapbox": [
           {
            "marker": {
             "colorbar": {
              "outlinewidth": 0,
              "ticks": ""
             }
            },
            "type": "scattermapbox"
           }
          ],
          "scatterpolar": [
           {
            "marker": {
             "colorbar": {
              "outlinewidth": 0,
              "ticks": ""
             }
            },
            "type": "scatterpolar"
           }
          ],
          "scatterpolargl": [
           {
            "marker": {
             "colorbar": {
              "outlinewidth": 0,
              "ticks": ""
             }
            },
            "type": "scatterpolargl"
           }
          ],
          "scatterternary": [
           {
            "marker": {
             "colorbar": {
              "outlinewidth": 0,
              "ticks": ""
             }
            },
            "type": "scatterternary"
           }
          ],
          "surface": [
           {
            "colorbar": {
             "outlinewidth": 0,
             "ticks": ""
            },
            "colorscale": [
             [
              0,
              "#0d0887"
             ],
             [
              0.1111111111111111,
              "#46039f"
             ],
             [
              0.2222222222222222,
              "#7201a8"
             ],
             [
              0.3333333333333333,
              "#9c179e"
             ],
             [
              0.4444444444444444,
              "#bd3786"
             ],
             [
              0.5555555555555556,
              "#d8576b"
             ],
             [
              0.6666666666666666,
              "#ed7953"
             ],
             [
              0.7777777777777778,
              "#fb9f3a"
             ],
             [
              0.8888888888888888,
              "#fdca26"
             ],
             [
              1,
              "#f0f921"
             ]
            ],
            "type": "surface"
           }
          ],
          "table": [
           {
            "cells": {
             "fill": {
              "color": "#EBF0F8"
             },
             "line": {
              "color": "white"
             }
            },
            "header": {
             "fill": {
              "color": "#C8D4E3"
             },
             "line": {
              "color": "white"
             }
            },
            "type": "table"
           }
          ]
         },
         "layout": {
          "annotationdefaults": {
           "arrowcolor": "#2a3f5f",
           "arrowhead": 0,
           "arrowwidth": 1
          },
          "autotypenumbers": "strict",
          "coloraxis": {
           "colorbar": {
            "outlinewidth": 0,
            "ticks": ""
           }
          },
          "colorscale": {
           "diverging": [
            [
             0,
             "#8e0152"
            ],
            [
             0.1,
             "#c51b7d"
            ],
            [
             0.2,
             "#de77ae"
            ],
            [
             0.3,
             "#f1b6da"
            ],
            [
             0.4,
             "#fde0ef"
            ],
            [
             0.5,
             "#f7f7f7"
            ],
            [
             0.6,
             "#e6f5d0"
            ],
            [
             0.7,
             "#b8e186"
            ],
            [
             0.8,
             "#7fbc41"
            ],
            [
             0.9,
             "#4d9221"
            ],
            [
             1,
             "#276419"
            ]
           ],
           "sequential": [
            [
             0,
             "#0d0887"
            ],
            [
             0.1111111111111111,
             "#46039f"
            ],
            [
             0.2222222222222222,
             "#7201a8"
            ],
            [
             0.3333333333333333,
             "#9c179e"
            ],
            [
             0.4444444444444444,
             "#bd3786"
            ],
            [
             0.5555555555555556,
             "#d8576b"
            ],
            [
             0.6666666666666666,
             "#ed7953"
            ],
            [
             0.7777777777777778,
             "#fb9f3a"
            ],
            [
             0.8888888888888888,
             "#fdca26"
            ],
            [
             1,
             "#f0f921"
            ]
           ],
           "sequentialminus": [
            [
             0,
             "#0d0887"
            ],
            [
             0.1111111111111111,
             "#46039f"
            ],
            [
             0.2222222222222222,
             "#7201a8"
            ],
            [
             0.3333333333333333,
             "#9c179e"
            ],
            [
             0.4444444444444444,
             "#bd3786"
            ],
            [
             0.5555555555555556,
             "#d8576b"
            ],
            [
             0.6666666666666666,
             "#ed7953"
            ],
            [
             0.7777777777777778,
             "#fb9f3a"
            ],
            [
             0.8888888888888888,
             "#fdca26"
            ],
            [
             1,
             "#f0f921"
            ]
           ]
          },
          "colorway": [
           "#636efa",
           "#EF553B",
           "#00cc96",
           "#ab63fa",
           "#FFA15A",
           "#19d3f3",
           "#FF6692",
           "#B6E880",
           "#FF97FF",
           "#FECB52"
          ],
          "font": {
           "color": "#2a3f5f"
          },
          "geo": {
           "bgcolor": "white",
           "lakecolor": "white",
           "landcolor": "white",
           "showlakes": true,
           "showland": true,
           "subunitcolor": "#C8D4E3"
          },
          "hoverlabel": {
           "align": "left"
          },
          "hovermode": "closest",
          "mapbox": {
           "style": "light"
          },
          "paper_bgcolor": "white",
          "plot_bgcolor": "white",
          "polar": {
           "angularaxis": {
            "gridcolor": "#EBF0F8",
            "linecolor": "#EBF0F8",
            "ticks": ""
           },
           "bgcolor": "white",
           "radialaxis": {
            "gridcolor": "#EBF0F8",
            "linecolor": "#EBF0F8",
            "ticks": ""
           }
          },
          "scene": {
           "xaxis": {
            "backgroundcolor": "white",
            "gridcolor": "#DFE8F3",
            "gridwidth": 2,
            "linecolor": "#EBF0F8",
            "showbackground": true,
            "ticks": "",
            "zerolinecolor": "#EBF0F8"
           },
           "yaxis": {
            "backgroundcolor": "white",
            "gridcolor": "#DFE8F3",
            "gridwidth": 2,
            "linecolor": "#EBF0F8",
            "showbackground": true,
            "ticks": "",
            "zerolinecolor": "#EBF0F8"
           },
           "zaxis": {
            "backgroundcolor": "white",
            "gridcolor": "#DFE8F3",
            "gridwidth": 2,
            "linecolor": "#EBF0F8",
            "showbackground": true,
            "ticks": "",
            "zerolinecolor": "#EBF0F8"
           }
          },
          "shapedefaults": {
           "line": {
            "color": "#2a3f5f"
           }
          },
          "ternary": {
           "aaxis": {
            "gridcolor": "#DFE8F3",
            "linecolor": "#A2B1C6",
            "ticks": ""
           },
           "baxis": {
            "gridcolor": "#DFE8F3",
            "linecolor": "#A2B1C6",
            "ticks": ""
           },
           "bgcolor": "white",
           "caxis": {
            "gridcolor": "#DFE8F3",
            "linecolor": "#A2B1C6",
            "ticks": ""
           }
          },
          "title": {
           "x": 0.05
          },
          "xaxis": {
           "automargin": true,
           "gridcolor": "#EBF0F8",
           "linecolor": "#EBF0F8",
           "ticks": "",
           "title": {
            "standoff": 15
           },
           "zerolinecolor": "#EBF0F8",
           "zerolinewidth": 2
          },
          "yaxis": {
           "automargin": true,
           "gridcolor": "#EBF0F8",
           "linecolor": "#EBF0F8",
           "ticks": "",
           "title": {
            "standoff": 15
           },
           "zerolinecolor": "#EBF0F8",
           "zerolinewidth": 2
          }
         }
        },
        "title": {
         "text": "Top (20) countries with the most Billionaires"
        },
        "width": 1500,
        "xaxis": {
         "anchor": "y",
         "domain": [
          0,
          1
         ],
         "tickangle": -45,
         "title": {
          "text": "Industry"
         }
        },
        "yaxis": {
         "anchor": "x",
         "domain": [
          0,
          1
         ],
         "title": {
          "text": "Number of Billionaires"
         }
        }
       }
      }
     },
     "metadata": {},
     "output_type": "display_data"
    }
   ],
   "source": [
    "# Top Industries with most billionaires\n",
    "top_industries = df['Industry'].value_counts().head(20).reset_index()\n",
    "top_industries.columns = ['Industry', 'Number of Billionaires']\n",
    "fig = px.bar(\n",
    "    top_industries,\n",
    "    x = 'Industry',\n",
    "    y = 'Number of Billionaires',\n",
    "    text = 'Number of Billionaires',\n",
    "    color = 'Number of Billionaires',\n",
    "    title = 'Top (20) countries with the most Billionaires',\n",
    "    labels={'Number of Billionaires': 'Number of Billionaires'}\n",
    ")\n",
    "\n",
    "fig.update_traces(textposition='outside')\n",
    "fig.update_layout(template='plotly_white', \n",
    "                  xaxis_tickangle=-45,\n",
    "                  height = 500,\n",
    "                  width = 1500)\n",
    "fig.show()"
   ]
  },
  {
   "cell_type": "markdown",
   "metadata": {},
   "source": [
    "##### The bar chart illustrates the distribution of billionaires across the top 20 industries, highlighting the dominance of Finance & Investments with 369 billionaires, followed closely by Technology with 355 billionaires. These two sectors underscore their role as wealth generators, driven by innovations, market growth, and global influence. Manufacturing ranks third with 317 billionaires, reflecting its historical role in wealth creation. Other prominent industries include Fashion & Retail (268 billionaires) and Healthcare (213 billionaires), showcasing the importance of consumer-driven and essential sectors. While industries like Energy (99 billionaires) and Media & Entertainment (92 billionaires) contribute significantly, sectors like Construction & Engineering and Sports maintain a smaller billionaire presence, likely due to specialized markets. The chart emphasizes the diverse avenues of wealth creation, with a clear concentration in sectors driven by innovation, investment, and consumer demand."
   ]
  },
  {
   "cell_type": "code",
   "execution_count": 138,
   "metadata": {},
   "outputs": [
    {
     "data": {
      "application/vnd.plotly.v1+json": {
       "config": {
        "plotlyServerURL": "https://plot.ly"
       },
       "data": [
        {
         "hovertemplate": "Age=%{x}<br>Number of Billionaires=%{y}<extra></extra>",
         "legendgroup": "",
         "line": {
          "color": "#636efa",
          "dash": "solid"
         },
         "marker": {
          "symbol": "circle"
         },
         "mode": "lines+markers",
         "name": "",
         "orientation": "v",
         "showlegend": false,
         "type": "scatter",
         "x": {
          "bdata": "AAAAAAAAMkAAAAAAAAA4QAAAAAAAADlAAAAAAAAAOkAAAAAAAAA7QAAAAAAAADxAAAAAAAAAPUAAAAAAAAA+QAAAAAAAAD9AAAAAAAAAQEAAAAAAAIBAQAAAAAAAAEFAAAAAAACAQUAAAAAAAABCQAAAAAAAgEJAAAAAAAAAQ0AAAAAAAIBDQAAAAAAAAERAAAAAAACAREAAAAAAAABFQAAAAAAAgEVAAAAAAAAARkAAAAAAAIBGQAAAAAAAAEdAAAAAAACAR0AAAAAAAABIQAAAAAAAgEhAAAAAAAAASUAAAAAAAIBJQAAAAAAAAEpAAAAAAACASkAAAAAAAABLQAAAAAAAgEtAAAAAAAAATEAAAAAAAIBMQAAAAAAAAE1AAAAAAACATUAAAAAAAABOQAAAAAAAgE5AAAAAAAAAT0AAAAAAAIBPQAAAAAAAAFBAAAAAAABAUEAAAAAAAIBQQAAAAAAAwFBAAAAAAAAAUUAAAAAAAEBRQAAAAAAAgFFAAAAAAADAUUAAAAAAAABSQAAAAAAAQFJAAAAAAACAUkAAAAAAAMBSQAAAAAAAAFNAAAAAAABAU0AAAAAAAIBTQAAAAAAAwFNAAAAAAAAAVEAAAAAAAEBUQAAAAAAAgFRAAAAAAADAVEAAAAAAAABVQAAAAAAAQFVAAAAAAACAVUAAAAAAAMBVQAAAAAAAAFZAAAAAAABAVkAAAAAAAIBWQAAAAAAAwFZAAAAAAAAAV0AAAAAAAEBXQAAAAAAAgFdAAAAAAADAV0AAAAAAAABYQAAAAAAAQFhAAAAAAADAWEA=",
          "dtype": "f8"
         },
         "xaxis": "x",
         "y": {
          "bdata": "AQIBAQECAgUEBQIIBg0KFRYPEhEZIB4YKjAsOkQ4TERNVF1cVTpBM0BERERKOkFBTjMzNj06Ki8tMSEYHRQeFRAVDg8NDgkGBQQDAQ==",
          "dtype": "i1"
         },
         "yaxis": "y"
        }
       ],
       "layout": {
        "height": 500,
        "legend": {
         "tracegroupgap": 0
        },
        "template": {
         "data": {
          "bar": [
           {
            "error_x": {
             "color": "#2a3f5f"
            },
            "error_y": {
             "color": "#2a3f5f"
            },
            "marker": {
             "line": {
              "color": "white",
              "width": 0.5
             },
             "pattern": {
              "fillmode": "overlay",
              "size": 10,
              "solidity": 0.2
             }
            },
            "type": "bar"
           }
          ],
          "barpolar": [
           {
            "marker": {
             "line": {
              "color": "white",
              "width": 0.5
             },
             "pattern": {
              "fillmode": "overlay",
              "size": 10,
              "solidity": 0.2
             }
            },
            "type": "barpolar"
           }
          ],
          "carpet": [
           {
            "aaxis": {
             "endlinecolor": "#2a3f5f",
             "gridcolor": "#C8D4E3",
             "linecolor": "#C8D4E3",
             "minorgridcolor": "#C8D4E3",
             "startlinecolor": "#2a3f5f"
            },
            "baxis": {
             "endlinecolor": "#2a3f5f",
             "gridcolor": "#C8D4E3",
             "linecolor": "#C8D4E3",
             "minorgridcolor": "#C8D4E3",
             "startlinecolor": "#2a3f5f"
            },
            "type": "carpet"
           }
          ],
          "choropleth": [
           {
            "colorbar": {
             "outlinewidth": 0,
             "ticks": ""
            },
            "type": "choropleth"
           }
          ],
          "contour": [
           {
            "colorbar": {
             "outlinewidth": 0,
             "ticks": ""
            },
            "colorscale": [
             [
              0,
              "#0d0887"
             ],
             [
              0.1111111111111111,
              "#46039f"
             ],
             [
              0.2222222222222222,
              "#7201a8"
             ],
             [
              0.3333333333333333,
              "#9c179e"
             ],
             [
              0.4444444444444444,
              "#bd3786"
             ],
             [
              0.5555555555555556,
              "#d8576b"
             ],
             [
              0.6666666666666666,
              "#ed7953"
             ],
             [
              0.7777777777777778,
              "#fb9f3a"
             ],
             [
              0.8888888888888888,
              "#fdca26"
             ],
             [
              1,
              "#f0f921"
             ]
            ],
            "type": "contour"
           }
          ],
          "contourcarpet": [
           {
            "colorbar": {
             "outlinewidth": 0,
             "ticks": ""
            },
            "type": "contourcarpet"
           }
          ],
          "heatmap": [
           {
            "colorbar": {
             "outlinewidth": 0,
             "ticks": ""
            },
            "colorscale": [
             [
              0,
              "#0d0887"
             ],
             [
              0.1111111111111111,
              "#46039f"
             ],
             [
              0.2222222222222222,
              "#7201a8"
             ],
             [
              0.3333333333333333,
              "#9c179e"
             ],
             [
              0.4444444444444444,
              "#bd3786"
             ],
             [
              0.5555555555555556,
              "#d8576b"
             ],
             [
              0.6666666666666666,
              "#ed7953"
             ],
             [
              0.7777777777777778,
              "#fb9f3a"
             ],
             [
              0.8888888888888888,
              "#fdca26"
             ],
             [
              1,
              "#f0f921"
             ]
            ],
            "type": "heatmap"
           }
          ],
          "histogram": [
           {
            "marker": {
             "pattern": {
              "fillmode": "overlay",
              "size": 10,
              "solidity": 0.2
             }
            },
            "type": "histogram"
           }
          ],
          "histogram2d": [
           {
            "colorbar": {
             "outlinewidth": 0,
             "ticks": ""
            },
            "colorscale": [
             [
              0,
              "#0d0887"
             ],
             [
              0.1111111111111111,
              "#46039f"
             ],
             [
              0.2222222222222222,
              "#7201a8"
             ],
             [
              0.3333333333333333,
              "#9c179e"
             ],
             [
              0.4444444444444444,
              "#bd3786"
             ],
             [
              0.5555555555555556,
              "#d8576b"
             ],
             [
              0.6666666666666666,
              "#ed7953"
             ],
             [
              0.7777777777777778,
              "#fb9f3a"
             ],
             [
              0.8888888888888888,
              "#fdca26"
             ],
             [
              1,
              "#f0f921"
             ]
            ],
            "type": "histogram2d"
           }
          ],
          "histogram2dcontour": [
           {
            "colorbar": {
             "outlinewidth": 0,
             "ticks": ""
            },
            "colorscale": [
             [
              0,
              "#0d0887"
             ],
             [
              0.1111111111111111,
              "#46039f"
             ],
             [
              0.2222222222222222,
              "#7201a8"
             ],
             [
              0.3333333333333333,
              "#9c179e"
             ],
             [
              0.4444444444444444,
              "#bd3786"
             ],
             [
              0.5555555555555556,
              "#d8576b"
             ],
             [
              0.6666666666666666,
              "#ed7953"
             ],
             [
              0.7777777777777778,
              "#fb9f3a"
             ],
             [
              0.8888888888888888,
              "#fdca26"
             ],
             [
              1,
              "#f0f921"
             ]
            ],
            "type": "histogram2dcontour"
           }
          ],
          "mesh3d": [
           {
            "colorbar": {
             "outlinewidth": 0,
             "ticks": ""
            },
            "type": "mesh3d"
           }
          ],
          "parcoords": [
           {
            "line": {
             "colorbar": {
              "outlinewidth": 0,
              "ticks": ""
             }
            },
            "type": "parcoords"
           }
          ],
          "pie": [
           {
            "automargin": true,
            "type": "pie"
           }
          ],
          "scatter": [
           {
            "fillpattern": {
             "fillmode": "overlay",
             "size": 10,
             "solidity": 0.2
            },
            "type": "scatter"
           }
          ],
          "scatter3d": [
           {
            "line": {
             "colorbar": {
              "outlinewidth": 0,
              "ticks": ""
             }
            },
            "marker": {
             "colorbar": {
              "outlinewidth": 0,
              "ticks": ""
             }
            },
            "type": "scatter3d"
           }
          ],
          "scattercarpet": [
           {
            "marker": {
             "colorbar": {
              "outlinewidth": 0,
              "ticks": ""
             }
            },
            "type": "scattercarpet"
           }
          ],
          "scattergeo": [
           {
            "marker": {
             "colorbar": {
              "outlinewidth": 0,
              "ticks": ""
             }
            },
            "type": "scattergeo"
           }
          ],
          "scattergl": [
           {
            "marker": {
             "colorbar": {
              "outlinewidth": 0,
              "ticks": ""
             }
            },
            "type": "scattergl"
           }
          ],
          "scattermap": [
           {
            "marker": {
             "colorbar": {
              "outlinewidth": 0,
              "ticks": ""
             }
            },
            "type": "scattermap"
           }
          ],
          "scattermapbox": [
           {
            "marker": {
             "colorbar": {
              "outlinewidth": 0,
              "ticks": ""
             }
            },
            "type": "scattermapbox"
           }
          ],
          "scatterpolar": [
           {
            "marker": {
             "colorbar": {
              "outlinewidth": 0,
              "ticks": ""
             }
            },
            "type": "scatterpolar"
           }
          ],
          "scatterpolargl": [
           {
            "marker": {
             "colorbar": {
              "outlinewidth": 0,
              "ticks": ""
             }
            },
            "type": "scatterpolargl"
           }
          ],
          "scatterternary": [
           {
            "marker": {
             "colorbar": {
              "outlinewidth": 0,
              "ticks": ""
             }
            },
            "type": "scatterternary"
           }
          ],
          "surface": [
           {
            "colorbar": {
             "outlinewidth": 0,
             "ticks": ""
            },
            "colorscale": [
             [
              0,
              "#0d0887"
             ],
             [
              0.1111111111111111,
              "#46039f"
             ],
             [
              0.2222222222222222,
              "#7201a8"
             ],
             [
              0.3333333333333333,
              "#9c179e"
             ],
             [
              0.4444444444444444,
              "#bd3786"
             ],
             [
              0.5555555555555556,
              "#d8576b"
             ],
             [
              0.6666666666666666,
              "#ed7953"
             ],
             [
              0.7777777777777778,
              "#fb9f3a"
             ],
             [
              0.8888888888888888,
              "#fdca26"
             ],
             [
              1,
              "#f0f921"
             ]
            ],
            "type": "surface"
           }
          ],
          "table": [
           {
            "cells": {
             "fill": {
              "color": "#EBF0F8"
             },
             "line": {
              "color": "white"
             }
            },
            "header": {
             "fill": {
              "color": "#C8D4E3"
             },
             "line": {
              "color": "white"
             }
            },
            "type": "table"
           }
          ]
         },
         "layout": {
          "annotationdefaults": {
           "arrowcolor": "#2a3f5f",
           "arrowhead": 0,
           "arrowwidth": 1
          },
          "autotypenumbers": "strict",
          "coloraxis": {
           "colorbar": {
            "outlinewidth": 0,
            "ticks": ""
           }
          },
          "colorscale": {
           "diverging": [
            [
             0,
             "#8e0152"
            ],
            [
             0.1,
             "#c51b7d"
            ],
            [
             0.2,
             "#de77ae"
            ],
            [
             0.3,
             "#f1b6da"
            ],
            [
             0.4,
             "#fde0ef"
            ],
            [
             0.5,
             "#f7f7f7"
            ],
            [
             0.6,
             "#e6f5d0"
            ],
            [
             0.7,
             "#b8e186"
            ],
            [
             0.8,
             "#7fbc41"
            ],
            [
             0.9,
             "#4d9221"
            ],
            [
             1,
             "#276419"
            ]
           ],
           "sequential": [
            [
             0,
             "#0d0887"
            ],
            [
             0.1111111111111111,
             "#46039f"
            ],
            [
             0.2222222222222222,
             "#7201a8"
            ],
            [
             0.3333333333333333,
             "#9c179e"
            ],
            [
             0.4444444444444444,
             "#bd3786"
            ],
            [
             0.5555555555555556,
             "#d8576b"
            ],
            [
             0.6666666666666666,
             "#ed7953"
            ],
            [
             0.7777777777777778,
             "#fb9f3a"
            ],
            [
             0.8888888888888888,
             "#fdca26"
            ],
            [
             1,
             "#f0f921"
            ]
           ],
           "sequentialminus": [
            [
             0,
             "#0d0887"
            ],
            [
             0.1111111111111111,
             "#46039f"
            ],
            [
             0.2222222222222222,
             "#7201a8"
            ],
            [
             0.3333333333333333,
             "#9c179e"
            ],
            [
             0.4444444444444444,
             "#bd3786"
            ],
            [
             0.5555555555555556,
             "#d8576b"
            ],
            [
             0.6666666666666666,
             "#ed7953"
            ],
            [
             0.7777777777777778,
             "#fb9f3a"
            ],
            [
             0.8888888888888888,
             "#fdca26"
            ],
            [
             1,
             "#f0f921"
            ]
           ]
          },
          "colorway": [
           "#636efa",
           "#EF553B",
           "#00cc96",
           "#ab63fa",
           "#FFA15A",
           "#19d3f3",
           "#FF6692",
           "#B6E880",
           "#FF97FF",
           "#FECB52"
          ],
          "font": {
           "color": "#2a3f5f"
          },
          "geo": {
           "bgcolor": "white",
           "lakecolor": "white",
           "landcolor": "white",
           "showlakes": true,
           "showland": true,
           "subunitcolor": "#C8D4E3"
          },
          "hoverlabel": {
           "align": "left"
          },
          "hovermode": "closest",
          "mapbox": {
           "style": "light"
          },
          "paper_bgcolor": "white",
          "plot_bgcolor": "white",
          "polar": {
           "angularaxis": {
            "gridcolor": "#EBF0F8",
            "linecolor": "#EBF0F8",
            "ticks": ""
           },
           "bgcolor": "white",
           "radialaxis": {
            "gridcolor": "#EBF0F8",
            "linecolor": "#EBF0F8",
            "ticks": ""
           }
          },
          "scene": {
           "xaxis": {
            "backgroundcolor": "white",
            "gridcolor": "#DFE8F3",
            "gridwidth": 2,
            "linecolor": "#EBF0F8",
            "showbackground": true,
            "ticks": "",
            "zerolinecolor": "#EBF0F8"
           },
           "yaxis": {
            "backgroundcolor": "white",
            "gridcolor": "#DFE8F3",
            "gridwidth": 2,
            "linecolor": "#EBF0F8",
            "showbackground": true,
            "ticks": "",
            "zerolinecolor": "#EBF0F8"
           },
           "zaxis": {
            "backgroundcolor": "white",
            "gridcolor": "#DFE8F3",
            "gridwidth": 2,
            "linecolor": "#EBF0F8",
            "showbackground": true,
            "ticks": "",
            "zerolinecolor": "#EBF0F8"
           }
          },
          "shapedefaults": {
           "line": {
            "color": "#2a3f5f"
           }
          },
          "ternary": {
           "aaxis": {
            "gridcolor": "#DFE8F3",
            "linecolor": "#A2B1C6",
            "ticks": ""
           },
           "baxis": {
            "gridcolor": "#DFE8F3",
            "linecolor": "#A2B1C6",
            "ticks": ""
           },
           "bgcolor": "white",
           "caxis": {
            "gridcolor": "#DFE8F3",
            "linecolor": "#A2B1C6",
            "ticks": ""
           }
          },
          "title": {
           "x": 0.05
          },
          "xaxis": {
           "automargin": true,
           "gridcolor": "#EBF0F8",
           "linecolor": "#EBF0F8",
           "ticks": "",
           "title": {
            "standoff": 15
           },
           "zerolinecolor": "#EBF0F8",
           "zerolinewidth": 2
          },
          "yaxis": {
           "automargin": true,
           "gridcolor": "#EBF0F8",
           "linecolor": "#EBF0F8",
           "ticks": "",
           "title": {
            "standoff": 15
           },
           "zerolinecolor": "#EBF0F8",
           "zerolinewidth": 2
          }
         }
        },
        "title": {
         "text": "Age Distribution of Billionaires"
        },
        "width": 1500,
        "xaxis": {
         "anchor": "y",
         "domain": [
          0,
          1
         ],
         "tickmode": "linear",
         "title": {
          "text": "Age"
         }
        },
        "yaxis": {
         "anchor": "x",
         "domain": [
          0,
          1
         ],
         "title": {
          "text": "Number of Billionaires"
         }
        }
       }
      }
     },
     "metadata": {},
     "output_type": "display_data"
    }
   ],
   "source": [
    "# Visualization of the AGe distribution of the billionaires age\n",
    "age_distribution = df['Age'].value_counts().reset_index()\n",
    "age_distribution.columns = ['Age', 'Count']\n",
    "age_distribution = age_distribution.sort_values(by ='Age')\n",
    "fig =px.line(\n",
    "    age_distribution,\n",
    "    x = 'Age',\n",
    "    y = 'Count',\n",
    "    title = 'Age Distribution of Billionaires',\n",
    "    labels={'Age': 'Age', 'Count': 'Number of Billionaires'},\n",
    "    markers = True\n",
    ")\n",
    "\n",
    "fig.update_layout(template = 'plotly_white',\n",
    "                  width = 1500,\n",
    "                  height = 500,\n",
    "                  xaxis=dict(tickmode='linear'),\n",
    "                  yaxis_title = 'Number of Billionaires')\n",
    "\n",
    "fig.show()"
   ]
  },
  {
   "cell_type": "markdown",
   "metadata": {},
   "source": [
    "##### The 2D line plot of the age distribution of billionaires reveals some interesting patterns. The number of billionaires starts to increase significantly around the age of 30, with a sharp rise peaking between the ages of 55 and 60. This indicates that most billionaires accumulate significant wealth during their middle age, likely due to career growth, business successes, or investments maturing. After age 60, the number of billionaires gradually declines, reflecting aging and possible wealth redistribution among heirs. The graph also shows a low frequency of very young (below 30) and very old (above 80) billionaires, suggesting that wealth accumulation typically takes time and is influenced by generational and lifecycle factors."
   ]
  },
  {
   "cell_type": "code",
   "execution_count": 141,
   "metadata": {},
   "outputs": [
    {
     "data": {
      "application/vnd.plotly.v1+json": {
       "config": {
        "plotlyServerURL": "https://plot.ly"
       },
       "data": [
        {
         "hovertemplate": "Billionaire=%{x}<br>Net Worth (in Billion USD)=%{marker.color}<extra></extra>",
         "legendgroup": "",
         "marker": {
          "color": {
           "bdata": "AAAAAAAgZkAAAAAAAOBiQAAAAAAAwGJAAAAAAAAAX0AAAAAAAEBYQAAAAAAAAFhAAAAAAABAV0AAAAAAAOBWQAAAAAAAQFZAAAAAAAAgVUAAAAAAAEBTQGZmZmZmZlJAmpmZmZk5UUDNzMzMzCxRQDMzMzMzc1BAZmZmZmZmT0BmZmZmZuZOQJqZmZmZGU5AAAAAAADATUAAAAAAAIBNQA==",
           "dtype": "f8"
          },
          "coloraxis": "coloraxis",
          "pattern": {
           "shape": ""
          }
         },
         "name": "",
         "orientation": "v",
         "showlegend": false,
         "text": {
          "bdata": "AAAAAAAgZkAAAAAAAOBiQAAAAAAAwGJAAAAAAAAAX0AAAAAAAEBYQAAAAAAAAFhAAAAAAABAV0AAAAAAAOBWQAAAAAAAQFZAAAAAAAAgVUAAAAAAAEBTQGZmZmZmZlJAmpmZmZk5UUDNzMzMzCxRQDMzMzMzc1BAZmZmZmZmT0BmZmZmZuZOQJqZmZmZGU5AAAAAAADATUAAAAAAAIBNQA==",
          "dtype": "f8"
         },
         "textposition": "outside",
         "type": "bar",
         "x": [
          "Jeff Bezos",
          "Elon Musk",
          "Bernard Arnault & family",
          "Bill Gates",
          "Mark Zuckerberg",
          "Warren Buffett",
          "Larry Ellison",
          "Larry Page",
          "Sergey Brin",
          "Mukesh Ambani",
          "Amancio Ortega",
          "Francoise Bettencourt Meyers & family",
          "Zhong Shanshan",
          "Steve Ballmer",
          "Ma Huateng",
          "Carlos Slim Helu & family",
          "Alice Walton",
          "Jim Walton",
          "Rob Walton",
          "Michael Bloomberg"
         ],
         "xaxis": "x",
         "y": {
          "bdata": "AAAAAAAgZkAAAAAAAOBiQAAAAAAAwGJAAAAAAAAAX0AAAAAAAEBYQAAAAAAAAFhAAAAAAABAV0AAAAAAAOBWQAAAAAAAQFZAAAAAAAAgVUAAAAAAAEBTQGZmZmZmZlJAmpmZmZk5UUDNzMzMzCxRQDMzMzMzc1BAZmZmZmZmT0BmZmZmZuZOQJqZmZmZGU5AAAAAAADATUAAAAAAAIBNQA==",
          "dtype": "f8"
         },
         "yaxis": "y"
        }
       ],
       "layout": {
        "barmode": "relative",
        "coloraxis": {
         "colorbar": {
          "title": {
           "text": "Net Worth (in Billion USD)"
          }
         },
         "colorscale": [
          [
           0,
           "#0d0887"
          ],
          [
           0.1111111111111111,
           "#46039f"
          ],
          [
           0.2222222222222222,
           "#7201a8"
          ],
          [
           0.3333333333333333,
           "#9c179e"
          ],
          [
           0.4444444444444444,
           "#bd3786"
          ],
          [
           0.5555555555555556,
           "#d8576b"
          ],
          [
           0.6666666666666666,
           "#ed7953"
          ],
          [
           0.7777777777777778,
           "#fb9f3a"
          ],
          [
           0.8888888888888888,
           "#fdca26"
          ],
          [
           1,
           "#f0f921"
          ]
         ]
        },
        "height": 500,
        "legend": {
         "tracegroupgap": 0
        },
        "template": {
         "data": {
          "bar": [
           {
            "error_x": {
             "color": "#2a3f5f"
            },
            "error_y": {
             "color": "#2a3f5f"
            },
            "marker": {
             "line": {
              "color": "white",
              "width": 0.5
             },
             "pattern": {
              "fillmode": "overlay",
              "size": 10,
              "solidity": 0.2
             }
            },
            "type": "bar"
           }
          ],
          "barpolar": [
           {
            "marker": {
             "line": {
              "color": "white",
              "width": 0.5
             },
             "pattern": {
              "fillmode": "overlay",
              "size": 10,
              "solidity": 0.2
             }
            },
            "type": "barpolar"
           }
          ],
          "carpet": [
           {
            "aaxis": {
             "endlinecolor": "#2a3f5f",
             "gridcolor": "#C8D4E3",
             "linecolor": "#C8D4E3",
             "minorgridcolor": "#C8D4E3",
             "startlinecolor": "#2a3f5f"
            },
            "baxis": {
             "endlinecolor": "#2a3f5f",
             "gridcolor": "#C8D4E3",
             "linecolor": "#C8D4E3",
             "minorgridcolor": "#C8D4E3",
             "startlinecolor": "#2a3f5f"
            },
            "type": "carpet"
           }
          ],
          "choropleth": [
           {
            "colorbar": {
             "outlinewidth": 0,
             "ticks": ""
            },
            "type": "choropleth"
           }
          ],
          "contour": [
           {
            "colorbar": {
             "outlinewidth": 0,
             "ticks": ""
            },
            "colorscale": [
             [
              0,
              "#0d0887"
             ],
             [
              0.1111111111111111,
              "#46039f"
             ],
             [
              0.2222222222222222,
              "#7201a8"
             ],
             [
              0.3333333333333333,
              "#9c179e"
             ],
             [
              0.4444444444444444,
              "#bd3786"
             ],
             [
              0.5555555555555556,
              "#d8576b"
             ],
             [
              0.6666666666666666,
              "#ed7953"
             ],
             [
              0.7777777777777778,
              "#fb9f3a"
             ],
             [
              0.8888888888888888,
              "#fdca26"
             ],
             [
              1,
              "#f0f921"
             ]
            ],
            "type": "contour"
           }
          ],
          "contourcarpet": [
           {
            "colorbar": {
             "outlinewidth": 0,
             "ticks": ""
            },
            "type": "contourcarpet"
           }
          ],
          "heatmap": [
           {
            "colorbar": {
             "outlinewidth": 0,
             "ticks": ""
            },
            "colorscale": [
             [
              0,
              "#0d0887"
             ],
             [
              0.1111111111111111,
              "#46039f"
             ],
             [
              0.2222222222222222,
              "#7201a8"
             ],
             [
              0.3333333333333333,
              "#9c179e"
             ],
             [
              0.4444444444444444,
              "#bd3786"
             ],
             [
              0.5555555555555556,
              "#d8576b"
             ],
             [
              0.6666666666666666,
              "#ed7953"
             ],
             [
              0.7777777777777778,
              "#fb9f3a"
             ],
             [
              0.8888888888888888,
              "#fdca26"
             ],
             [
              1,
              "#f0f921"
             ]
            ],
            "type": "heatmap"
           }
          ],
          "histogram": [
           {
            "marker": {
             "pattern": {
              "fillmode": "overlay",
              "size": 10,
              "solidity": 0.2
             }
            },
            "type": "histogram"
           }
          ],
          "histogram2d": [
           {
            "colorbar": {
             "outlinewidth": 0,
             "ticks": ""
            },
            "colorscale": [
             [
              0,
              "#0d0887"
             ],
             [
              0.1111111111111111,
              "#46039f"
             ],
             [
              0.2222222222222222,
              "#7201a8"
             ],
             [
              0.3333333333333333,
              "#9c179e"
             ],
             [
              0.4444444444444444,
              "#bd3786"
             ],
             [
              0.5555555555555556,
              "#d8576b"
             ],
             [
              0.6666666666666666,
              "#ed7953"
             ],
             [
              0.7777777777777778,
              "#fb9f3a"
             ],
             [
              0.8888888888888888,
              "#fdca26"
             ],
             [
              1,
              "#f0f921"
             ]
            ],
            "type": "histogram2d"
           }
          ],
          "histogram2dcontour": [
           {
            "colorbar": {
             "outlinewidth": 0,
             "ticks": ""
            },
            "colorscale": [
             [
              0,
              "#0d0887"
             ],
             [
              0.1111111111111111,
              "#46039f"
             ],
             [
              0.2222222222222222,
              "#7201a8"
             ],
             [
              0.3333333333333333,
              "#9c179e"
             ],
             [
              0.4444444444444444,
              "#bd3786"
             ],
             [
              0.5555555555555556,
              "#d8576b"
             ],
             [
              0.6666666666666666,
              "#ed7953"
             ],
             [
              0.7777777777777778,
              "#fb9f3a"
             ],
             [
              0.8888888888888888,
              "#fdca26"
             ],
             [
              1,
              "#f0f921"
             ]
            ],
            "type": "histogram2dcontour"
           }
          ],
          "mesh3d": [
           {
            "colorbar": {
             "outlinewidth": 0,
             "ticks": ""
            },
            "type": "mesh3d"
           }
          ],
          "parcoords": [
           {
            "line": {
             "colorbar": {
              "outlinewidth": 0,
              "ticks": ""
             }
            },
            "type": "parcoords"
           }
          ],
          "pie": [
           {
            "automargin": true,
            "type": "pie"
           }
          ],
          "scatter": [
           {
            "fillpattern": {
             "fillmode": "overlay",
             "size": 10,
             "solidity": 0.2
            },
            "type": "scatter"
           }
          ],
          "scatter3d": [
           {
            "line": {
             "colorbar": {
              "outlinewidth": 0,
              "ticks": ""
             }
            },
            "marker": {
             "colorbar": {
              "outlinewidth": 0,
              "ticks": ""
             }
            },
            "type": "scatter3d"
           }
          ],
          "scattercarpet": [
           {
            "marker": {
             "colorbar": {
              "outlinewidth": 0,
              "ticks": ""
             }
            },
            "type": "scattercarpet"
           }
          ],
          "scattergeo": [
           {
            "marker": {
             "colorbar": {
              "outlinewidth": 0,
              "ticks": ""
             }
            },
            "type": "scattergeo"
           }
          ],
          "scattergl": [
           {
            "marker": {
             "colorbar": {
              "outlinewidth": 0,
              "ticks": ""
             }
            },
            "type": "scattergl"
           }
          ],
          "scattermap": [
           {
            "marker": {
             "colorbar": {
              "outlinewidth": 0,
              "ticks": ""
             }
            },
            "type": "scattermap"
           }
          ],
          "scattermapbox": [
           {
            "marker": {
             "colorbar": {
              "outlinewidth": 0,
              "ticks": ""
             }
            },
            "type": "scattermapbox"
           }
          ],
          "scatterpolar": [
           {
            "marker": {
             "colorbar": {
              "outlinewidth": 0,
              "ticks": ""
             }
            },
            "type": "scatterpolar"
           }
          ],
          "scatterpolargl": [
           {
            "marker": {
             "colorbar": {
              "outlinewidth": 0,
              "ticks": ""
             }
            },
            "type": "scatterpolargl"
           }
          ],
          "scatterternary": [
           {
            "marker": {
             "colorbar": {
              "outlinewidth": 0,
              "ticks": ""
             }
            },
            "type": "scatterternary"
           }
          ],
          "surface": [
           {
            "colorbar": {
             "outlinewidth": 0,
             "ticks": ""
            },
            "colorscale": [
             [
              0,
              "#0d0887"
             ],
             [
              0.1111111111111111,
              "#46039f"
             ],
             [
              0.2222222222222222,
              "#7201a8"
             ],
             [
              0.3333333333333333,
              "#9c179e"
             ],
             [
              0.4444444444444444,
              "#bd3786"
             ],
             [
              0.5555555555555556,
              "#d8576b"
             ],
             [
              0.6666666666666666,
              "#ed7953"
             ],
             [
              0.7777777777777778,
              "#fb9f3a"
             ],
             [
              0.8888888888888888,
              "#fdca26"
             ],
             [
              1,
              "#f0f921"
             ]
            ],
            "type": "surface"
           }
          ],
          "table": [
           {
            "cells": {
             "fill": {
              "color": "#EBF0F8"
             },
             "line": {
              "color": "white"
             }
            },
            "header": {
             "fill": {
              "color": "#C8D4E3"
             },
             "line": {
              "color": "white"
             }
            },
            "type": "table"
           }
          ]
         },
         "layout": {
          "annotationdefaults": {
           "arrowcolor": "#2a3f5f",
           "arrowhead": 0,
           "arrowwidth": 1
          },
          "autotypenumbers": "strict",
          "coloraxis": {
           "colorbar": {
            "outlinewidth": 0,
            "ticks": ""
           }
          },
          "colorscale": {
           "diverging": [
            [
             0,
             "#8e0152"
            ],
            [
             0.1,
             "#c51b7d"
            ],
            [
             0.2,
             "#de77ae"
            ],
            [
             0.3,
             "#f1b6da"
            ],
            [
             0.4,
             "#fde0ef"
            ],
            [
             0.5,
             "#f7f7f7"
            ],
            [
             0.6,
             "#e6f5d0"
            ],
            [
             0.7,
             "#b8e186"
            ],
            [
             0.8,
             "#7fbc41"
            ],
            [
             0.9,
             "#4d9221"
            ],
            [
             1,
             "#276419"
            ]
           ],
           "sequential": [
            [
             0,
             "#0d0887"
            ],
            [
             0.1111111111111111,
             "#46039f"
            ],
            [
             0.2222222222222222,
             "#7201a8"
            ],
            [
             0.3333333333333333,
             "#9c179e"
            ],
            [
             0.4444444444444444,
             "#bd3786"
            ],
            [
             0.5555555555555556,
             "#d8576b"
            ],
            [
             0.6666666666666666,
             "#ed7953"
            ],
            [
             0.7777777777777778,
             "#fb9f3a"
            ],
            [
             0.8888888888888888,
             "#fdca26"
            ],
            [
             1,
             "#f0f921"
            ]
           ],
           "sequentialminus": [
            [
             0,
             "#0d0887"
            ],
            [
             0.1111111111111111,
             "#46039f"
            ],
            [
             0.2222222222222222,
             "#7201a8"
            ],
            [
             0.3333333333333333,
             "#9c179e"
            ],
            [
             0.4444444444444444,
             "#bd3786"
            ],
            [
             0.5555555555555556,
             "#d8576b"
            ],
            [
             0.6666666666666666,
             "#ed7953"
            ],
            [
             0.7777777777777778,
             "#fb9f3a"
            ],
            [
             0.8888888888888888,
             "#fdca26"
            ],
            [
             1,
             "#f0f921"
            ]
           ]
          },
          "colorway": [
           "#636efa",
           "#EF553B",
           "#00cc96",
           "#ab63fa",
           "#FFA15A",
           "#19d3f3",
           "#FF6692",
           "#B6E880",
           "#FF97FF",
           "#FECB52"
          ],
          "font": {
           "color": "#2a3f5f"
          },
          "geo": {
           "bgcolor": "white",
           "lakecolor": "white",
           "landcolor": "white",
           "showlakes": true,
           "showland": true,
           "subunitcolor": "#C8D4E3"
          },
          "hoverlabel": {
           "align": "left"
          },
          "hovermode": "closest",
          "mapbox": {
           "style": "light"
          },
          "paper_bgcolor": "white",
          "plot_bgcolor": "white",
          "polar": {
           "angularaxis": {
            "gridcolor": "#EBF0F8",
            "linecolor": "#EBF0F8",
            "ticks": ""
           },
           "bgcolor": "white",
           "radialaxis": {
            "gridcolor": "#EBF0F8",
            "linecolor": "#EBF0F8",
            "ticks": ""
           }
          },
          "scene": {
           "xaxis": {
            "backgroundcolor": "white",
            "gridcolor": "#DFE8F3",
            "gridwidth": 2,
            "linecolor": "#EBF0F8",
            "showbackground": true,
            "ticks": "",
            "zerolinecolor": "#EBF0F8"
           },
           "yaxis": {
            "backgroundcolor": "white",
            "gridcolor": "#DFE8F3",
            "gridwidth": 2,
            "linecolor": "#EBF0F8",
            "showbackground": true,
            "ticks": "",
            "zerolinecolor": "#EBF0F8"
           },
           "zaxis": {
            "backgroundcolor": "white",
            "gridcolor": "#DFE8F3",
            "gridwidth": 2,
            "linecolor": "#EBF0F8",
            "showbackground": true,
            "ticks": "",
            "zerolinecolor": "#EBF0F8"
           }
          },
          "shapedefaults": {
           "line": {
            "color": "#2a3f5f"
           }
          },
          "ternary": {
           "aaxis": {
            "gridcolor": "#DFE8F3",
            "linecolor": "#A2B1C6",
            "ticks": ""
           },
           "baxis": {
            "gridcolor": "#DFE8F3",
            "linecolor": "#A2B1C6",
            "ticks": ""
           },
           "bgcolor": "white",
           "caxis": {
            "gridcolor": "#DFE8F3",
            "linecolor": "#A2B1C6",
            "ticks": ""
           }
          },
          "title": {
           "x": 0.05
          },
          "xaxis": {
           "automargin": true,
           "gridcolor": "#EBF0F8",
           "linecolor": "#EBF0F8",
           "ticks": "",
           "title": {
            "standoff": 15
           },
           "zerolinecolor": "#EBF0F8",
           "zerolinewidth": 2
          },
          "yaxis": {
           "automargin": true,
           "gridcolor": "#EBF0F8",
           "linecolor": "#EBF0F8",
           "ticks": "",
           "title": {
            "standoff": 15
           },
           "zerolinecolor": "#EBF0F8",
           "zerolinewidth": 2
          }
         }
        },
        "title": {
         "text": "Top 20 Richest Billionaires"
        },
        "width": 1500,
        "xaxis": {
         "anchor": "y",
         "domain": [
          0,
          1
         ],
         "tickangle": -45,
         "title": {
          "text": "Billionaire"
         }
        },
        "yaxis": {
         "anchor": "x",
         "domain": [
          0,
          1
         ],
         "title": {
          "text": "Net Worth (in Billion USD)"
         }
        }
       }
      }
     },
     "metadata": {},
     "output_type": "display_data"
    }
   ],
   "source": [
    "# Top 10 richest billionaires\n",
    "top_richest = df.nlargest(20, 'NetWorth')[['Name', 'NetWorth']]\n",
    "\n",
    "# Create interactive bar chart\n",
    "fig = px.bar(\n",
    "    top_richest,\n",
    "    x='Name',\n",
    "    y='NetWorth',\n",
    "    title='Top 20 Richest Billionaires',\n",
    "    text='NetWorth',\n",
    "    color='NetWorth',\n",
    "    labels={'NetWorth': 'Net Worth (in Billion USD)', 'Name': 'Billionaire'}\n",
    ")\n",
    "\n",
    "fig.update_traces(textposition='outside')\n",
    "fig.update_layout(template='plotly_white', \n",
    "                  xaxis_tickangle=-45,\n",
    "                  width = 1500,\n",
    "                  height = 500)\n",
    "fig.show()\n"
   ]
  },
  {
   "cell_type": "code",
   "execution_count": 145,
   "metadata": {},
   "outputs": [
    {
     "data": {
      "application/vnd.plotly.v1+json": {
       "config": {
        "plotlyServerURL": "https://plot.ly"
       },
       "data": [
        {
         "customdata": [
          [
           "Jeff Bezos"
          ],
          [
           "Bill Gates"
          ],
          [
           "Mark Zuckerberg"
          ],
          [
           "Larry Ellison"
          ],
          [
           "Larry Page"
          ],
          [
           "Sergey Brin"
          ],
          [
           "Steve Ballmer"
          ],
          [
           "Ma Huateng"
          ],
          [
           "Colin Zheng Huang"
          ],
          [
           "MacKenzie Scott"
          ],
          [
           "Jack Ma"
          ],
          [
           "Michael Dell"
          ],
          [
           "Zhang Yiming"
          ],
          [
           "William Lei Ding"
          ],
          [
           "Wang Xing"
          ],
          [
           "Shiv Nadar"
          ],
          [
           "Zhang Zhidong"
          ],
          [
           "Lei Jun"
          ],
          [
           "Richard Qiangdong Liu"
          ],
          [
           "Pierre Omidyar"
          ],
          [
           "Laurene Powell Jobs & family"
          ],
          [
           "Eric Schmidt"
          ],
          [
           "Robert Pera"
          ],
          [
           "Dustin Moskovitz"
          ],
          [
           "Pavel Durov"
          ],
          [
           "Zhou Qunfei & family"
          ],
          [
           "Eric Yuan & family"
          ],
          [
           "Robin Li"
          ],
          [
           "Eduardo Saverin"
          ],
          [
           "Mike Cannon-Brookes"
          ],
          [
           "Scott Farquhar"
          ],
          [
           "Brian Chesky"
          ],
          [
           "David Duffield"
          ],
          [
           "Kim Jung-ju"
          ],
          [
           "Jack Dorsey"
          ],
          [
           "Nathan Blecharczyk"
          ],
          [
           "John Doerr"
          ],
          [
           "Joe Gebbia"
          ],
          [
           "Gordon Moore"
          ],
          [
           "Bobby Murphy"
          ],
          [
           "Jensen Huang"
          ],
          [
           "Joseph Tsai"
          ],
          [
           "Evan Spiegel"
          ],
          [
           "Wang Laisheng"
          ],
          [
           "Wang Laichun"
          ],
          [
           "Qi Shi & family"
          ],
          [
           "Dietmar Hopp & family"
          ],
          [
           "Jay Chaudhry"
          ],
          [
           "Jan Koum"
          ],
          [
           "Tobi Lutke"
          ],
          [
           "Kim Beom-su"
          ],
          [
           "David Sun"
          ],
          [
           "John Tu"
          ],
          [
           "David Cheriton"
          ],
          [
           "Lin Bin"
          ],
          [
           "Liu Jincheng & family"
          ],
          [
           "Azim Premji"
          ],
          [
           "Marc Benioff"
          ],
          [
           "Hasso Plattner & family"
          ],
          [
           "Andreas von Bechtolsheim & family"
          ],
          [
           "Anthony Wood"
          ],
          [
           "Terry Gou"
          ],
          [
           "Kwon Hyuk-bin"
          ],
          [
           "Wang Wenjing"
          ],
          [
           "Zeng Fangqin"
          ],
          [
           "James Goodnight"
          ],
          [
           "Jiang Bin"
          ],
          [
           "Huang Li"
          ],
          [
           "Henry Samueli"
          ],
          [
           "Robert Brockman"
          ],
          [
           "Daniel Dines"
          ],
          [
           "Judy Faulkner"
          ],
          [
           "Martin Lorentzon"
          ],
          [
           "Jeff Skoll"
          ],
          [
           "Meg Whitman"
          ],
          [
           "Michael Moritz"
          ],
          [
           "Jack Dangermond"
          ],
          [
           "Dagmar Dolby & family"
          ],
          [
           "Mu Rongjun"
          ],
          [
           "Henry Nicholas, III."
          ],
          [
           "Barry Lam"
          ],
          [
           "Pierre Chen"
          ],
          [
           "Jason Chang"
          ],
          [
           "Lin Xiucheng & family"
          ],
          [
           "Charles Simonyi"
          ],
          [
           "Thomas Siebel"
          ],
          [
           "Zhang Fan"
          ],
          [
           "Alan Trefler"
          ],
          [
           "Frank Wang"
          ],
          [
           "Daniel Ek"
          ],
          [
           "Luis Frias"
          ],
          [
           "Peter Gassner"
          ],
          [
           "Min Kao & family"
          ],
          [
           "Garrett Camp"
          ],
          [
           "Ralph Dommermuth"
          ],
          [
           "Eric Lefkofsky"
          ],
          [
           "Scott Cook"
          ],
          [
           "Fu Liquan & family"
          ],
          [
           "Martin Lau"
          ],
          [
           "Ken Xie"
          ],
          [
           "Steven Meng Yang & family"
          ],
          [
           "Margot Birmingham Perot"
          ],
          [
           "Matthew Calkins"
          ],
          [
           "Martin Haefner"
          ],
          [
           "Hong Ra-hee"
          ],
          [
           "Melissa Ma"
          ],
          [
           "Georg Nemetschek & family"
          ],
          [
           "Masahiro Noda"
          ],
          [
           "Zhou Hongyi"
          ],
          [
           "Ben Silbermann"
          ],
          [
           "Yi Zheng"
          ],
          [
           "Sergey Dmitriev"
          ],
          [
           "Jeff Rothschild"
          ],
          [
           "David Steward"
          ],
          [
           "Steve Conine"
          ],
          [
           "Niraj Shah"
          ],
          [
           "David Filo"
          ],
          [
           "Jim McKelvey"
          ],
          [
           "Apoorva Mehta"
          ],
          [
           "N.R. Narayana Murthy"
          ],
          [
           "Arnout Schuijff"
          ],
          [
           "Romesh T. Wadhwani"
          ],
          [
           "Benjamin Zhengmin Pan & family"
          ],
          [
           "Eric Ya Shen"
          ],
          [
           "Senapathy Gopalakrishnan"
          ],
          [
           "Qi Xiangdong"
          ],
          [
           "John Collison"
          ],
          [
           "Patrick Collison"
          ],
          [
           "He Zhaoxi"
          ],
          [
           "Thai Lee"
          ],
          [
           "John Sall"
          ],
          [
           "Chi Yufeng"
          ],
          [
           "Li Zhongchu"
          ],
          [
           "Ben Chestnut"
          ],
          [
           "George Kurtz"
          ],
          [
           "Dan Kurzius"
          ],
          [
           "Joseph Liemandt"
          ],
          [
           "Gil Shwed"
          ],
          [
           "Tian Ming"
          ],
          [
           "Richard White"
          ],
          [
           "Sanjeev Bikhchandani"
          ],
          [
           "Hu Yangzhong"
          ],
          [
           "Lucy Peng"
          ],
          [
           "Chad Richison"
          ],
          [
           "Paul Sciarra"
          ],
          [
           "Aneel Bhusri"
          ],
          [
           "Eva Maria Bucher-Haefner"
          ],
          [
           "Morris Chang"
          ],
          [
           "Chen Tianshi"
          ],
          [
           "James Clark"
          ],
          [
           "Travis Kalanick"
          ],
          [
           "Xiong Wu"
          ],
          [
           "Tony Xu"
          ],
          [
           "Xu Zhihan"
          ],
          [
           "Vinod Khosla"
          ],
          [
           "Valentin Kipyatkov"
          ],
          [
           "Sean Parker"
          ],
          [
           "Tsai Ming-kai"
          ],
          [
           "Brian Acton"
          ],
          [
           "K.C. Liu"
          ],
          [
           "Yuji Otsuka"
          ],
          [
           "Steven Sarowitz"
          ],
          [
           "Pieter van der Does"
          ],
          [
           "Evan Williams"
          ],
          [
           "Jim Breyer"
          ],
          [
           "Byju Raveendran and Divya Gokulnath"
          ],
          [
           "Chang Jing"
          ],
          [
           "Hans-Werner Hector"
          ],
          [
           "Lee Hae-jin"
          ],
          [
           "Nandan Nilekani"
          ],
          [
           "Matthew Prince"
          ],
          [
           "Kavitark Ram Shriram"
          ],
          [
           "André Street"
          ],
          [
           "Xu Shaochun"
          ],
          [
           "Eduardo de Pontes"
          ],
          [
           "Chetan Dube"
          ],
          [
           "William Stone"
          ],
          [
           "Zhao Hongfei"
          ],
          [
           "Bang Jun-hyuk"
          ],
          [
           "Chen Zhisong"
          ],
          [
           "Jared Isaacman"
          ],
          [
           "Jim Kavanaugh"
          ],
          [
           "David Xueling Li"
          ],
          [
           "Michael Saylor"
          ],
          [
           "Wu Zhongyi"
          ],
          [
           "Jerry Yang"
          ],
          [
           "Zhang Xuezheng"
          ],
          [
           "Bruce Cheng"
          ],
          [
           "K. Dinesh"
          ],
          [
           "Serge Godin"
          ],
          [
           "Leo Koguan"
          ],
          [
           "Jeff Lawson"
          ],
          [
           "Scott Lin"
          ],
          [
           "Bob Parsons"
          ],
          [
           "Phillip T. (Terry) Ragon"
          ],
          [
           "Vlad Shmunis"
          ],
          [
           "Shintaro Yamada"
          ],
          [
           "Diao Zhizhong"
          ],
          [
           "Michael Federmann & family"
          ],
          [
           "Hong Feng"
          ],
          [
           "Alexander Karp"
          ],
          [
           "Mark Leonard & family"
          ],
          [
           "Li Wanqiang"
          ],
          [
           "Li Weiwei"
          ],
          [
           "Wang Minwen"
          ],
          [
           "Michael Xie"
          ],
          [
           "Pavel Baudis"
          ],
          [
           "Andy Fang"
          ],
          [
           "Orion Hindawi"
          ],
          [
           "Reid Hoffman"
          ],
          [
           "Robert Miller"
          ],
          [
           "Stanley Tang"
          ],
          [
           "Xue Xiangdong & family"
          ],
          [
           "Andrey Andreev"
          ],
          [
           "Thierry Cruanes"
          ],
          [
           "Benoit Dageville"
          ],
          [
           "Gao Yu"
          ],
          [
           "Alexis Lê-Quôc"
          ],
          [
           "Li Min"
          ],
          [
           "Yusaku Maezawa"
          ],
          [
           "Olivier Pomel"
          ],
          [
           "S.D. Shibulal"
          ],
          [
           "Frank Slootman"
          ],
          [
           "Kevin Systrom"
          ],
          [
           "Patrizio Vinciarelli"
          ],
          [
           "Wang Jian"
          ],
          [
           "Zeng Kaitian"
          ],
          [
           "Joachim Ante"
          ],
          [
           "Cai Mingtong"
          ],
          [
           "Ali Ghodsi"
          ],
          [
           "David Hindawi"
          ],
          [
           "Drew Houston"
          ],
          [
           "Wei Lidong & family"
          ],
          [
           "Zhao Weiguo"
          ],
          [
           "Stewart Butterfield"
          ],
          [
           "Tony Chen"
          ],
          [
           "Chen Wenyuan & family"
          ],
          [
           "Patrick Hanrahan"
          ],
          [
           "Eric Jing"
          ],
          [
           "Kagemasa Kozuki"
          ],
          [
           "Lee Joon-ho"
          ],
          [
           "Bill Liu"
          ],
          [
           "Todd McKinnon"
          ],
          [
           "Sheryl Sandberg"
          ],
          [
           "Peter Szulczewski"
          ],
          [
           "Huang Zhengcong"
          ],
          [
           "Liu Yingqi"
          ],
          [
           "Mao Lixiang & family"
          ],
          [
           "Shen Hua & family"
          ],
          [
           "Shigefumi Wada"
          ],
          [
           "Wang Yiran"
          ],
          [
           "David Zalik"
          ],
          [
           "Zhang Shilong & family"
          ],
          [
           "Steve Case"
          ],
          [
           "Safra Catz"
          ],
          [
           "Chen Xiaohui"
          ],
          [
           "Bharat Desai"
          ],
          [
           "John Foley"
          ],
          [
           "Geng Diangen"
          ],
          [
           "Marius Nacht"
          ],
          [
           "Mark Pincus"
          ],
          [
           "Steven Schuurman"
          ],
          [
           "Ryan Smith"
          ],
          [
           "Sun Qinghuan"
          ],
          [
           "Sun Yonghui"
          ],
          [
           "Radha Vembu"
          ],
          [
           "Wang Huiwen"
          ],
          [
           "Wang Yaohai"
          ],
          [
           "Jane Yan & family"
          ],
          [
           "Zhou Jian"
          ],
          [
           "Zhu Yiming"
          ],
          [
           "Chen Qixing"
          ],
          [
           "Huang Xiaofen & family"
          ],
          [
           "Archie Hwang"
          ],
          [
           "Liang Qin & family"
          ],
          [
           "John Ocampo"
          ],
          [
           "Jonathan Oringer"
          ],
          [
           "Oliver Samwer"
          ],
          [
           "Jayshree Ullal"
          ],
          [
           "Swift Xie"
          ],
          [
           "Zheng Hong & family"
          ],
          [
           "Tim Cook"
          ],
          [
           "Feng Chenhui"
          ],
          [
           "Feng Yi"
          ],
          [
           "Huang Shan"
          ],
          [
           "Peter Kelly"
          ],
          [
           "Michael Krasny"
          ],
          [
           "Zhaoxi Lu"
          ],
          [
           "Bob Muglia"
          ],
          [
           "Qiu Minxiu"
          ],
          [
           "Shao Xiaofeng"
          ],
          [
           "Shi Xu"
          ],
          [
           "Jared Smith"
          ],
          [
           "Tang Zhuang"
          ],
          [
           "Whitney Wolfe Herd"
          ],
          [
           "Xia Shudong"
          ],
          [
           "Ye Qiongjiu"
          ],
          [
           "Shay Banon"
          ],
          [
           "Chen Tianqiao"
          ],
          [
           "Chey Ki-won"
          ],
          [
           "Ronald Clarke"
          ],
          [
           "Deng Hui & family"
          ],
          [
           "Ryan Graves"
          ],
          [
           "Huang Shanbing & family"
          ],
          [
           "Eugene Kaspersky"
          ],
          [
           "Kim Dae-il"
          ],
          [
           "Koo Bon-joon"
          ],
          [
           "Koo Bon-sik"
          ],
          [
           "Frederic Luddy"
          ],
          [
           "Taichiro Motoe"
          ],
          [
           "Simon Nixon"
          ],
          [
           "Alexander Samwer"
          ],
          [
           "Marc Samwer"
          ],
          [
           "James Scapa"
          ],
          [
           "Mike Speiser"
          ],
          [
           "Nik Storonsky"
          ],
          [
           "Wang Jianyi"
          ],
          [
           "Zhao Dongping"
          ],
          [
           "Zhou Ruxin"
          ],
          [
           "Binny Bansal"
          ],
          [
           "John Bicket"
          ],
          [
           "Sanjit Biswas"
          ],
          [
           "Trudy Shan Dai"
          ],
          [
           "Weili Dai"
          ],
          [
           "Jiang Xuefei & family"
          ],
          [
           "Kenji Kasahara"
          ],
          [
           "Eduard Kucera"
          ],
          [
           "Li Qiong"
          ],
          [
           "Takanori Nakamura"
          ],
          [
           "Qiu Lingyun"
          ],
          [
           "Daisuke Sasaki"
          ],
          [
           "Neerja Sethi"
          ],
          [
           "Sehat Sutardja"
          ],
          [
           "Yoshikazu Tanaka"
          ],
          [
           "Sekar Vembu"
          ],
          [
           "Wang Jianliang"
          ],
          [
           "Wu Eddie Yongming"
          ],
          [
           "Yao Lisheng"
          ],
          [
           "Tony Zhao"
          ],
          [
           "Zhou Yahui"
          ],
          [
           "Chang Byung-gyu"
          ],
          [
           "David Helgason"
          ],
          [
           "Jiang Long"
          ],
          [
           "Morris Kahn"
          ],
          [
           "Bom Kim"
          ],
          [
           "Masatoshi Kumagai"
          ],
          [
           "Liu Qingfeng"
          ],
          [
           "Scott Smith"
          ],
          [
           "Tong Judy Wenhong"
          ],
          [
           "Vlad Vendrow & family"
          ],
          [
           "Wang Wenjian"
          ],
          [
           "Xia Zhisheng & family"
          ],
          [
           "Mark Haoyong Yang"
          ],
          [
           "Daniel Yong Zhang"
          ],
          [
           "Zhou Wei family"
          ]
         ],
         "hovertemplate": "Industry=Technology<br>Age=%{x}<br>Net Worth (in Billion USD)=%{y}<br>Name=%{customdata[0]}<extra></extra>",
         "legendgroup": "Technology",
         "marker": {
          "color": "#636efa",
          "symbol": "circle"
         },
         "mode": "markers",
         "name": "Technology",
         "showlegend": true,
         "type": "scattergl",
         "x": {
          "bdata": "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",
          "dtype": "f8"
         },
         "xaxis": "x",
         "y": {
          "bdata": "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",
          "dtype": "f8"
         },
         "yaxis": "y"
        },
        {
         "customdata": [
          [
           "Elon Musk"
          ],
          [
           "Susanne Klatten"
          ],
          [
           "Stefan Quandt"
          ],
          [
           "Li Shufu"
          ],
          [
           "Wang Chuanfu"
          ],
          [
           "Ernest Garcia, II."
          ],
          [
           "Wei Jianjun & family"
          ],
          [
           "Georg Schaeffler"
          ],
          [
           "Lu Zhongfang"
          ],
          [
           "Lu Xiangyang"
          ],
          [
           "Shahid Khan"
          ],
          [
           "Ernest Garcia, III."
          ],
          [
           "Mong-Koo Chung"
          ],
          [
           "Li Ping"
          ],
          [
           "William Li"
          ],
          [
           "He Xiaopeng"
          ],
          [
           "Vikram Lal & family"
          ],
          [
           "Huang Yi"
          ],
          [
           "Pawan Munjal & family"
          ],
          [
           "Piero Ferrari"
          ],
          [
           "Dan Friedkin"
          ],
          [
           "Li Xiang"
          ],
          [
           "Wu Jianshu"
          ],
          [
           "Mark Shoen"
          ],
          [
           "Maria-Elisabeth Schaeffler-Thumann"
          ],
          [
           "Li Guoqiang"
          ],
          [
           "Vivek Chaand Sehgal"
          ],
          [
           "E. Joe Shoen"
          ],
          [
           "RJ Scaringe"
          ],
          [
           "Dong Jinggui"
          ],
          [
           "Xia Zuoquan"
          ],
          [
           "Ye Fan & family"
          ],
          [
           "Norman Braman"
          ],
          [
           "Peter Unger"
          ],
          [
           "Alberto Bombassei"
          ],
          [
           "Abhay Firodia"
          ],
          [
           "Gail Miller"
          ],
          [
           "Austin Russell"
          ],
          [
           "Chin Jong Hwa"
          ],
          [
           "Arvind Poddar"
          ],
          [
           "Herb Chambers"
          ],
          [
           "Roger Penske"
          ],
          [
           "Walter Frey"
          ],
          [
           "Francois Feuillet"
          ],
          [
           "Shmuel Harlap"
          ],
          [
           "Li Hongjing"
          ],
          [
           "Lachhman Das Mittal"
          ],
          [
           "Willis Johnson"
          ],
          [
           "Xu Xudong & family"
          ],
          [
           "Lisa Draexlmaier"
          ],
          [
           "Henrik Fisker"
          ],
          [
           "Donald Foss"
          ],
          [
           "Geeta Gupta-Fisker"
          ],
          [
           "Jiang Yintai & family"
          ],
          [
           "Tran Ba Duong & family"
          ],
          [
           "Ziv Aviram"
          ],
          [
           "Trevor Milton"
          ],
          [
           "Nirmal Minda"
          ],
          [
           "Qian Jinghong"
          ],
          [
           "Amnon Shashua"
          ],
          [
           "Wang Jianfeng & family"
          ],
          [
           "Stefan Pierer"
          ],
          [
           "Christian Bertermann"
          ],
          [
           "Hakan Koc"
          ],
          [
           "Ulrich Mommert & family"
          ],
          [
           "Hiroshi Ishibashi"
          ],
          [
           "A. Jayson Adair"
          ]
         ],
         "hovertemplate": "Industry=Automotive<br>Age=%{x}<br>Net Worth (in Billion USD)=%{y}<br>Name=%{customdata[0]}<extra></extra>",
         "legendgroup": "Automotive",
         "marker": {
          "color": "#EF553B",
          "symbol": "circle"
         },
         "mode": "markers",
         "name": "Automotive",
         "showlegend": true,
         "type": "scattergl",
         "x": {
          "bdata": "AAAAAACASEAAAAAAAABNQAAAAAAAAEtAAAAAAACATEAAAAAAAIBLQAAAAAAAgE9AAAAAAACATEAAAAAAAABMQAAAAAAAgFNAAAAAAAAATUAAAAAAAIBRQAAAAAAAAENAAAAAAADAVEAAAAAAAIBKQAAAAAAAAEdAAAAAAACARUAAAAAAAMBTQAAAAAAAgE1AAAAAAADAUEAAAAAAAMBSQAAAAAAAAExAAAAAAACAQ0AAAAAAAIBMQAAAAAAAgFFAAAAAAADAU0AAAAAAAIBMQAAAAAAAAFBAAAAAAADAUUAAAAAAAABDQAAAAAAAgElAAAAAAACATUAAAAAAAABJQAAAAAAAAFZAAAAAAAAAU0AAAAAAAABUQAAAAAAAAFNAAAAAAABAU0AAAAAAAAA6QAAAAAAAAE9AAAAAAACAT0AAAAAAAMBTQAAAAAAAAFVAAAAAAABAU0AAAAAAAABSQAAAAAAAAFNAAAAAAACASkAAAAAAAIBWQAAAAAAAQFJAAAAAAACASUAAAAAAAAA+QAAAAAAAgExAAAAAAAAAU0AAAAAAAABHQAAAAAAAgFFAAAAAAACATkAAAAAAAABPQAAAAAAAgENAAAAAAACAT0AAAAAAAABIQAAAAAAAAE5AAAAAAACASUAAAAAAAABQQAAAAAAAgEJAAAAAAAAAQkAAAAAAAABUQAAAAAAAgFJAAAAAAACASUA=",
          "dtype": "f8"
         },
         "xaxis": "x",
         "y": {
          "bdata": "AAAAAADgYkAzMzMzM7M7QJqZmZmZmTVAMzMzMzOzM0DNzMzMzEwwQM3MzMzMzC9AAAAAAAAAL0DNzMzMzMwtQAAAAAAAAClAMzMzMzMzIkAAAAAAAAAgQJqZmZmZmR1AAAAAAAAAGEAzMzMzMzMXQDMzMzMzMxdAAAAAAAAAFkAAAAAAAAAUQDMzMzMzMxNAMzMzMzMzEUBmZmZmZmYQQGZmZmZmZhBAAAAAAAAAEEAAAAAAAAAQQDMzMzMzMw9AmpmZmZmZDUAAAAAAAAAMQAAAAAAAAAxAAAAAAAAADEAzMzMzMzMLQGZmZmZmZgpAAAAAAAAACEAzMzMzMzMHQGZmZmZmZgZAAAAAAAAABEAzMzMzMzMDQDMzMzMzMwNAMzMzMzMzA0AzMzMzMzMDQJqZmZmZmQFAmpmZmZmZAUDNzMzMzMwAQM3MzMzMzABAAAAAAAAAAEBmZmZmZmb+P2ZmZmZmZv4/ZmZmZmZm/j9mZmZmZmb+P83MzMzMzPw/MzMzMzMz+z+amZmZmZn5P5qZmZmZmfk/mpmZmZmZ+T+amZmZmZn5P5qZmZmZmfk/mpmZmZmZ+T9mZmZmZmb2P2ZmZmZmZvY/ZmZmZmZm9j9mZmZmZmb2P2ZmZmZmZvY/ZmZmZmZm9j/NzMzMzMz0PzMzMzMzM/M/MzMzMzMz8z8zMzMzMzPzP5qZmZmZmfE/AAAAAAAA8D8=",
          "dtype": "f8"
         },
         "yaxis": "y"
        },
        {
         "customdata": [
          [
           "Bernard Arnault & family"
          ],
          [
           "Amancio Ortega"
          ],
          [
           "Francoise Bettencourt Meyers & family"
          ],
          [
           "Alice Walton"
          ],
          [
           "Jim Walton"
          ],
          [
           "Rob Walton"
          ],
          [
           "Phil Knight & family"
          ],
          [
           "Tadashi Yanai & family"
          ],
          [
           "François Pinault & family"
          ],
          [
           "Beate Heister & Karl Albrecht Jr."
          ],
          [
           "Dieter Schwarz"
          ],
          [
           "Alain Wertheimer"
          ],
          [
           "Gerard Wertheimer"
          ],
          [
           "Leonardo Del Vecchio & family"
          ],
          [
           "Leonard Lauder"
          ],
          [
           "Stefan Persson"
          ],
          [
           "Theo Albrecht, Jr. & family"
          ],
          [
           "Radhakishan Damani"
          ],
          [
           "Lukas Walton"
          ],
          [
           "John Menard, Jr."
          ],
          [
           "Anders Holch Povlsen"
          ],
          [
           "Tatyana Bakalchuk"
          ],
          [
           "Ricardo Salinas Pliego & family"
          ],
          [
           "Hank & Doug Meijer"
          ],
          [
           "Ma Jianrong & family"
          ],
          [
           "Zhang Tao"
          ],
          [
           "Tom & Judy Love"
          ],
          [
           "Stefano Pessina"
          ],
          [
           "Ding Shizhong & family"
          ],
          [
           "Ding Shijia"
          ],
          [
           "Michael Otto"
          ],
          [
           "Ann Walton Kroenke"
          ],
          [
           "Pan Dong"
          ],
          [
           "Takahisa Takahara"
          ],
          [
           "Giorgio Armani"
          ],
          [
           "David Green & family"
          ],
          [
           "Nancy Walton Laurie"
          ],
          [
           "Zhang Jindong"
          ],
          [
           "Sandra Ortega Mera"
          ],
          [
           "Bernard Marcus"
          ],
          [
           "Christy Walton"
          ],
          [
           "Ralph Lauren"
          ],
          [
           "Johann Rupert & family"
          ],
          [
           "Hiroshi Mikitani"
          ],
          [
           "Gopikishan Damani"
          ],
          [
           "Odd Reitan & family"
          ],
          [
           "Les Wexner & family"
          ],
          [
           "Jane Lauder"
          ],
          [
           "Michel Leclercq & family"
          ],
          [
           "Nicolas Puech"
          ],
          [
           "Ronald Lauder"
          ],
          [
           "Shen Guojun"
          ],
          [
           "Luiza Helena Trajano"
          ],
          [
           "Giuseppe De'Longhi & family"
          ],
          [
           "Akio Nitori"
          ],
          [
           "Michael Herz"
          ],
          [
           "Wolfgang Herz"
          ],
          [
           "Chip Wilson"
          ],
          [
           "M.A. Yusuff Ali"
          ],
          [
           "Nathan Kirsh"
          ],
          [
           "Richard Schulze"
          ],
          [
           "Eric Smidt"
          ],
          [
           "Patrizio Bertelli"
          ],
          [
           "Miuccia Prada"
          ],
          [
           "Friedrich Knapp"
          ],
          [
           "Takao Yasuda"
          ],
          [
           "Alain Bouchard"
          ],
          [
           "Juan Roig"
          ],
          [
           "Laurence Graff & family"
          ],
          [
           "William Lauder"
          ],
          [
           "John Morris"
          ],
          [
           "Suh Kyung-bae"
          ],
          [
           "Masatoshi Ito"
          ],
          [
           "Igor Kesaev"
          ],
          [
           "Qiu Guanghe & family"
          ],
          [
           "Che Jianxing"
          ],
          [
           "Masahiro Miki"
          ],
          [
           "Zhang Wenzhong"
          ],
          [
           "Gao Dekang & family"
          ],
          [
           "Aerin Lauder"
          ],
          [
           "Wolfgang Reimann"
          ],
          [
           "Matthias Reimann-Andersen"
          ],
          [
           "Stefan Reimann-Andersen"
          ],
          [
           "Renate Reimann-Haas"
          ],
          [
           "Dirk Rossmann & family"
          ],
          [
           "Wang Roger"
          ],
          [
           "Sergei Galitsky"
          ],
          [
           "Franco Bittar Garcia"
          ],
          [
           "Michael Rubin"
          ],
          [
           "Ye Guofu"
          ],
          [
           "Zhou Jianping"
          ],
          [
           "Remo Ruffini"
          ],
          [
           "Frank VanderSloot"
          ],
          [
           "Kevin David Lehmann"
          ],
          [
           "Horst Paulmann & family"
          ],
          [
           "Renzo Rosso & family"
          ],
          [
           "Stephen Rubin"
          ],
          [
           "Lottie Tham & family"
          ],
          [
           "Giuliana Benetton"
          ],
          [
           "Luciano Benetton"
          ],
          [
           "Tomasz Biernacki"
          ],
          [
           "Heidi Horten"
          ],
          [
           "Lawrence Stroll"
          ],
          [
           "John Fisher"
          ],
          [
           "Artem Khachatryan"
          ],
          [
           "Sergey Lomakin"
          ],
          [
           "Jimmy Haslam"
          ],
          [
           "Christian Haub"
          ],
          [
           "Huang Jinfeng"
          ],
          [
           "Tom Morris"
          ],
          [
           "Matt Moulding"
          ],
          [
           "Jean Coutu & family"
          ],
          [
           "Doris Fisher"
          ],
          [
           "Gary Friedman"
          ],
          [
           "Micky Jagtiani"
          ],
          [
           "Drayton McLane, Jr."
          ],
          [
           "Alfred Oetker"
          ],
          [
           "August Oetker"
          ],
          [
           "Carl Ferdinand Oetker"
          ],
          [
           "Christian Oetker"
          ],
          [
           "Julia Oetker"
          ],
          [
           "Richard Oetker"
          ],
          [
           "Rosely Schweizer"
          ],
          [
           "Masateru Uno & family"
          ],
          [
           "Wong Kwong Yu & family"
          ],
          [
           "Timothy Boyle"
          ],
          [
           "John Paul DeJoria"
          ],
          [
           "Luciano Hang"
          ],
          [
           "Georg Haub"
          ],
          [
           "James Jannard"
          ],
          [
           "Tao Yuequn"
          ],
          [
           "Abilio dos Santos Diniz"
          ],
          [
           "Stein Erik Hagen"
          ],
          [
           "Hortensia Herrero"
          ],
          [
           "Lai Shixian"
          ],
          [
           "Lin Ming-hsiung"
          ],
          [
           "José Neves"
          ],
          [
           "Torsten Toeller"
          ],
          [
           "Wang Wenmo"
          ],
          [
           "Michael Ashley"
          ],
          [
           "Todd Christopher"
          ],
          [
           "Philip & Cristina Green"
          ],
          [
           "Robert Miller"
          ],
          [
           "Erwin Franz Mueller"
          ],
          [
           "Antonio Luiz Seabra"
          ],
          [
           "Michael Ying"
          ],
          [
           "Bill and Jean Adderley & family"
          ],
          [
           "Bill Alfond"
          ],
          [
           "Susan Alfond"
          ],
          [
           "Ted Alfond"
          ],
          [
           "Karl-Johan Persson"
          ],
          [
           "Tom Persson"
          ],
          [
           "Karl Scheufele, III. & family"
          ],
          [
           "Charlotte Soderstrom"
          ],
          [
           "Sun Huaiqing & family"
          ],
          [
           "Gerry Harvey"
          ],
          [
           "Huang Guanlin"
          ],
          [
           "Miguel Krigsner"
          ],
          [
           "Mi Enhua"
          ],
          [
           "Tang Yiu"
          ],
          [
           "Jacques D'Amours"
          ],
          [
           "William Fisher"
          ],
          [
           "Fabricio Garcia"
          ],
          [
           "Flavia Bittar Garcia Faleiros"
          ],
          [
           "Philippe Ginestet & family"
          ],
          [
           "Arthur Xiaobo Hong"
          ],
          [
           "Mustafa Kucuk"
          ],
          [
           "Sandro Veronesi & family"
          ],
          [
           "Zhou Zongwen & family"
          ],
          [
           "Isak Andic & family"
          ],
          [
           "Brett Blundy"
          ],
          [
           "Solomon Lew"
          ],
          [
           "David Nahmad"
          ],
          [
           "Kevin Plank"
          ],
          [
           "Alberto Prada"
          ],
          [
           "Marina Prada"
          ],
          [
           "Sylvia Stroeher"
          ],
          [
           "Horst Wortmann"
          ],
          [
           "Zhang Xuansong"
          ],
          [
           "Nicola Bulgari"
          ],
          [
           "Chen Tei-fu"
          ],
          [
           "Chung Yong-jin"
          ],
          [
           "Robert Fisher"
          ],
          [
           "Bill Haslam"
          ],
          [
           "Kurt Krieger"
          ],
          [
           "Mohamed Al Fayed"
          ],
          [
           "Yvon Chouinard"
          ],
          [
           "Reinold Geiger"
          ],
          [
           "Li Rucheng"
          ],
          [
           "Sergei Studennikov"
          ],
          [
           "Tan Yu Yeh"
          ],
          [
           "Kanye West"
          ],
          [
           "Sabrina Benetton"
          ],
          [
           "Alex Birkenstock"
          ],
          [
           "Christian Birkenstock"
          ],
          [
           "Brunello Cucinelli & family"
          ],
          [
           "Bernd Freier"
          ],
          [
           "Christoph Henkel"
          ],
          [
           "Sergei Katsiev"
          ],
          [
           "Fernando Roig"
          ],
          [
           "Djoko Susanto"
          ],
          [
           "Yang Yunyun"
          ],
          [
           "Domenico Dolce"
          ],
          [
           "Stefano Gabbana"
          ],
          [
           "Alexandre Grendene Bartelle"
          ],
          [
           "Mario Moretti Polegato & family"
          ],
          [
           "G. Rajendran"
          ],
          [
           "Myron Wentz"
          ],
          [
           "Xie Bingkun & family"
          ],
          [
           "Barbara Benetton"
          ],
          [
           "Paolo Bulgari"
          ],
          [
           "Esther Grether"
          ],
          [
           "Gary Lauder"
          ],
          [
           "Alberto Palatchi"
          ],
          [
           "Nigel Austin"
          ],
          [
           "Samuel Barata"
          ],
          [
           "Sefik Yilmaz Dizdar"
          ],
          [
           "Mimi Haas"
          ],
          [
           "Richard Hayne"
          ],
          [
           "Daniel Hirschfeld"
          ],
          [
           "Johan Johannson"
          ],
          [
           "Sidney Kimmel"
          ],
          [
           "Guilherme Peirao Leal"
          ],
          [
           "Ilson Mateus"
          ],
          [
           "Nobutoshi Shimamura"
          ],
          [
           "Edward Stack"
          ],
          [
           "André Kasprzak"
          ],
          [
           "Anna Kasprzak"
          ],
          [
           "Bernard Lewis & family"
          ],
          [
           "Ma Renhe"
          ],
          [
           "Ron Sim"
          ],
          [
           "Satoshi Suzuki"
          ],
          [
           "Wu Yonghua"
          ],
          [
           "Zhou Chengjian"
          ],
          [
           "Aras Agalarov"
          ],
          [
           "Sachin Bansal"
          ],
          [
           "Diego Della Valle"
          ],
          [
           "Hong Seok-joh"
          ],
          [
           "Kim Jung-woong"
          ],
          [
           "Kazutoshi Kobayashi"
          ],
          [
           "Masanori Kobayashi"
          ],
          [
           "Takao Kobayashi"
          ],
          [
           "Liu Baolin"
          ],
          [
           "Muneaki Masuda"
          ],
          [
           "Dani Reiss"
          ],
          [
           "Wang Ren-sheng"
          ],
          [
           "Yao Liangbo"
          ],
          [
           "Zhang Xuanning"
          ],
          [
           "Radhe Shyam Agarwal"
          ],
          [
           "Eduardo Belmont Anderson"
          ],
          [
           "Thomas Bruch"
          ],
          [
           "Paul Fireman"
          ],
          [
           "Richard Fortin"
          ],
          [
           "Rahul Gautam"
          ],
          [
           "Anne Gittinger"
          ],
          [
           "Radhe Shyam Goenka"
          ],
          [
           "Chang-soo Kim"
          ],
          [
           "Bruce Nordstrom"
          ],
          [
           "Enrico Preziosi"
          ],
          [
           "Tan Yu Wei"
          ],
          [
           "Zhang Yuxiang & family"
          ],
          [
           "Mukand Lal Dua"
          ],
          [
           "Ramesh Kumar Dua"
          ],
          [
           "T.S. Kalyanaraman"
          ],
          [
           "Kim Kardashian West"
          ],
          [
           "Rafique Malik"
          ],
          [
           "Shin Dong-joo"
          ],
          [
           "Tsai Chi-jui"
          ]
         ],
         "hovertemplate": "Industry=Fashion & Retail<br>Age=%{x}<br>Net Worth (in Billion USD)=%{y}<br>Name=%{customdata[0]}<extra></extra>",
         "legendgroup": "Fashion & Retail",
         "marker": {
          "color": "#00cc96",
          "symbol": "circle"
         },
         "mode": "markers",
         "name": "Fashion & Retail",
         "showlegend": true,
         "type": "scattergl",
         "x": {
          "bdata": "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",
          "dtype": "f8"
         },
         "xaxis": "x",
         "y": {
          "bdata": "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",
          "dtype": "f8"
         },
         "yaxis": "y"
        },
        {
         "customdata": [
          [
           "Warren Buffett"
          ],
          [
           "Daniel Gilbert"
          ],
          [
           "Thomas Peterffy"
          ],
          [
           "Jim Simons"
          ],
          [
           "Stephen Schwarzman"
          ],
          [
           "Abigail Johnson"
          ],
          [
           "R. Budi Hartono"
          ],
          [
           "Ray Dalio"
          ],
          [
           "Petr Kellner"
          ],
          [
           "Steve Cohen"
          ],
          [
           "Ken Griffin"
          ],
          [
           "Uday Kotak"
          ],
          [
           "Carl Icahn"
          ],
          [
           "Suleiman Kerimov & family"
          ],
          [
           "David Tepper"
          ],
          [
           "Gong Hongjia & family"
          ],
          [
           "Michael Platt"
          ],
          [
           "Jeff Yass"
          ],
          [
           "Mikhail Prokhorov"
          ],
          [
           "Luis Carlos Sarmiento"
          ],
          [
           "Charles Schwab"
          ],
          [
           "Melker Schorling & family"
          ],
          [
           "Chase Coleman, III."
          ],
          [
           "Edward Johnson, III."
          ],
          [
           "Philip Anschutz"
          ],
          [
           "Eric Wittouck"
          ],
          [
           "Mat Ishbia"
          ],
          [
           "Israel Englander"
          ],
          [
           "Guillaume Pousaz"
          ],
          [
           "August von Finck"
          ],
          [
           "Sam Bankman-Fried"
          ],
          [
           "Graeme Hart"
          ],
          [
           "Leon Black"
          ],
          [
           "George Soros"
          ],
          [
           "Andrew Beal"
          ],
          [
           "John Grayken"
          ],
          [
           "George Roberts"
          ],
          [
           "Vicky Safra"
          ],
          [
           "Henry Kravis"
          ],
          [
           "David Shaw"
          ],
          [
           "Carl Bennet"
          ],
          [
           "Li Hua"
          ],
          [
           "Alexandre Behring"
          ],
          [
           "Vincent Bolloré & family"
          ],
          [
           "Paul Tudor Jones, II."
          ],
          [
           "Ludwig Merckle"
          ],
          [
           "Eli Broad"
          ],
          [
           "Wee Cho Yaw"
          ],
          [
           "Bruce Kovner"
          ],
          [
           "Brian Armstrong"
          ],
          [
           "John Overdeck"
          ],
          [
           "David Siegel"
          ],
          [
           "Andreas Halvorsen"
          ],
          [
           "Robert F. Smith"
          ],
          [
           "Chen Fashu"
          ],
          [
           "Christopher Hohn"
          ],
          [
           "Douglas Leone"
          ],
          [
           "Tom Gores"
          ],
          [
           "Teh Hong Piow"
          ],
          [
           "Stanley Druckenmiller"
          ],
          [
           "Ken Fisher"
          ],
          [
           "Pyotr Aven"
          ],
          [
           "Carlos Rodriguez-Pastor"
          ],
          [
           "Yu Yong"
          ],
          [
           "Joe Mansueto"
          ],
          [
           "Neil Shen"
          ],
          [
           "David Velez"
          ],
          [
           "Joshua Harris"
          ],
          [
           "Daniel Ziff"
          ],
          [
           "Dirk Ziff"
          ],
          [
           "Robert Ziff"
          ],
          [
           "Chen Dongsheng"
          ],
          [
           "Charles B. Johnson"
          ],
          [
           "Marc Ladreit de Lacharriere"
          ],
          [
           "Joe Lewis"
          ],
          [
           "Lin Li"
          ],
          [
           "Karen Pritzker"
          ],
          [
           "Peter Thiel"
          ],
          [
           "Bidzina Ivanishvili"
          ],
          [
           "Edward Johnson, IV."
          ],
          [
           "Elizabeth Johnson"
          ],
          [
           "Yuri Milner"
          ],
          [
           "Ken Langone"
          ],
          [
           "Oleg Tinkov"
          ],
          [
           "Mark Walter"
          ],
          [
           "Ron Baron"
          ],
          [
           "Andre Esteves"
          ],
          [
           "Jonathan Gray"
          ],
          [
           "Sami Mnaymneh"
          ],
          [
           "Sergei Popov"
          ],
          [
           "Thomas Pritzker"
          ],
          [
           "Julian Robertson, Jr."
          ],
          [
           "Tony Tamer"
          ],
          [
           "Orlando Bravo"
          ],
          [
           "Thomas Hagen"
          ],
          [
           "Rakesh Jhunjhunwala"
          ],
          [
           "Antony Ressler"
          ],
          [
           "Paul Singer"
          ],
          [
           "Peter Hargreaves"
          ],
          [
           "David Bonderman"
          ],
          [
           "Rupert Johnson, Jr."
          ],
          [
           "Walter P.J. Droege"
          ],
          [
           "Ira Rennert"
          ],
          [
           "Marc Rowan"
          ],
          [
           "Michal Solowow"
          ],
          [
           "Stephen Mandel, Jr."
          ],
          [
           "Daniel D'Aniello"
          ],
          [
           "Jaime Gilinski Bacal"
          ],
          [
           "Michael Milken"
          ],
          [
           "Ronald Perelman"
          ],
          [
           "J. Joe Ricketts & family"
          ],
          [
           "David Rubenstein"
          ],
          [
           "Barry Sternlicht"
          ],
          [
           "Mark Stevens"
          ],
          [
           "Vincent Viola"
          ],
          [
           "Herbert Wertheim"
          ],
          [
           "Leonid Boguslavsky"
          ],
          [
           "Peter Kellogg"
          ],
          [
           "Daniel Och"
          ],
          [
           "Rodger Riney & family"
          ],
          [
           "Richard Tsai"
          ],
          [
           "Chuchat Petaumpai & Daonapa Petampai"
          ],
          [
           "Daniel Loeb"
          ],
          [
           "John Paulson"
          ],
          [
           "J.B. Pritzker"
          ],
          [
           "William Conway, Jr."
          ],
          [
           "Ennio Doris & family"
          ],
          [
           "Steven Klinsky"
          ],
          [
           "Chris Larsen"
          ],
          [
           "Patrick Ryan"
          ],
          [
           "Daniel Tsai"
          ],
          [
           "John Arnold"
          ],
          [
           "Joseph Edelman"
          ],
          [
           "Vyacheslav Kim"
          ],
          [
           "Andre Koo, Sr."
          ],
          [
           "Yuri Kovalchuk"
          ],
          [
           "Bernard Saul, II."
          ],
          [
           "Juan Carlos Escotet"
          ],
          [
           "Don Hankey"
          ],
          [
           "Mikhail Lomtadze"
          ],
          [
           "Tsai Cheng-ta"
          ],
          [
           "Tsai Hong-tu"
          ],
          [
           "Martin Ebner"
          ],
          [
           "Penny Pritzker"
          ],
          [
           "Behdad Eghbali"
          ],
          [
           "Jose E. Feliciano"
          ],
          [
           "Alec Gores"
          ],
          [
           "Justin Ishbia"
          ],
          [
           "Peter Lim"
          ],
          [
           "Cameron Winklevoss"
          ],
          [
           "Tyler Winklevoss"
          ],
          [
           "Zhang Lei"
          ],
          [
           "Juan Abello"
          ],
          [
           "Marcel Erni"
          ],
          [
           "Alfred Gantner"
          ],
          [
           "Pablo Legorreta"
          ],
          [
           "Alexander Nesis"
          ],
          [
           "Sebastian Piñera & family"
          ],
          [
           "Urs Wietlisbach"
          ],
          [
           "William Ackman"
          ],
          [
           "David Gottesman"
          ],
          [
           "Alan Howard"
          ],
          [
           "Alicia Koplowitz"
          ],
          [
           "Timur Kulibaev"
          ],
          [
           "Dinara Kulibaeva"
          ],
          [
           "Rudy Ma"
          ],
          [
           "Hans Melchers"
          ],
          [
           "T. Denny Sanford"
          ],
          [
           "Warren Stephens"
          ],
          [
           "Victor Jacobsson"
          ],
          [
           "John Armitage"
          ],
          [
           "Guilherme Benchimol"
          ],
          [
           "Bruce Flatt"
          ],
          [
           "Anthony Hsieh"
          ],
          [
           "Hal Jackman"
          ],
          [
           "Stephen Lansdown"
          ],
          [
           "Daniel Pritzker"
          ],
          [
           "Stephen Smith"
          ],
          [
           "William Berkley"
          ],
          [
           "Leon G. Cooperman"
          ],
          [
           "Gerald Ford"
          ],
          [
           "Jerry Ng"
          ],
          [
           "John Pritzker"
          ],
          [
           "Matthias Reinhart"
          ],
          [
           "Daniel Sundheim"
          ],
          [
           "Richard Chandler"
          ],
          [
           "Chen Jinxia"
          ],
          [
           "Mark Coombs"
          ],
          [
           "Stephen Feinberg"
          ],
          [
           "Jean Salata"
          ],
          [
           "T.Y. Tsai"
          ],
          [
           "Vanich Chaiyawan"
          ],
          [
           "Jim Coulter"
          ],
          [
           "Noam Gottesman"
          ],
          [
           "David Hains"
          ],
          [
           "Michael Hintze"
          ],
          [
           "Stewart Horejsi & family"
          ],
          [
           "Alexander Mamut"
          ],
          [
           "Walther Moreira Salles Junior"
          ],
          [
           "Stephan Schmidheiny"
          ],
          [
           "Jose Joao Abdalla Filho"
          ],
          [
           "Dermot Desmond"
          ],
          [
           "Jeffrey Gundlach"
          ],
          [
           "Max Levchin"
          ],
          [
           "John Phillips"
          ],
          [
           "Sebastian Siemiatkowski"
          ],
          [
           "Gavril Yushvaev"
          ],
          [
           "Michael Ashcroft"
          ],
          [
           "Julio Bozano"
          ],
          [
           "Bruce Karsh"
          ],
          [
           "Dominika Kulczyk"
          ],
          [
           "Philippe Laffont"
          ],
          [
           "Henry Laufer"
          ],
          [
           "Howard Marks"
          ],
          [
           "Jeffrey Talpins"
          ],
          [
           "Timur Turlov"
          ],
          [
           "J. Hyatt Brown"
          ],
          [
           "Glenn Dubin"
          ],
          [
           "John Elkann"
          ],
          [
           "J. Tomilson Hill"
          ],
          [
           "George Joseph"
          ],
          [
           "Thomas Lee"
          ],
          [
           "Jed McCaleb"
          ],
          [
           "Charles Munger"
          ],
          [
           "Jonathan Nelson"
          ],
          [
           "Jennifer Pritzker"
          ],
          [
           "Thaksin Shinawatra"
          ],
          [
           "Alexander Svetakov"
          ],
          [
           "Georg von Opel"
          ],
          [
           "Felix Baker"
          ],
          [
           "Julian Baker"
          ],
          [
           "James Dinan"
          ],
          [
           "Fred Ehrsam"
          ],
          [
           "William Foley, II."
          ],
          [
           "Roberto Hernandez Ramirez"
          ],
          [
           "Hamilton James"
          ],
          [
           "Michael Kim"
          ],
          [
           "Larry Robbins"
          ],
          [
           "Christopher Rokos"
          ],
          [
           "Changpeng Zhao"
          ],
          [
           "Roman Avdeev"
          ],
          [
           "O. Francis Biondi"
          ],
          [
           "David Booth"
          ],
          [
           "Jack Cockwell"
          ],
          [
           "Jamie Dimon"
          ],
          [
           "Anthony Eisen"
          ],
          [
           "Mario Gabelli"
          ],
          [
           "Rolf Gerling"
          ],
          [
           "Brian Higgins"
          ],
          [
           "Thomas James"
          ],
          [
           "Stephen Jarislowsky"
          ],
          [
           "Marc Lasry"
          ],
          [
           "Nick Molnar"
          ],
          [
           "Oei Hong Leong"
          ],
          [
           "Husnu Ozyegin"
          ],
          [
           "Alvaro Saieh Bendeck"
          ],
          [
           "Henry Swieca"
          ],
          [
           "Marc Andreessen"
          ],
          [
           "Nicolas Berggruen"
          ],
          [
           "Henry Engelhardt"
          ],
          [
           "Chatchai Kaewbootta"
          ],
          [
           "Edward Lampert"
          ],
          [
           "Nicholas Pritzker"
          ],
          [
           "Megdet Rahimkulov & family"
          ],
          [
           "Ion Tiriac"
          ],
          [
           "Ryan Cohen"
          ],
          [
           "Alfredo Egydio Arruda Villela Filho"
          ],
          [
           "Ho Hung Anh"
          ],
          [
           "Sebastian Kulczyk"
          ],
          [
           "Michael Lee-Chin"
          ],
          [
           "Nelson Peltz"
          ],
          [
           "Barry Silbert"
          ],
          [
           "Leonid Simanovsky"
          ],
          [
           "Herbert Allen, Jr. & family"
          ],
          [
           "Harindarpal Banga"
          ],
          [
           "Ron Burkle"
          ],
          [
           "Alberto Cortina"
          ],
          [
           "Tim Draper"
          ],
          [
           "Bill Gross"
          ],
          [
           "Sue Gross"
          ],
          [
           "Seth Klarman"
          ],
          [
           "Christian Latouche"
          ],
          [
           "Duncan MacMillan"
          ],
          [
           "Ezra Nahmad"
          ],
          [
           "Niti Osathanugrah"
          ],
          [
           "Lirio Parisotto"
          ],
          [
           "Matthew Roszak"
          ],
          [
           "Fayez Sarofim"
          ],
          [
           "Peter Sondakh"
          ],
          [
           "Thomas Wu"
          ],
          [
           "Alberto Alcocer"
          ],
          [
           "Clifford Asness"
          ],
          [
           "Louis Bacon"
          ],
          [
           "Ana Lucia de Mattos Barretto Villela"
          ],
          [
           "Jayme Garfinkel"
          ],
          [
           "Scott Kapnick"
          ],
          [
           "Judith Neilson"
          ],
          [
           "Kerr Neilson"
          ],
          [
           "Andreas Pohl"
          ],
          [
           "Reinfried Pohl, Jr."
          ],
          [
           "Michael Spencer"
          ],
          [
           "Thomas Steyer"
          ],
          [
           "Wilma Tisch"
          ],
          [
           "Alfred West, Jr."
          ],
          [
           "Sanjay Agarwal"
          ],
          [
           "Hamad bin Jassim bin Jaber Al Thani"
          ],
          [
           "Othman Benjelloun & family"
          ],
          [
           "Chris Britt"
          ],
          [
           "Cho Jung-ho"
          ],
          [
           "Egon Durban"
          ],
          [
           "Kenneth Hao"
          ],
          [
           "Michael Heine"
          ],
          [
           "Conni Jonsson"
          ],
          [
           "Hemendra Kothari"
          ],
          [
           "Greg Mondre"
          ],
          [
           "George Alexander Muthoot"
          ],
          [
           "George Jacob Muthoot"
          ],
          [
           "George Thomas Muthoot"
          ],
          [
           "Lily Safra"
          ],
          [
           "Thomas Sandell"
          ],
          [
           "Ilya Scherbovich"
          ],
          [
           "Gerald Schwartz"
          ],
          [
           "Shin Chang-jae"
          ],
          [
           "Luis Enrique Yarur Rey"
          ],
          [
           "Thomas Bailey"
          ],
          [
           "Edouard Carmignac"
          ],
          [
           "Marek Dospiva"
          ],
          [
           "Wesley Edens"
          ],
          [
           "J. Christopher Flowers"
          ],
          [
           "Lawrence Golub"
          ],
          [
           "Alfredo Harp Helu & family"
          ],
          [
           "Jaroslav Hascak"
          ],
          [
           "Jonas Kamprad"
          ],
          [
           "Mathias Kamprad"
          ],
          [
           "Peter Kamprad"
          ],
          [
           "Liora Ofer"
          ],
          [
           "Chamath Palihapitiya"
          ],
          [
           "Michael Price"
          ],
          [
           "Andrei Rappoport"
          ],
          [
           "Chris Sacca"
          ],
          [
           "Michael Steinhardt"
          ],
          [
           "Sergei Sudarikov"
          ],
          [
           "Thomas von Koch"
          ],
          [
           "Lloyd Blankfein"
          ],
          [
           "David Golub"
          ],
          [
           "Hedda im Brahm-Droege"
          ],
          [
           "Richard Kayne"
          ],
          [
           "Michiel Le Roux"
          ],
          [
           "Nancy Lerner"
          ],
          [
           "Norma Lerner"
          ],
          [
           "Randolph Lerner"
          ],
          [
           "Carsten Maschmeyer"
          ],
          [
           "Carl Thoma"
          ],
          [
           "Eugene Wu"
          ],
          [
           "Baiju Bhatt"
          ],
          [
           "Wilbur 'Ed' Bosarge, Jr."
          ],
          [
           "Larry Fink"
          ],
          [
           "David Harding"
          ],
          [
           "Lev Kvetnoi"
          ],
          [
           "Li Yinan"
          ],
          [
           "Kenneth Lo"
          ],
          [
           "Hartley Rogers"
          ],
          [
           "Vlad Tenev"
          ],
          [
           "Ruben Vardanyan"
          ],
          [
           "Sandy Weill"
          ]
         ],
         "hovertemplate": "Industry=Finance & Investments<br>Age=%{x}<br>Net Worth (in Billion USD)=%{y}<br>Name=%{customdata[0]}<extra></extra>",
         "legendgroup": "Finance & Investments",
         "marker": {
          "color": "#ab63fa",
          "symbol": "circle"
         },
         "mode": "markers",
         "name": "Finance & Investments",
         "showlegend": true,
         "type": "scattergl",
         "x": {
          "bdata": "AAAAAACAVkAAAAAAAIBNQAAAAAAAAFNAAAAAAACAVEAAAAAAAIBSQAAAAAAAgE1AAAAAAAAAVEAAAAAAAMBRQAAAAAAAAExAAAAAAAAAUEAAAAAAAABKQAAAAAAAAE9AAAAAAABAVUAAAAAAAIBLQAAAAAAAgE9AAAAAAAAATEAAAAAAAIBKQAAAAAAAAE9AAAAAAACAS0AAAAAAAABWQAAAAAAAwFRAAAAAAABAUkAAAAAAAIBGQAAAAAAAgFZAAAAAAABAVEAAAAAAAIBSQAAAAAAAgERAAAAAAAAAUkAAAAAAAIBDQAAAAAAAwFZAAAAAAAAAPUAAAAAAAEBQQAAAAAAAQFFAAAAAAACAVkAAAAAAAABRQAAAAAAAAFBAAAAAAABAU0AAAAAAAABRQAAAAAAAQFNAAAAAAACAUUAAAAAAAEBRQAAAAAAAgEVAAAAAAAAAS0AAAAAAAEBRQAAAAAAAgFBAAAAAAAAATEAAAAAAAMBVQAAAAAAAAFdAAAAAAAAAU0AAAAAAAABDQAAAAAAAgElAAAAAAACATUAAAAAAAIBNQAAAAAAAAE1AAAAAAAAATkAAAAAAAABLQAAAAAAAgE9AAAAAAAAATEAAAAAAAMBWQAAAAAAAwFBAAAAAAACAUUAAAAAAAIBQQAAAAAAAgE5AAAAAAAAATkAAAAAAAABQQAAAAAAAgEpAAAAAAACAQ0AAAAAAAABMQAAAAAAAgEhAAAAAAACATEAAAAAAAABLQAAAAAAAgE9AAAAAAAAAVkAAAAAAAABUQAAAAAAAAFVAAAAAAACATEAAAAAAAIBPQAAAAAAAgEpAAAAAAABAUEAAAAAAAABMQAAAAAAAgExAAAAAAACATUAAAAAAAEBVQAAAAAAAgEpAAAAAAAAATkAAAAAAAEBTQAAAAAAAAEpAAAAAAACASUAAAAAAAIBNQAAAAAAAgEhAAAAAAACAUUAAAAAAAABWQAAAAAAAgE9AAAAAAAAASUAAAAAAAEBVQAAAAAAAAE5AAAAAAACATUAAAAAAAABTQAAAAAAAgFJAAAAAAACAU0AAAAAAAABUQAAAAAAAAFFAAAAAAACAVUAAAAAAAABNQAAAAAAAAE1AAAAAAABAUEAAAAAAAIBSQAAAAAAAgE9AAAAAAACAUkAAAAAAAIBTQAAAAAAAwFNAAAAAAADAUUAAAAAAAABOQAAAAAAAgE5AAAAAAABAUEAAAAAAAEBUQAAAAAAAQFFAAAAAAACAU0AAAAAAAABOQAAAAAAAwFJAAAAAAACAT0AAAAAAAMBQQAAAAAAAgE1AAAAAAABAUEAAAAAAAABMQAAAAAAAwFFAAAAAAAAAVEAAAAAAAABQQAAAAAAAAE5AAAAAAADAVEAAAAAAAABQQAAAAAAAgEdAAAAAAABAUEAAAAAAAIBJQAAAAAAAgEpAAAAAAABAUUAAAAAAAABWQAAAAAAAgE5AAAAAAABAU0AAAAAAAIBGQAAAAAAAwFFAAAAAAAAAUUAAAAAAAMBSQAAAAAAAgE5AAAAAAAAARkAAAAAAAIBHQAAAAAAAAFFAAAAAAACARUAAAAAAAMBQQAAAAAAAgENAAAAAAACAQ0AAAAAAAABIQAAAAAAAwFNAAAAAAAAATEAAAAAAAIBKQAAAAAAAgExAAAAAAAAATUAAAAAAAMBRQAAAAAAAgE1AAAAAAAAAS0AAAAAAAIBXQAAAAAAAgExAAAAAAADAUEAAAAAAAABLQAAAAAAAgEpAAAAAAAAAVEAAAAAAAIBUQAAAAAAAQFVAAAAAAAAAUEAAAAAAAIBDQAAAAAAAgE5AAAAAAAAARkAAAAAAAIBLQAAAAAAAAExAAAAAAAAAVkAAAAAAAABRQAAAAAAAgE5AAAAAAABAUUAAAAAAAIBSQAAAAAAAQFNAAAAAAAAAU0AAAAAAAABMQAAAAAAAwFBAAAAAAACATkAAAAAAAABGQAAAAAAAAE9AAAAAAACASkAAAAAAAABOQAAAAAAAgE5AAAAAAACAS0AAAAAAAABRQAAAAAAAQFZAAAAAAACATkAAAAAAAIBNQAAAAAAAgFZAAAAAAADAUEAAAAAAAMBUQAAAAAAAgE5AAAAAAAAAUEAAAAAAAEBSQAAAAAAAwFJAAAAAAACAUUAAAAAAAABPQAAAAAAAgEZAAAAAAACAUUAAAAAAAIBDQAAAAAAAgE9AAAAAAADAUkAAAAAAAEBVQAAAAAAAQFBAAAAAAACARUAAAAAAAIBKQAAAAAAAwFJAAAAAAACAUkAAAAAAAABHQAAAAAAAgEBAAAAAAADAVEAAAAAAAIBPQAAAAAAAgEZAAAAAAAAAUkAAAAAAAMBYQAAAAAAAQFNAAAAAAAAAR0AAAAAAAEBYQAAAAAAAAFBAAAAAAACAUUAAAAAAAMBRQAAAAAAAgEpAAAAAAAAAS0AAAAAAAABKQAAAAAAAAEtAAAAAAACATkAAAAAAAABAQAAAAAAAAFNAAAAAAADAU0AAAAAAAEBRQAAAAAAAgExAAAAAAACASUAAAAAAAABJQAAAAAAAgEZAAAAAAACASkAAAAAAAABMQAAAAAAAwFJAAAAAAAAAVEAAAAAAAEBQQAAAAAAAgEhAAAAAAADAU0AAAAAAAIBQQAAAAAAAAExAAAAAAACAU0AAAAAAAMBXQAAAAAAAAE5AAAAAAAAAPkAAAAAAAEBSQAAAAAAAAFNAAAAAAADAUUAAAAAAAIBPQAAAAAAAgEhAAAAAAACATUAAAAAAAIBPQAAAAAAAQFFAAAAAAAAATUAAAAAAAEBTQAAAAAAAwFJAAAAAAABAVEAAAAAAAIBBQAAAAAAAgElAAAAAAAAASUAAAAAAAABEQAAAAAAAgFFAAAAAAACAU0AAAAAAAABGQAAAAAAAwFFAAAAAAABAVEAAAAAAAIBRQAAAAAAAAFFAAAAAAADAUkAAAAAAAABPQAAAAAAAAFNAAAAAAADAUUAAAAAAAIBPQAAAAAAAAFRAAAAAAADAVEAAAAAAAMBSQAAAAAAAgEdAAAAAAADAUEAAAAAAAABIQAAAAAAAAFdAAAAAAADAUUAAAAAAAMBRQAAAAAAAgFNAAAAAAAAAS0AAAAAAAABQQAAAAAAAgEdAAAAAAADAUkAAAAAAAABPQAAAAAAAwFJAAAAAAADAUUAAAAAAAABMQAAAAAAAgE5AAAAAAABAUEAAAAAAAIBPQAAAAAAAQFdAAAAAAACAU0AAAAAAAABJQAAAAAAAgE5AAAAAAAAAVkAAAAAAAABIQAAAAAAAAE9AAAAAAACAR0AAAAAAAABKQAAAAAAAwFFAAAAAAAAATkAAAAAAAIBSQAAAAAAAAEdAAAAAAABAUEAAAAAAAABRQAAAAAAAgFFAAAAAAADAVEAAAAAAAABOQAAAAAAAAEdAAAAAAADAU0AAAAAAAMBQQAAAAAAAgFFAAAAAAAAAVUAAAAAAAEBSQAAAAAAAgElAAAAAAACATUAAAAAAAIBPQAAAAAAAgE5AAAAAAABAU0AAAAAAAIBJQAAAAAAAgEtAAAAAAACASUAAAAAAAIBMQAAAAAAAwFBAAAAAAAAARkAAAAAAAABRQAAAAAAAgExAAAAAAACARkAAAAAAAABUQAAAAAAAgEhAAAAAAACAS0AAAAAAAIBQQAAAAAAAAE1AAAAAAACAUEAAAAAAAMBSQAAAAAAAwFFAAAAAAAAATkAAAAAAAEBVQAAAAAAAgE1AAAAAAACATkAAAAAAAABSQAAAAAAAwFJAAAAAAAAAQkAAAAAAAEBUQAAAAAAAAFFAAAAAAACATUAAAAAAAIBLQAAAAAAAgElAAAAAAACAVEAAAAAAAIBOQAAAAAAAAEFAAAAAAAAASkAAAAAAAABWQA==",
          "dtype": "f8"
         },
         "xaxis": "x",
         "y": {
          "bdata": "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",
          "dtype": "f8"
         },
         "yaxis": "y"
        },
        {
         "customdata": [
          [
           "Mukesh Ambani"
          ],
          [
           "Gautam Adani & family"
          ],
          [
           "Charles Koch"
          ],
          [
           "Julia Koch & family"
          ],
          [
           "Li Ka-shing"
          ],
          [
           "Len Blavatnik"
          ],
          [
           "Dhanin Chearavanont"
          ],
          [
           "Roman Abramovich"
          ],
          [
           "Kumar Birla"
          ],
          [
           "Robert Kuok"
          ],
          [
           "Eyal Ofer"
          ],
          [
           "Quek Leng Chan"
          ],
          [
           "Jim Pattison"
          ],
          [
           "Jay Y. Lee"
          ],
          [
           "Simon Reuben"
          ],
          [
           "Silvio Berlusconi & family"
          ],
          [
           "Zhao Yan"
          ],
          [
           "Antonia Ax:son Johnson & family"
          ],
          [
           "Laurent Dassault"
          ],
          [
           "Thierry Dassault"
          ],
          [
           "Marie-Hélène Habert"
          ],
          [
           "Pham Nhat Vuong"
          ],
          [
           "Gustaf Douglas"
          ],
          [
           "Guo Guangchang"
          ],
          [
           "Prajogo Pangestu"
          ],
          [
           "Georg Stumpf"
          ],
          [
           "Rahul Bajaj"
          ],
          [
           "Shi Yuzhu"
          ],
          [
           "Mike Adenuga"
          ],
          [
           "Idan Ofer"
          ],
          [
           "Sumet Jiaravanon"
          ],
          [
           "Jaran Chiaravanont"
          ],
          [
           "Montri Jiaravanont"
          ],
          [
           "Yao Zhenhua & family"
          ],
          [
           "Abdulsamad Rabiu"
          ],
          [
           "Richard Branson"
          ],
          [
           "Chairul Tanjung"
          ],
          [
           "Maria Fernanda Amorim & family"
          ],
          [
           "Dona Bertarelli"
          ],
          [
           "Miao Hangen"
          ],
          [
           "Zhang Daocai"
          ],
          [
           "Kerry Stokes"
          ],
          [
           "James Irving"
          ],
          [
           "Samuel Yin"
          ],
          [
           "Dan Olsson"
          ],
          [
           "Karsanbhai Patel"
          ],
          [
           "Zhang Jin"
          ],
          [
           "Daryl Katz"
          ],
          [
           "Zhang Hongwei"
          ],
          [
           "Shyam & Hari Bhartia"
          ],
          [
           "Tahir & family"
          ],
          [
           "Lucio Tan"
          ],
          [
           "Harald Link"
          ],
          [
           "Carl Douglas"
          ],
          [
           "Eric Douglas"
          ],
          [
           "Kwek Leng Beng"
          ],
          [
           "Ferit Faik Sahenk"
          ],
          [
           "Song Zuowen"
          ],
          [
           "Hans Sy"
          ],
          [
           "Herbert Sy"
          ],
          [
           "Andrew Tan"
          ],
          [
           "Farhad Moshiri"
          ],
          [
           "Li Liufa & family"
          ],
          [
           "Nguyen Thi Phuong Thao"
          ],
          [
           "Philip Niarchos"
          ],
          [
           "Filiz Sahenk"
          ],
          [
           "Harley Sy"
          ],
          [
           "Henry Sy, Jr."
          ],
          [
           "Teresita Sy-Coson"
          ],
          [
           "Caroline Hagen Kjos"
          ],
          [
           "Mohamed Mansour"
          ],
          [
           "Pedro Moreira Salles"
          ],
          [
           "Rajan Raheja & family"
          ],
          [
           "Smita Crishna-Godrej"
          ],
          [
           "Adi Godrej"
          ],
          [
           "Jamshyd Godrej"
          ],
          [
           "Nadir Godrej"
          ],
          [
           "Douglas Hsu"
          ],
          [
           "Koo Kwang-mo"
          ],
          [
           "Rishad Naoroji"
          ],
          [
           "Elizabeth Sy"
          ],
          [
           "Semahat Sevim Arsel"
          ],
          [
           "Sezai Bacaksiz"
          ],
          [
           "Suhail Bahwan"
          ],
          [
           "Harsh Goenka"
          ],
          [
           "Mustafa Rahmi Koc"
          ],
          [
           "Fernando Roberto Moreira Salles"
          ],
          [
           "Joao Moreira Salles"
          ],
          [
           "Nihat Ozdemir"
          ],
          [
           "Thor Bjorgolfsson"
          ],
          [
           "Carlos Hank Rhon"
          ],
          [
           "Kwek Leng Kee"
          ],
          [
           "Lau Cho Kun"
          ],
          [
           "Liang Xinjun"
          ],
          [
           "Rubens Menin Teixeira de Souza"
          ],
          [
           "Katarina Martinson"
          ],
          [
           "Phil Ruffin"
          ],
          [
           "Roberto Angelini Rossi"
          ],
          [
           "Dou Zhenggang"
          ],
          [
           "Aziz Akhannouch & family"
          ],
          [
           "Joao Alves de Queiroz Filho"
          ],
          [
           "Bulent Eczacibasi"
          ],
          [
           "Sanjiv Goenka"
          ],
          [
           "Ipek Kirac"
          ],
          [
           "Louise Lindh"
          ],
          [
           "Anand Mahindra"
          ],
          [
           "Ermirio Pereira de Moraes"
          ],
          [
           "Maria Helena Moraes Scripilliti"
          ],
          [
           "Stefan Olsson"
          ],
          [
           "John Bloor"
          ],
          [
           "Faruk Eczacibasi"
          ],
          [
           "Ihor Kolomoyskyy"
          ],
          [
           "Romano Minozzi"
          ],
          [
           "Sun Guangxin"
          ],
          [
           "Wu Xushun & family"
          ],
          [
           "Henadiy Boholyubov"
          ],
          [
           "Lee Seo-hyun"
          ],
          [
           "Theodore Rachmat"
          ],
          [
           "Mochtar Riady & family"
          ],
          [
           "Ivan Savvidis"
          ],
          [
           "Faisal Bin Qassim Al Thani"
          ],
          [
           "Patricia Angelini Rossi"
          ],
          [
           "Mohammed Dewji"
          ],
          [
           "Deniz Sahenk"
          ],
          [
           "Antti Aarnio-Wihuri"
          ],
          [
           "Hamdi Akin & family"
          ],
          [
           "Ahmet Calik"
          ],
          [
           "Phongthep Chiaravanont"
          ],
          [
           "Ke Xiping & family"
          ],
          [
           "Kim Jun-ki"
          ],
          [
           "Anthony Langley"
          ],
          [
           "Youssef Mansour"
          ],
          [
           "Billy Joe (Red) McCombs"
          ],
          [
           "Lorinc Meszaros"
          ],
          [
           "Ye Cheng"
          ],
          [
           "Yi Dasheng"
          ],
          [
           "Alexandra Andresen"
          ],
          [
           "Katharina Andresen"
          ],
          [
           "Zadik Bino & family"
          ],
          [
           "Binod Chaudhary"
          ],
          [
           "James Duff"
          ],
          [
           "Thomas Duff"
          ],
          [
           "Liu Xuejing & family"
          ],
          [
           "Vito Rodriguez Rodriguez"
          ],
          [
           "Sukanto Tanoto"
          ],
          [
           "Jonathan Tisch"
          ],
          [
           "Inigo Zobel"
          ],
          [
           "Oleg Boyko"
          ],
          [
           "Ana Maria Brescia Cafferata"
          ],
          [
           "Turgay Ciner"
          ],
          [
           "Eduardo Eurnekian"
          ],
          [
           "Zbigniew Juroszek & family"
          ],
          [
           "Antonio Percassi"
          ],
          [
           "Henry Cheng"
          ],
          [
           "Sandor Csanyi"
          ],
          [
           "Lance Gokongwei"
          ],
          [
           "Mehmet Nazif Gunal"
          ],
          [
           "Kwek Leng Peck"
          ],
          [
           "Lee Jay-hyun"
          ],
          [
           "Li Fengluan"
          ],
          [
           "Roberto Ongpin"
          ],
          [
           "Murdaya Poo"
          ],
          [
           "Albert Shigaboutdinov"
          ],
          [
           "Laurie Tisch"
          ],
          [
           "Steven Tisch"
          ],
          [
           "Wang Qunbin"
          ],
          [
           "Lee Ho-jin"
          ],
          [
           "Lu Weiding"
          ],
          [
           "Yasseen Mansour"
          ],
          [
           "Madeleine Olsson Ericksson"
          ],
          [
           "Wang Han"
          ],
          [
           "Wong Hei & family"
          ],
          [
           "Zan Shengda"
          ],
          [
           "Boris Zingarevich"
          ],
          [
           "Ahmet Nazif Zorlu"
          ],
          [
           "Jorge Rodriguez Rodriguez"
          ],
          [
           "Zakhar Smushkin"
          ],
          [
           "Surin Upatkoon"
          ],
          [
           "J. Wayne Weaver"
          ],
          [
           "Zhong Naixiong"
          ]
         ],
         "hovertemplate": "Industry=Diversified<br>Age=%{x}<br>Net Worth (in Billion USD)=%{y}<br>Name=%{customdata[0]}<extra></extra>",
         "legendgroup": "Diversified",
         "marker": {
          "color": "#FFA15A",
          "symbol": "circle"
         },
         "mode": "markers",
         "name": "Diversified",
         "showlegend": true,
         "type": "scattergl",
         "x": {
          "bdata": "AAAAAACAT0AAAAAAAABNQAAAAAAAQFVAAAAAAAAATUAAAAAAAABXQAAAAAAAgE9AAAAAAABAVEAAAAAAAABLQAAAAAAAgEpAAAAAAABAWEAAAAAAAIBRQAAAAAAAwFNAAAAAAAAAV0AAAAAAAABKQAAAAAAAwFNAAAAAAAAAVUAAAAAAAABLQAAAAAAAQFNAAAAAAADAUEAAAAAAAABQQAAAAAAAAExAAAAAAAAASkAAAAAAAMBUQAAAAAAAAEtAAAAAAAAAU0AAAAAAAABIQAAAAAAAgFRAAAAAAAAATUAAAAAAAMBQQAAAAAAAQFBAAAAAAACAVUAAAAAAAMBWQAAAAAAAgFZAAAAAAACASUAAAAAAAABOQAAAAAAAgFFAAAAAAAAATUAAAAAAAIBVQAAAAAAAgEpAAAAAAAAATEAAAAAAAMBRQAAAAAAAAFRAAAAAAABAV0AAAAAAAIBRQAAAAAAAgFJAAAAAAABAU0AAAAAAAIBIQAAAAAAAgE1AAAAAAACAUEAAAAAAAABRQAAAAAAAQFFAAAAAAACAVUAAAAAAAIBQQAAAAAAAgE1AAAAAAAAASkAAAAAAAABUQAAAAAAAgExAAAAAAACAUkAAAAAAAEBQQAAAAAAAAFBAAAAAAADAUUAAAAAAAEBQQAAAAAAAgE9AAAAAAAAASUAAAAAAAMBQQAAAAAAAAEtAAAAAAACATkAAAAAAAABRQAAAAAAAgFFAAAAAAACAQkAAAAAAAEBSQAAAAAAAgE5AAAAAAACAUEAAAAAAAIBRQAAAAAAAwFNAAAAAAAAAUkAAAAAAAIBRQAAAAAAAgFNAAAAAAACARUAAAAAAAEBRQAAAAAAAAFFAAAAAAAAAV0AAAAAAAMBRQAAAAAAAgFRAAAAAAACAT0AAAAAAAIBWQAAAAAAAgFJAAAAAAACATUAAAAAAAMBRQAAAAAAAAEtAAAAAAABAUkAAAAAAAIBQQAAAAAAAQFVAAAAAAACASkAAAAAAAEBQQAAAAAAAgENAAAAAAACAVUAAAAAAAABSQAAAAAAAwFBAAAAAAAAATkAAAAAAAABRQAAAAAAAwFFAAAAAAAAATkAAAAAAAABCQAAAAAAAgERAAAAAAABAUEAAAAAAAABWQAAAAAAAgFZAAAAAAAAAUkAAAAAAAEBTQAAAAAAAgFBAAAAAAAAATUAAAAAAAIBVQAAAAAAAAE1AAAAAAAAAUkAAAAAAAIBNQAAAAAAAgEdAAAAAAABAU0AAAAAAAMBWQAAAAAAAAE9AAAAAAABAUkAAAAAAAMBQQAAAAAAAgEZAAAAAAADAUkAAAAAAAEBUQAAAAAAAgFBAAAAAAACAT0AAAAAAAEBRQAAAAAAAAE5AAAAAAAAAU0AAAAAAAIBQQAAAAAAAwFJAAAAAAABAV0AAAAAAAIBLQAAAAAAAgE1AAAAAAAAATkAAAAAAAAA4QAAAAAAAADlAAAAAAABAU0AAAAAAAEBQQAAAAAAAAE5AAAAAAAAAUEAAAAAAAIBRQAAAAAAAgFRAAAAAAADAUUAAAAAAAMBQQAAAAAAAAFBAAAAAAAAATEAAAAAAAABYQAAAAAAAQFBAAAAAAAAAVkAAAAAAAABNQAAAAAAAwFBAAAAAAACAUkAAAAAAAABRQAAAAAAAgEpAAAAAAABAUkAAAAAAAEBQQAAAAAAAgE5AAAAAAACATUAAAAAAAABVQAAAAAAAAFRAAAAAAAAAUUAAAAAAAIBRQAAAAAAAAFJAAAAAAACASUAAAAAAAABNQAAAAAAAAElAAAAAAACATUAAAAAAAABTQAAAAAAAgEBAAAAAAACATUAAAAAAAABNQAAAAAAAgE5AAAAAAAAAU0AAAAAAAMBSQAAAAAAAgE1AAAAAAADAUUAAAAAAAEBVQAAAAAAAAE1A",
          "dtype": "f8"
         },
         "xaxis": "x",
         "y": {
          "bdata": "AAAAAAAgVUAAAAAAAEBJQDMzMzMzM0dAMzMzMzMzR0CamZmZmdlAQAAAAAAAAEBAmpmZmZkZMkAAAAAAAAAtQJqZmZmZmSlAMzMzMzMzKUAzMzMzMzMmQGZmZmZmZiNAMzMzMzMzI0CamZmZmZkgQM3MzMzMzB5AZmZmZmZmHkBmZmZmZmYeQJqZmZmZmR1AMzMzMzMzHUAzMzMzMzMdQDMzMzMzMx1AMzMzMzMzHUAAAAAAAAAcQJqZmZmZmRtAAAAAAAAAGkAAAAAAAAAaQDMzMzMzMxlAMzMzMzMzGUBmZmZmZmYYQGZmZmZmZhhAAAAAAAAAFkCamZmZmZkVQJqZmZmZmRVAMzMzMzMzFUCamZmZmZkTQDMzMzMzMxNAMzMzMzMzE0DNzMzMzMwSQM3MzMzMzBJAAAAAAAAAEkCamZmZmZkRQDMzMzMzMxFAzczMzMzMEEBmZmZmZmYQQDMzMzMzMw9AZmZmZmZmDkBmZmZmZmYOQM3MzMzMzAxAzczMzMzMDEAAAAAAAAAMQGZmZmZmZgpAZmZmZmZmCkDNzMzMzMwIQAAAAAAAAAhAAAAAAAAACEAAAAAAAAAIQAAAAAAAAAhAAAAAAAAACEAAAAAAAAAIQAAAAAAAAAhAAAAAAAAACEAzMzMzMzMHQGZmZmZmZgZAZmZmZmZmBkBmZmZmZmYGQGZmZmZmZgZAmpmZmZmZBUCamZmZmZkFQJqZmZmZmQVAzczMzMzMBEAAAAAAAAAEQAAAAAAAAARAAAAAAAAABEAzMzMzMzMDQDMzMzMzMwNAMzMzMzMzA0AzMzMzMzMDQDMzMzMzMwNAMzMzMzMzA0AzMzMzMzMDQDMzMzMzMwNAZmZmZmZmAkBmZmZmZmYCQGZmZmZmZgJAZmZmZmZmAkBmZmZmZmYCQGZmZmZmZgJAZmZmZmZmAkBmZmZmZmYCQJqZmZmZmQFAmpmZmZmZAUCamZmZmZkBQJqZmZmZmQFAmpmZmZmZAUCamZmZmZkBQM3MzMzMzABAzczMzMzMAEAAAAAAAAAAQAAAAAAAAABAZmZmZmZm/j9mZmZmZmb+P2ZmZmZmZv4/ZmZmZmZm/j9mZmZmZmb+P2ZmZmZmZv4/ZmZmZmZm/j9mZmZmZmb+P2ZmZmZmZv4/ZmZmZmZm/j/NzMzMzMz8P83MzMzMzPw/zczMzMzM/D/NzMzMzMz8P83MzMzMzPw/zczMzMzM/D8zMzMzMzP7PzMzMzMzM/s/MzMzMzMz+z8zMzMzMzP7PzMzMzMzM/s/mpmZmZmZ+T+amZmZmZn5P5qZmZmZmfk/mpmZmZmZ+T8AAAAAAAD4PwAAAAAAAPg/AAAAAAAA+D8AAAAAAAD4PwAAAAAAAPg/AAAAAAAA+D8AAAAAAAD4PwAAAAAAAPg/AAAAAAAA+D8AAAAAAAD4PwAAAAAAAPg/AAAAAAAA+D9mZmZmZmb2P2ZmZmZmZvY/ZmZmZmZm9j9mZmZmZmb2P2ZmZmZmZvY/ZmZmZmZm9j9mZmZmZmb2P2ZmZmZmZvY/ZmZmZmZm9j9mZmZmZmb2P2ZmZmZmZvY/zczMzMzM9D/NzMzMzMz0P83MzMzMzPQ/zczMzMzM9D/NzMzMzMz0P83MzMzMzPQ/MzMzMzMz8z8zMzMzMzPzPzMzMzMzM/M/MzMzMzMz8z8zMzMzMzPzPzMzMzMzM/M/MzMzMzMz8z8zMzMzMzPzPzMzMzMzM/M/MzMzMzMz8z8zMzMzMzPzPzMzMzMzM/M/MzMzMzMz8z+amZmZmZnxP5qZmZmZmfE/mpmZmZmZ8T+amZmZmZnxP5qZmZmZmfE/mpmZmZmZ8T+amZmZmZnxP5qZmZmZmfE/mpmZmZmZ8T8AAAAAAADwPwAAAAAAAPA/AAAAAAAA8D8AAAAAAADwPwAAAAAAAPA/",
          "dtype": "f8"
         },
         "yaxis": "y"
        },
        {
         "customdata": [
          [
           "Zhong Shanshan"
          ],
          [
           "Giovanni Ferrero"
          ],
          [
           "Qin Yinglin & family"
          ],
          [
           "Jacqueline Mars"
          ],
          [
           "John Mars"
          ],
          [
           "Dietrich Mateschitz"
          ],
          [
           "Pang Kang"
          ],
          [
           "Zhang Yong"
          ],
          [
           "Emmanuel Besnier"
          ],
          [
           "Lee Man Tat"
          ],
          [
           "Jorge Paulo Lemann & family"
          ],
          [
           "Charlene de Carvalho-Heineken & family"
          ],
          [
           "Finn Rausing"
          ],
          [
           "Jorn Rausing"
          ],
          [
           "Kirsten Rausing"
          ],
          [
           "Charoen Sirivadhanabhakdi"
          ],
          [
           "Marcel Herrmann Telles"
          ],
          [
           "Leng Youbin"
          ],
          [
           "Liu Hanyuan"
          ],
          [
           "Zong Qinghou"
          ],
          [
           "Cheng Xue"
          ],
          [
           "Carlos Alberto Sicupira & family"
          ],
          [
           "Xu Shihui"
          ],
          [
           "Bubba Cathy"
          ],
          [
           "Dan Cathy"
          ],
          [
           "Marijke Mars"
          ],
          [
           "Pamela Mars"
          ],
          [
           "Valerie Mars"
          ],
          [
           "Victoria Mars"
          ],
          [
           "Juan Francisco Beckmann Vidal & family"
          ],
          [
           "Shi Yonghong & family"
          ],
          [
           "Erich Wesjohann & family"
          ],
          [
           "Jean-Michel Besnier"
          ],
          [
           "Marie Besnier Beauvalot"
          ],
          [
           "Pauline MacMillan Keinath"
          ],
          [
           "Axel Oberwelland"
          ],
          [
           "Tsai Eng-meng"
          ],
          [
           "Murat Ulker"
          ],
          [
           "Wang Junlin"
          ],
          [
           "Maria Asuncion Aramburuzabala & family"
          ],
          [
           "Emanuele (Lino) Saputo & family"
          ],
          [
           "J. Christopher Reyes"
          ],
          [
           "Jude Reyes"
          ],
          [
           "Shu Ping"
          ],
          [
           "Harry Stine"
          ],
          [
           "Theo Mueller"
          ],
          [
           "Howard Schultz"
          ],
          [
           "Issad Rebrab & family"
          ],
          [
           "Bert Beveridge"
          ],
          [
           "Tilman Fertitta"
          ],
          [
           "Robert Rich, Jr."
          ],
          [
           "Paul-Heinz Wesjohann & family"
          ],
          [
           "Nick Caporella"
          ],
          [
           "Gustav Magnar Witzoe"
          ],
          [
           "Luca Garavoglia"
          ],
          [
           "Gwendolyn Sontheim Meyer"
          ],
          [
           "Beatriz Davila de Santo Domingo"
          ],
          [
           "Wu Zhigang & family"
          ],
          [
           "Don Vultaggio & family"
          ],
          [
           "Nusli Wadia"
          ],
          [
           "Marian Ilitch"
          ],
          [
           "Mary Alice Dorrance Malone"
          ],
          [
           "Russ Weiner"
          ],
          [
           "Austen Cargill, II."
          ],
          [
           "James Cargill, II."
          ],
          [
           "Marianne Liebmann"
          ],
          [
           "Lynsi Snyder"
          ],
          [
           "Andrej Babis"
          ],
          [
           "Alessandra Garavoglia"
          ],
          [
           "Wu Shaoxun"
          ],
          [
           "Deng Wen"
          ],
          [
           "Margarita Louis-Dreyfus & family"
          ],
          [
           "John Middleton"
          ],
          [
           "Ravi Jaipuria"
          ],
          [
           "Jim Koch"
          ],
          [
           "Hans Peter Wild"
          ],
          [
           "William Wrigley, Jr."
          ],
          [
           "Jack Cowin"
          ],
          [
           "Sheldon Lavin"
          ],
          [
           "Louis Le Duff"
          ],
          [
           "James Leprino"
          ],
          [
           "Joesley Batista"
          ],
          [
           "Wesley Batista"
          ],
          [
           "Bennett Dorrance"
          ],
          [
           "Walter Faria"
          ],
          [
           "Fu Guangming & family"
          ],
          [
           "Liang Yunchao"
          ],
          [
           "Alejandro Santo Domingo"
          ],
          [
           "Xu Yingzhuo"
          ],
          [
           "Vivek Chand Burman"
          ],
          [
           "Bergit Douglas"
          ],
          [
           "Hilton Schlosberg"
          ],
          [
           "John Dorrance, III."
          ],
          [
           "C. Dean Metropoulos"
          ],
          [
           "Yuri Shefler"
          ],
          [
           "Carol Jenkins Barnett"
          ],
          [
           "Charles Bronfman"
          ],
          [
           "Jose Luis Cutrale"
          ],
          [
           "Harsh Mariwala"
          ],
          [
           "Rodney Sacks"
          ],
          [
           "Sun Mengquan & family"
          ],
          [
           "Luigi Cremonini & family"
          ],
          [
           "Vadim Moshkovich"
          ],
          [
           "Tony Tan Caktiong & family"
          ],
          [
           "John Tyson"
          ],
          [
           "David Wertheim"
          ],
          [
           "Carlos Ardila Lülle"
          ],
          [
           "Anand Burman"
          ],
          [
           "Joseph Grendys"
          ],
          [
           "Guan Yihong"
          ],
          [
           "Li Xuhui"
          ],
          [
           "Clayton Mathile"
          ],
          [
           "Wei Ying-Chiao"
          ],
          [
           "Ramon Ang"
          ],
          [
           "Acharya Balkrishna"
          ],
          [
           "Maria Franca Fissolo"
          ],
          [
           "Qian Ying"
          ],
          [
           "Lin Yinsun"
          ],
          [
           "Daniel Lubetzky"
          ],
          [
           "Prayudh Mahagitsiri"
          ],
          [
           "Kishore Mariwala"
          ],
          [
           "David Murdock"
          ],
          [
           "Richard Sands"
          ],
          [
           "Robert Sands"
          ],
          [
           "S. Daniel Abraham"
          ],
          [
           "Dai Wenjun"
          ],
          [
           "Sol Daurella"
          ],
          [
           "Sam Goi"
          ],
          [
           "Sathien Setthasit"
          ],
          [
           "Hamdi Ulukaya"
          ],
          [
           "Wei Ing-Chou"
          ],
          [
           "Josef Boquoi & family"
          ],
          [
           "Wan Long"
          ],
          [
           "Wei Yin-Chun"
          ],
          [
           "Wei Yin-Heng"
          ],
          [
           "Yang Tingdong"
          ],
          [
           "Zhang Yubai"
          ],
          [
           "Peter Buck"
          ],
          [
           "Saket Burman"
          ],
          [
           "Giuliana Caprotti"
          ],
          [
           "Marina Caprotti"
          ],
          [
           "R.G. Chandramogan"
          ],
          [
           "Alexandra Daitch"
          ],
          [
           "Christopher Goldsbury"
          ],
          [
           "Jimmy John Liautaud"
          ],
          [
           "Sarah MacMillan"
          ],
          [
           "Andres Santo Domingo"
          ],
          [
           "Shao Genhuo"
          ],
          [
           "Lucy Stitzer"
          ],
          [
           "Robert Toennies"
          ],
          [
           "Charlotte Colket Weber"
          ],
          [
           "Ye Yanqiao"
          ],
          [
           "Amit Burman"
          ],
          [
           "Jean-Pierre Cayard"
          ],
          [
           "Chen Zemin & family"
          ],
          [
           "Kentaro Ogawa"
          ],
          [
           "Pan Gang"
          ],
          [
           "Petro Poroshenko"
          ],
          [
           "Clemens Toennies"
          ],
          [
           "Yang Lijuan"
          ],
          [
           "Yao Kuizhang"
          ],
          [
           "Chen Xianbao & family"
          ],
          [
           "Huang Wenbiao"
          ],
          [
           "Wu Zhenxing"
          ],
          [
           "Jitse Groen"
          ],
          [
           "Francis Holder"
          ],
          [
           "Li Denghai"
          ],
          [
           "Liu Hua"
          ],
          [
           "Drorit Wertheim"
          ],
          [
           "Richard Yuengling, Jr."
          ],
          [
           "Chuck Bundrant"
          ],
          [
           "Pradip Burman"
          ],
          [
           "Cheng Lili"
          ],
          [
           "Kim Nam-jung"
          ],
          [
           "Brandt Louie"
          ],
          [
           "Lidiya Mikhailova & family"
          ],
          [
           "Nobutada Saji"
          ],
          [
           "Carl DeSantis"
          ],
          [
           "Alexander Lutsenko & family"
          ],
          [
           "Nguyen Dang Quang"
          ],
          [
           "Duke Reyes"
          ],
          [
           "Nutchamai Thanombooncharoen"
          ],
          [
           "Xu Guifen & family"
          ],
          [
           "Cheng Antares"
          ],
          [
           "Henry Davis"
          ],
          [
           "Ho Kuang-chi"
          ],
          [
           "Liu Shenghui"
          ],
          [
           "Cargill MacMillan, III."
          ],
          [
           "John MacMillan"
          ],
          [
           "Martha MacMillan"
          ],
          [
           "William MacMillan"
          ],
          [
           "Bruce Mathieson"
          ],
          [
           "Ricardo Po, Sr. & family"
          ],
          [
           "Vera Rechulski Santo Domingo"
          ],
          [
           "Edgar Sia II"
          ],
          [
           "Wen Pengcheng & family"
          ],
          [
           "Zhang Xuewu"
          ],
          [
           "GT Dave"
          ],
          [
           "Horst-Otto Gerberding"
          ],
          [
           "Gou Yiqun"
          ],
          [
           "Hur Young-in"
          ],
          [
           "Vitaly Orlov"
          ],
          [
           "Rit Thirakomen"
          ],
          [
           "Xu Jin"
          ]
         ],
         "hovertemplate": "Industry=Food & Beverage<br>Age=%{x}<br>Net Worth (in Billion USD)=%{y}<br>Name=%{customdata[0]}<extra></extra>",
         "legendgroup": "Food & Beverage",
         "marker": {
          "color": "#19d3f3",
          "symbol": "circle"
         },
         "mode": "markers",
         "name": "Food & Beverage",
         "showlegend": true,
         "type": "scattergl",
         "x": {
          "bdata": "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",
          "dtype": "f8"
         },
         "xaxis": "x",
         "y": {
          "bdata": "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",
          "dtype": "f8"
         },
         "yaxis": "y"
        },
        {
         "customdata": [
          [
           "Carlos Slim Helu & family"
          ],
          [
           "Masayoshi Son"
          ],
          [
           "Patrick Drahi"
          ],
          [
           "Sunil Mittal & family"
          ],
          [
           "Xavier Niel"
          ],
          [
           "Rocco Commisso"
          ],
          [
           "Ananda Krishnan"
          ],
          [
           "Yasumitsu Shigeta"
          ],
          [
           "Denis O'Brien"
          ],
          [
           "Richard Li"
          ],
          [
           "Shaul Shani"
          ],
          [
           "Vladimir Yevtushenkov"
          ],
          [
           "Chey Tae-won"
          ],
          [
           "Naguib Sawiris"
          ],
          [
           "John Caudwell"
          ],
          [
           "Najib Mikati"
          ],
          [
           "Taha Mikati"
          ],
          [
           "Craig McCaw"
          ],
          [
           "David Teoh & family"
          ],
          [
           "Lv Dalong"
          ],
          [
           "Wu Kaiting"
          ],
          [
           "Strive Masiyiwa"
          ],
          [
           "Kenny Troutt"
          ],
          [
           "Lu Rongfu"
          ],
          [
           "Terence (Terry) Matthews"
          ],
          [
           "Shusheng Zheng"
          ],
          [
           "Gleb Fetisov"
          ],
          [
           "Ren Zhengfei"
          ],
          [
           "Charles Dunstone"
          ],
          [
           "Mohammed Ibrahim"
          ],
          [
           "Zhong Peifeng"
          ],
          [
           "Murat Vargi"
          ]
         ],
         "hovertemplate": "Industry=Telecom<br>Age=%{x}<br>Net Worth (in Billion USD)=%{y}<br>Name=%{customdata[0]}<extra></extra>",
         "legendgroup": "Telecom",
         "marker": {
          "color": "#FF6692",
          "symbol": "circle"
         },
         "mode": "markers",
         "name": "Telecom",
         "showlegend": true,
         "type": "scattergl",
         "x": {
          "bdata": "AAAAAABAVEAAAAAAAIBPQAAAAAAAgExAAAAAAACAT0AAAAAAAIBKQAAAAAAAwFFAAAAAAADAVEAAAAAAAABMQAAAAAAAAE9AAAAAAAAAS0AAAAAAAIBQQAAAAAAAAFJAAAAAAAAATkAAAAAAAIBQQAAAAAAAAFFAAAAAAABAUEAAAAAAAABTQAAAAAAAwFFAAAAAAABAUEAAAAAAAIBNQAAAAAAAgElAAAAAAAAATkAAAAAAAEBSQAAAAAAAAElAAAAAAACAU0AAAAAAAIBLQAAAAAAAAEtAAAAAAABAU0AAAAAAAIBMQAAAAAAAgFJAAAAAAAAATUAAAAAAAEBSQA==",
          "dtype": "f8"
         },
         "xaxis": "x",
         "y": {
          "bdata": "ZmZmZmZmT0AzMzMzM7NGQJqZmZmZmSdAAAAAAAAAJUCamZmZmZkhQM3MzMzMzBxAMzMzMzMzF0CamZmZmZkTQGZmZmZmZhJAAAAAAAAAEkBmZmZmZmYOQDMzMzMzMwtAmpmZmZmZCUCamZmZmZkJQM3MzMzMzAhAAAAAAAAABEAAAAAAAAAEQAAAAAAAAABAZmZmZmZm/j/NzMzMzMz8P83MzMzMzPw/AAAAAAAA+D8AAAAAAAD4P2ZmZmZmZvY/ZmZmZmZm9j9mZmZmZmb2PzMzMzMzM/M/MzMzMzMz8z+amZmZmZnxP5qZmZmZmfE/mpmZmZmZ8T8AAAAAAADwPw==",
          "dtype": "f8"
         },
         "yaxis": "y"
        },
        {
         "customdata": [
          [
           "Michael Bloomberg"
          ],
          [
           "David Thomson & family"
          ],
          [
           "Rupert Murdoch & family"
          ],
          [
           "Su Hua"
          ],
          [
           "Donald Newhouse"
          ],
          [
           "Cheng Yixiao"
          ],
          [
           "Forrest Li"
          ],
          [
           "Charles Ergen"
          ],
          [
           "David Geffen"
          ],
          [
           "Jim Kennedy"
          ],
          [
           "Blair Parry-Okeden"
          ],
          [
           "Dmitry Bukhman"
          ],
          [
           "Igor Bukhman"
          ],
          [
           "John Malone"
          ],
          [
           "George Lucas"
          ],
          [
           "Gang Ye"
          ],
          [
           "Wang Ning & family"
          ],
          [
           "James Chambers"
          ],
          [
           "Jason Jiang"
          ],
          [
           "Katharine Rayner"
          ],
          [
           "Margaretta Taylor"
          ],
          [
           "Charles Dolan & family"
          ],
          [
           "Isaac Perlmutter"
          ],
          [
           "Chen Rui"
          ],
          [
           "Clive Calder"
          ],
          [
           "Reed Hastings"
          ],
          [
           "Tim Sweeney"
          ],
          [
           "Mark Cuban"
          ],
          [
           "Barry Diller"
          ],
          [
           "Jeff Green"
          ],
          [
           "Amos Hostetter, Jr."
          ],
          [
           "Steven Spielberg"
          ],
          [
           "Hubert Burda"
          ],
          [
           "Martha Ingram & family"
          ],
          [
           "Thomas Secunda"
          ],
          [
           "Arnon Milchan"
          ],
          [
           "Xu Yi"
          ],
          [
           "Zygmunt Solorz-Zak"
          ],
          [
           "Koos Bekker"
          ],
          [
           "Haim Saban"
          ],
          [
           "Eddy Kusnadi Sariaatmadja"
          ],
          [
           "Friede Springer"
          ],
          [
           "Wang Changtian"
          ],
          [
           "Yin Xin"
          ],
          [
           "Huang Qiaoling"
          ],
          [
           "Kim Taek-jin"
          ],
          [
           "David Baszucki"
          ],
          [
           "Stefan von Holtzbrinck"
          ],
          [
           "Lars Wingefors"
          ],
          [
           "Oprah Winfrey"
          ],
          [
           "Kalanithi Maran"
          ],
          [
           "Charles Zegar"
          ],
          [
           "Yvonne Bauer"
          ],
          [
           "David Chen"
          ],
          [
           "Bang Shi-hyuk"
          ],
          [
           "Gretel Packer"
          ],
          [
           "Andrew Paradise"
          ],
          [
           "Krit Ratanarak"
          ],
          [
           "Ted Turner"
          ],
          [
           "Arkady Volozh"
          ],
          [
           "John de Mol"
          ],
          [
           "Kenneth Feld & family"
          ],
          [
           "Yasuhiro Fukushima"
          ],
          [
           "Li Yong"
          ],
          [
           "Pierre Karl Péladeau"
          ],
          [
           "Stanley Hubbard"
          ],
          [
           "Brian Roberts"
          ],
          [
           "Todd Wagner"
          ],
          [
           "Joao Roberto Marinho"
          ],
          [
           "Jose Roberto Marinho"
          ],
          [
           "Roberto Irineu Marinho"
          ],
          [
           "Markus Persson"
          ],
          [
           "Susumu Fujita"
          ],
          [
           "Gary Magness"
          ],
          [
           "Alan Gerry"
          ],
          [
           "Jay-Z"
          ],
          [
           "Richard Desmond"
          ],
          [
           "Lu Hongyan"
          ],
          [
           "Dirk Stroeer"
          ],
          [
           "Joop van den Ende"
          ],
          [
           "Mathias Doepfner"
          ],
          [
           "Aydin Dogan"
          ],
          [
           "Huang Yimeng"
          ],
          [
           "Guy Laliberté"
          ],
          [
           "Udo Mueller"
          ],
          [
           "Thomas Tull"
          ],
          [
           "Pu Shulin"
          ],
          [
           "Susanto Suwarto"
          ],
          [
           "Hary Tanoesoedibjo"
          ],
          [
           "Yu Faxiang"
          ],
          [
           "Tyler Perry"
          ],
          [
           "Alan Rydge"
          ]
         ],
         "hovertemplate": "Industry=Media & Entertainment<br>Age=%{x}<br>Net Worth (in Billion USD)=%{y}<br>Name=%{customdata[0]}<extra></extra>",
         "legendgroup": "Media & Entertainment",
         "marker": {
          "color": "#B6E880",
          "symbol": "circle"
         },
         "mode": "markers",
         "name": "Media & Entertainment",
         "showlegend": true,
         "type": "scattergl",
         "x": {
          "bdata": "AAAAAADAU0AAAAAAAIBPQAAAAAAAgFZAAAAAAACAQ0AAAAAAAMBWQAAAAAAAgEJAAAAAAACARUAAAAAAAABRQAAAAAAAgFNAAAAAAABAUkAAAAAAAIBRQAAAAAAAgEFAAAAAAACAQ0AAAAAAAABUQAAAAAAAAFNAAAAAAAAAREAAAAAAAABBQAAAAAAAgE9AAAAAAAAASEAAAAAAAABTQAAAAAAAgFNAAAAAAACAV0AAAAAAAIBTQAAAAAAAgEVAAAAAAACAUkAAAAAAAABOQAAAAAAAAElAAAAAAAAAT0AAAAAAAMBTQAAAAAAAAEZAAAAAAAAAVUAAAAAAAIBSQAAAAAAAQFRAAAAAAABAVUAAAAAAAIBQQAAAAAAAAFNAAAAAAAAAP0AAAAAAAABQQAAAAAAAAFFAAAAAAAAAU0AAAAAAAMBQQAAAAAAAgFNAAAAAAACAS0AAAAAAAABCQAAAAAAAAE9AAAAAAAAAS0AAAAAAAABNQAAAAAAAgExAAAAAAAAARkAAAAAAAMBQQAAAAAAAgEtAAAAAAABAUkAAAAAAAABGQAAAAAAAAERAAAAAAAAASEAAAAAAAIBLQAAAAAAAAENAAAAAAACAUkAAAAAAAIBUQAAAAAAAgExAAAAAAACAUEAAAAAAAABSQAAAAAAAQFJAAAAAAACAR0AAAAAAAIBNQAAAAAAAwFVAAAAAAACATkAAAAAAAABOQAAAAAAAwFBAAAAAAABAUEAAAAAAAEBSQAAAAAAAgERAAAAAAACAR0AAAAAAAMBQQAAAAAAAAFdAAAAAAACASUAAAAAAAEBRQAAAAAAAgEVAAAAAAAAASkAAAAAAAMBTQAAAAAAAAE1AAAAAAAAAVUAAAAAAAIBDQAAAAAAAgE5AAAAAAACATUAAAAAAAABJQAAAAAAAQFBAAAAAAABAUEAAAAAAAIBLQAAAAAAAgEhAAAAAAACASUAAAAAAAABRQA==",
          "dtype": "f8"
         },
         "xaxis": "x",
         "y": {
          "bdata": "AAAAAACATUBmZmZmZuZEQAAAAAAAgDdAzczMzMzMMUCamZmZmZkxQDMzMzMzMyxAzczMzMzMKEAzMzMzMzMjQAAAAAAAACNAzczMzMzMIkDNzMzMzMwiQJqZmZmZmR9AmpmZmZmZH0AzMzMzMzMfQJqZmZmZmR1AZmZmZmZmHEAzMzMzMzMZQM3MzMzMzBhAzczMzMzMGEDNzMzMzMwYQM3MzMzMzBhAZmZmZmZmGEAAAAAAAAAYQJqZmZmZmRdAAAAAAAAAFkBmZmZmZmYUQM3MzMzMzBJAmpmZmZmZEUDNzMzMzMwQQGZmZmZmZg5AZmZmZmZmDkCamZmZmZkNQAAAAAAAAAxAAAAAAAAADEAAAAAAAAAMQDMzMzMzMwtAMzMzMzMzC0CamZmZmZkJQAAAAAAAAAhAAAAAAAAACEAAAAAAAAAIQAAAAAAAAAhAAAAAAAAACEAAAAAAAAAIQDMzMzMzMwdAMzMzMzMzB0BmZmZmZmYGQGZmZmZmZgZAZmZmZmZmBkCamZmZmZkFQM3MzMzMzARAzczMzMzMBEAzMzMzMzMDQDMzMzMzMwNAZmZmZmZmAkBmZmZmZmYCQGZmZmZmZgJAZmZmZmZmAkBmZmZmZmYCQGZmZmZmZgJAAAAAAAAAAEAAAAAAAAAAQAAAAAAAAABAAAAAAAAAAEAAAAAAAAAAQGZmZmZmZv4/ZmZmZmZm/j9mZmZmZmb+P83MzMzMzPw/zczMzMzM/D/NzMzMzMz8PzMzMzMzM/s/mpmZmZmZ+T+amZmZmZn5PwAAAAAAAPg/ZmZmZmZm9j/NzMzMzMz0P83MzMzMzPQ/zczMzMzM9D/NzMzMzMz0PzMzMzMzM/M/MzMzMzMz8z8zMzMzMzPzPzMzMzMzM/M/MzMzMzMz8z8zMzMzMzPzP5qZmZmZmfE/mpmZmZmZ8T+amZmZmZnxP5qZmZmZmfE/AAAAAAAA8D8AAAAAAADwPw==",
          "dtype": "f8"
         },
         "yaxis": "y"
        },
        {
         "customdata": [
          [
           "Wang Wei"
          ],
          [
           "Zhang Bangxin"
          ],
          [
           "Liu Yonghao & family"
          ],
          [
           "Larry Xiangdong Chen"
          ],
          [
           "Micky Arison"
          ],
          [
           "Liu Yongxing"
          ],
          [
           "Frits Goldschmeding"
          ],
          [
           "Tamara Gustavson"
          ],
          [
           "Gary Rollins"
          ],
          [
           "Pierre Bellon & family"
          ],
          [
           "Wang Zhendong"
          ],
          [
           "Shari Arison"
          ],
          [
           "Michael Minhong Yu"
          ],
          [
           "Steven Udvar-Hazy"
          ],
          [
           "Tom Golisano"
          ],
          [
           "Bertil Hult"
          ],
          [
           "Rakesh Gangwal"
          ],
          [
           "Robert Rowling"
          ],
          [
           "Li Yongxin & family"
          ],
          [
           "Anthony Pritzker"
          ],
          [
           "Jim Davis"
          ],
          [
           "B. Wayne Hughes"
          ],
          [
           "Jean (Gigi) Pritzker"
          ],
          [
           "Nie Tengyun & family"
          ],
          [
           "Philippe Foriel-Destezet"
          ],
          [
           "Maggie Hardy Knox"
          ],
          [
           "Glen Taylor"
          ],
          [
           "Kenneth Tuchman"
          ],
          [
           "Sergio Mantegazza"
          ],
          [
           "Jeremy Jacobs, Sr. & family"
          ],
          [
           "Vijay Shekhar Sharma"
          ],
          [
           "Liu Yachao"
          ],
          [
           "Linda Pritzker"
          ],
          [
           "Wang Zhenghua"
          ],
          [
           "Wu Junbao"
          ],
          [
           "Li Guangyu"
          ],
          [
           "Dmitry Kamenshchik"
          ],
          [
           "Lee Boo-jin"
          ],
          [
           "Miguel Fluxa Rossello"
          ],
          [
           "Peter Sperling"
          ],
          [
           "Torstein Hagen"
          ],
          [
           "Helena Revoredo"
          ],
          [
           "Xu Wanmao"
          ],
          [
           "Fernando Chico Pardo"
          ],
          [
           "Darwin Deason"
          ],
          [
           "Robert Mouawad"
          ],
          [
           "Sunny Varkey"
          ],
          [
           "Wang Junjin"
          ],
          [
           "Xie Ketao"
          ],
          [
           "Yu Guo"
          ],
          [
           "Chang Pyung-soon"
          ],
          [
           "Ranjan Pai"
          ],
          [
           "Petter Stordalen & family"
          ],
          [
           "Zhou Xiayun & family"
          ],
          [
           "Cheng Wei"
          ],
          [
           "Gabriel Escarrer"
          ],
          [
           "Stelios Haji-Ioannou"
          ],
          [
           "Hu Xiaojun & family"
          ],
          [
           "Soichiro Fukutake"
          ],
          [
           "Polys Haji-Ioannou"
          ],
          [
           "Huang Qiaolong & family"
          ],
          [
           "Mitchell Jacobson"
          ],
          [
           "Manfredi Lefebvre d'Ovidio"
          ],
          [
           "Shirou Terashita"
          ],
          [
           "Wen Yibo & family"
          ],
          [
           "Wu Wei"
          ],
          [
           "Xiao Guoqing"
          ],
          [
           "Zhao Tongtong"
          ],
          [
           "Zhou Ping & family"
          ],
          [
           "Clelia Haji-Ioannou"
          ],
          [
           "Hou Jianbin"
          ],
          [
           "David Katzman"
          ],
          [
           "Wang Qiangxiang"
          ]
         ],
         "hovertemplate": "Industry=Service<br>Age=%{x}<br>Net Worth (in Billion USD)=%{y}<br>Name=%{customdata[0]}<extra></extra>",
         "legendgroup": "Service",
         "marker": {
          "color": "#FF97FF",
          "symbol": "circle"
         },
         "mode": "markers",
         "name": "Service",
         "showlegend": true,
         "type": "scattergl",
         "x": {
          "bdata": "AAAAAAAASUAAAAAAAIBEQAAAAAAAQFFAAAAAAACASEAAAAAAAMBRQAAAAAAAAFJAAAAAAADAVUAAAAAAAIBNQAAAAAAAAFNAAAAAAADAVkAAAAAAAABGQAAAAAAAgE9AAAAAAACATUAAAAAAAMBSQAAAAAAAwFNAAAAAAAAAVEAAAAAAAMBQQAAAAAAAwFBAAAAAAACARkAAAAAAAABOQAAAAAAAgE5AAAAAAADAVUAAAAAAAABNQAAAAAAAgEZAAAAAAABAVUAAAAAAAIBLQAAAAAAAwFNAAAAAAACATkAAAAAAAEBXQAAAAAAAQFRAAAAAAAAARUAAAAAAAABEQAAAAAAAwFBAAAAAAAAAU0AAAAAAAIBLQAAAAAAAgExAAAAAAAAASkAAAAAAAABJQAAAAAAAgFRAAAAAAACATkAAAAAAAIBTQAAAAAAAgFJAAAAAAAAAU0AAAAAAAEBRQAAAAAAAAFRAAAAAAAAAU0AAAAAAAIBPQAAAAAAAAEpAAAAAAACATEAAAAAAAIBNQAAAAAAAgFFAAAAAAAAASEAAAAAAAABNQAAAAAAAgFBAAAAAAAAAQ0AAAAAAAIBVQAAAAAAAAEtAAAAAAACATUAAAAAAAMBSQAAAAAAAgE5AAAAAAACATkAAAAAAAIBRQAAAAAAAwFBAAAAAAAAAT0AAAAAAAIBLQAAAAAAAgEpAAAAAAAAASkAAAAAAAABLQAAAAAAAAE1AAAAAAAAASUAAAAAAAIBDQAAAAAAAgE5AAAAAAACASEA=",
          "dtype": "f8"
         },
         "xaxis": "x",
         "y": {
          "bdata": "AAAAAACAQ0CamZmZmZkqQDMzMzMzMyhAZmZmZmZmJEDNzMzMzMwaQAAAAAAAABpAAAAAAAAAGEBmZmZmZmYWQM3MzMzMzBRAMzMzMzMzE0AzMzMzMzMTQJqZmZmZmRFAmpmZmZmZEUAzMzMzMzMRQM3MzMzMzBBAzczMzMzMEEAzMzMzMzMPQDMzMzMzMw9AmpmZmZmZDUDNzMzMzMwMQDMzMzMzMwtAZmZmZmZmCkBmZmZmZmYKQM3MzMzMzAhAAAAAAAAACEAzMzMzMzMHQDMzMzMzMwdAZmZmZmZmBkCamZmZmZkFQAAAAAAAAARAZmZmZmZmAkAAAAAAAAAAQAAAAAAAAABAAAAAAAAAAEAAAAAAAAAAQGZmZmZmZv4/zczMzMzM/D/NzMzMzMz8P5qZmZmZmfk/mpmZmZmZ+T8AAAAAAAD4PwAAAAAAAPg/AAAAAAAA+D9mZmZmZmb2P2ZmZmZmZvY/ZmZmZmZm9j9mZmZmZmb2P2ZmZmZmZvY/ZmZmZmZm9j9mZmZmZmb2P83MzMzMzPQ/zczMzMzM9D/NzMzMzMz0P83MzMzMzPQ/MzMzMzMz8z8zMzMzMzPzPzMzMzMzM/M/MzMzMzMz8z+amZmZmZnxP5qZmZmZmfE/mpmZmZmZ8T+amZmZmZnxP5qZmZmZmfE/mpmZmZmZ8T+amZmZmZnxP5qZmZmZmfE/mpmZmZmZ8T+amZmZmZnxP5qZmZmZmfE/AAAAAAAA8D8AAAAAAADwPwAAAAAAAPA/AAAAAAAA8D8=",
          "dtype": "f8"
         },
         "yaxis": "y"
        },
        {
         "customdata": [
          [
           "Miriam Adelson"
          ],
          [
           "Lui Che Woo & family"
          ],
          [
           "Johann Graf"
          ],
          [
           "Denise Coates"
          ],
          [
           "Karel Komarek"
          ],
          [
           "Teddy Sagi"
          ],
          [
           "Mark Scheinberg"
          ],
          [
           "Chen Lip Keong"
          ],
          [
           "Pansy Ho"
          ],
          [
           "Gabe Newell"
          ],
          [
           "Paul Gauselmann & family"
          ],
          [
           "James Packer"
          ],
          [
           "Steve Wynn"
          ],
          [
           "John Coates"
          ],
          [
           "Jon Yarbrough"
          ],
          [
           "Lim Kok Thay"
          ],
          [
           "Lawrence Ho"
          ],
          [
           "Elaine Wynn"
          ],
          [
           "Kazuo Okada"
          ],
          [
           "Chang-Woo Han & family"
          ],
          [
           "Shalom Meckenzie"
          ],
          [
           "William Boyd"
          ],
          [
           "Manuel Lao Hernandez"
          ],
          [
           "Hajime Satomi"
          ],
          [
           "Ina Chan"
          ]
         ],
         "hovertemplate": "Industry=Gambling & Casinos<br>Age=%{x}<br>Net Worth (in Billion USD)=%{y}<br>Name=%{customdata[0]}<extra></extra>",
         "legendgroup": "Gambling & Casinos",
         "marker": {
          "color": "#FECB52",
          "symbol": "circle"
         },
         "mode": "markers",
         "name": "Gambling & Casinos",
         "showlegend": true,
         "type": "scattergl",
         "x": {
          "bdata": "AAAAAADAUkAAAAAAAABXQAAAAAAAgFJAAAAAAACASkAAAAAAAABKQAAAAAAAgEhAAAAAAACAR0AAAAAAAEBSQAAAAAAAAE1AAAAAAAAATUAAAAAAAIBVQAAAAAAAgEpAAAAAAADAU0AAAAAAAIBJQAAAAAAAgE9AAAAAAABAUUAAAAAAAABGQAAAAAAAgFNAAAAAAACAU0AAAAAAAIBWQAAAAAAAAEZAAAAAAABAVkAAAAAAAABTQAAAAAAAwFNAAAAAAADAUEA=",
          "dtype": "f8"
         },
         "xaxis": "x",
         "y": {
          "bdata": "mpmZmZkZQ0BmZmZmZmYzQGZmZmZmZhxAAAAAAAAAGkAAAAAAAAAWQM3MzMzMzBRAmpmZmZmZE0BmZmZmZmYSQDMzMzMzMxFAZmZmZmZmEEAzMzMzMzMPQJqZmZmZmQlAmpmZmZmZCUAAAAAAAAAIQDMzMzMzMwdAmpmZmZmZBUAzMzMzMzMDQGZmZmZmZgJAzczMzMzM/D8zMzMzMzP7PzMzMzMzM/s/mpmZmZmZ+T+amZmZmZn5PzMzMzMzM/M/AAAAAAAA8D8=",
          "dtype": "f8"
         },
         "yaxis": "y"
        },
        {
         "customdata": [
          [
           "He Xiangjian"
          ],
          [
           "Takemitsu Takizaki"
          ],
          [
           "Goh Cheng Liang"
          ],
          [
           "Michael Hartono"
          ],
          [
           "James Ratcliffe"
          ],
          [
           "Reinhold Wuerth & family"
          ],
          [
           "Chen Zhiping"
          ],
          [
           "Liang Wengen"
          ],
          [
           "Wang Liping & family"
          ],
          [
           "Yu Renrong"
          ],
          [
           "Aliko Dangote"
          ],
          [
           "Viktor Rashnikov"
          ],
          [
           "Anthony Pratt"
          ],
          [
           "Chen Jianhua"
          ],
          [
           "Li Zhenguo & family"
          ],
          [
           "Herbert Kohler, Jr. & family"
          ],
          [
           "James Dyson"
          ],
          [
           "Friedhelm Loh"
          ],
          [
           "Yao Liangsong"
          ],
          [
           "Yeung Kin-man"
          ],
          [
           "Steven Rales"
          ],
          [
           "Benu Gopal Bangur"
          ],
          [
           "Kjeld Kirk Kristiansen"
          ],
          [
           "Sofie Kirk Kristiansen"
          ],
          [
           "Thomas Kirk Kristiansen"
          ],
          [
           "Shigenobu Nagamori"
          ],
          [
           "Agnete Kirk Thinggaard"
          ],
          [
           "Ruan Liping"
          ],
          [
           "Ruan Xueping"
          ],
          [
           "Rahel Blocher"
          ],
          [
           "Magdalena Martullo-Blocher"
          ],
          [
           "Jim Davis & family"
          ],
          [
           "Dmitry Rybolovlev"
          ],
          [
           "Antti Herlin"
          ],
          [
           "Sri Prakash Lohia"
          ],
          [
           "Horst Julius Pudwill"
          ],
          [
           "Ashwin Dani & family"
          ],
          [
           "You Xiaoping"
          ],
          [
           "Mitchell Rales"
          ],
          [
           "Stef Wertheimer & family"
          ],
          [
           "Qian Dongqi & family"
          ],
          [
           "Juergen Blickle"
          ],
          [
           "Andrei Guriev & family"
          ],
          [
           "Ronald Wanek"
          ],
          [
           "Lin Jianhua & family"
          ],
          [
           "Li Chunan"
          ],
          [
           "Andrew Currie"
          ],
          [
           "John Reece"
          ],
          [
           "Rainer Blickle"
          ],
          [
           "Ruan Hongliang & family"
          ],
          [
           "Wong Man Li"
          ],
          [
           "Mahendra Choksi & family"
          ],
          [
           "Patrick Lee"
          ],
          [
           "Kate Wang"
          ],
          [
           "Lin Shu-hong"
          ],
          [
           "Wang Xicheng & family"
          ],
          [
           "Hong Jie"
          ],
          [
           "Michael Pieper"
          ],
          [
           "Wong Luen Hei"
          ],
          [
           "Zhou Bajin"
          ],
          [
           "Li Weiguo"
          ],
          [
           "Abhay Vakil & family"
          ],
          [
           "Viatcheslav Kantor"
          ],
          [
           "Lee Yin Yee"
          ],
          [
           "Fang Wei"
          ],
          [
           "Luo Liguo & family"
          ],
          [
           "Wang Yanqing & family"
          ],
          [
           "Xue Hua"
          ],
          [
           "Cho Tak Wong"
          ],
          [
           "Du Jiangtao & family"
          ],
          [
           "Koon Poh Keong"
          ],
          [
           "Paul Xiaoming Lee & family"
          ],
          [
           "Kuan Kam Hon & family"
          ],
          [
           "Kuok Khoon Hong"
          ],
          [
           "Hans Georg Naeder"
          ],
          [
           "Qiu Jianping & family"
          ],
          [
           "Song Fei"
          ],
          [
           "Zhu Gongshan"
          ],
          [
           "Li Liangbin"
          ],
          [
           "Todd Wanek"
          ],
          [
           "Xu Shugen"
          ],
          [
           "Chu Lam Yiu"
          ],
          [
           "S. Curtis Johnson"
          ],
          [
           "Helen Johnson-Leipold"
          ],
          [
           "Li Hongxin & family"
          ],
          [
           "Winifred J. Marquart"
          ],
          [
           "Michael Tojner"
          ],
          [
           "H. Fisk Johnson"
          ],
          [
           "Lim Wee Chai"
          ],
          [
           "Liu Xiaodong"
          ],
          [
           "Fiona Geminder"
          ],
          [
           "Neal Blue & family"
          ],
          [
           "Charles Edelstenne"
          ],
          [
           "Archie Aldis Emmerson & family"
          ],
          [
           "Antonio Del Valle Ruiz & family"
          ],
          [
           "Gu Yuhua & family"
          ],
          [
           "Li Gaiteng"
          ],
          [
           "Zhu Xingming"
          ],
          [
           "Cao Ji"
          ],
          [
           "Chen Kaixuan"
          ],
          [
           "Bai Baokun"
          ],
          [
           "Chen Huwen"
          ],
          [
           "Chen Huxiong"
          ],
          [
           "Deng Weiming & family"
          ],
          [
           "Valentin Gapontsev & family"
          ],
          [
           "Li Xiaohua & family"
          ],
          [
           "Heloise Pratt"
          ],
          [
           "Xu Jinfu"
          ],
          [
           "Zhong Ruonong & family"
          ],
          [
           "Miriam Baumann-Blocher"
          ],
          [
           "Nan Cunhui"
          ],
          [
           "Sun Shoukuan"
          ],
          [
           "Zhang Wanzhen"
          ],
          [
           "Aloke Lohia"
          ],
          [
           "Ren Jianhua"
          ],
          [
           "Wim van der Leegte"
          ],
          [
           "Yu Qibing & family"
          ],
          [
           "Zhaojiang Zhu"
          ],
          [
           "Markus Blocher"
          ],
          [
           "Andrei Bokarev"
          ],
          [
           "Hans Langer"
          ],
          [
           "Liang Feng"
          ],
          [
           "Ruan Shuilong & family"
          ],
          [
           "Fu Mingkang & family"
          ],
          [
           "Madhukar Parekh"
          ],
          [
           "Tang Jinkui & family"
          ],
          [
           "Xiong Shaoming"
          ],
          [
           "Yang Jianliang & family"
          ],
          [
           "Zhang Ning & family"
          ],
          [
           "Deng Yingzhong"
          ],
          [
           "Sandeep Engineer"
          ],
          [
           "David Jiang"
          ],
          [
           "Jiang Weiping & family"
          ],
          [
           "Boris Jordan"
          ],
          [
           "Liang Zhaoxian"
          ],
          [
           "Liu Ming Chung"
          ],
          [
           "Eugene Murtagh"
          ],
          [
           "Sze Man Bok"
          ],
          [
           "Xu Chuanhua & family"
          ],
          [
           "Yang Weidong & family"
          ],
          [
           "Barry Zekelman"
          ],
          [
           "Zhang Yin"
          ],
          [
           "Bill Austin"
          ],
          [
           "Gu Wei"
          ],
          [
           "Guo Jiangang"
          ],
          [
           "Hui Lin Chit"
          ],
          [
           "Li Guoqing"
          ],
          [
           "Li Shuirong"
          ],
          [
           "Li Yongqing"
          ],
          [
           "Mao Zhongwu"
          ],
          [
           "David McMurtry"
          ],
          [
           "Salil Singhal"
          ],
          [
           "Peter Spuhler"
          ],
          [
           "Tran Dinh Long"
          ],
          [
           "Wu Lanlan & family"
          ],
          [
           "Xiang Wenbo"
          ],
          [
           "Xu Yuejuan"
          ],
          [
           "Zhang Jingzhang & family"
          ],
          [
           "Ilkka Herlin"
          ],
          [
           "Frank Laukien"
          ],
          [
           "Liu Zhongtian & family"
          ],
          [
           "Dieter Schnabel"
          ],
          [
           "Wang Chou-hsiong"
          ],
          [
           "Yuan Fugen & family"
          ],
          [
           "Ibrahim Erdemoglu"
          ],
          [
           "Fang Hongbo"
          ],
          [
           "Ilona Herlin"
          ],
          [
           "Sergei Kolesnikov"
          ],
          [
           "Peter Leibinger"
          ],
          [
           "Regine Leibinger"
          ],
          [
           "Nicola Leibinger-Kammueller"
          ],
          [
           "Jeffrey Lorberbaum"
          ],
          [
           "Igor Rybakov"
          ],
          [
           "Martua Sitorus"
          ],
          [
           "Tang Xiuguo"
          ],
          [
           "William Young"
          ],
          [
           "Andrey Blokh"
          ],
          [
           "Chen Shiliang"
          ],
          [
           "Surjit Kumar Gupta"
          ],
          [
           "Li Jiaquan"
          ],
          [
           "Wang Junshi & family"
          ],
          [
           "Yang Xuegang"
          ],
          [
           "Anita Zucker"
          ],
          [
           "Arun Bharat Ram"
          ],
          [
           "Kommer Damen"
          ],
          [
           "Ali Erdemoglu"
          ],
          [
           "He Xinming family"
          ],
          [
           "Qin Long"
          ],
          [
           "Shang Xiaobo & family"
          ],
          [
           "Shi Wen-long"
          ],
          [
           "Martin Viessmann"
          ],
          [
           "Wu Bo"
          ],
          [
           "Xu Guozhong & family"
          ],
          [
           "Chen Xueling"
          ],
          [
           "David Feffer"
          ],
          [
           "Anurang Jain"
          ],
          [
           "Devendra Jain"
          ],
          [
           "Ma Xiuhui"
          ],
          [
           "Narendrakumar Parekh"
          ],
          [
           "Shao Qinxiang"
          ],
          [
           "Rajju Shroff"
          ],
          [
           "Vonnarat Tangkaravakoon"
          ],
          [
           "Tung Ching Sai"
          ],
          [
           "Wang Yanqing & family"
          ],
          [
           "Wu Ying"
          ],
          [
           "Zeng Chaoyi"
          ],
          [
           "Daniel Feffer"
          ],
          [
           "Jorge Feffer"
          ],
          [
           "Ruben Feffer"
          ],
          [
           "Heikki Herlin"
          ],
          [
           "Ke Guihua"
          ],
          [
           "Li Zhen & family"
          ],
          [
           "Jenny Lindén Urnes"
          ],
          [
           "Catherine Lozick"
          ],
          [
           "Ni Zugen"
          ],
          [
           "Ajay Parekh"
          ],
          [
           "Francisco Jose Riberas Mera"
          ],
          [
           "Bhadresh Shah"
          ],
          [
           "Sun Weijie"
          ],
          [
           "Prachak Tangkaravakoon"
          ],
          [
           "Tseng Cheng"
          ],
          [
           "Tung Ching Bor"
          ],
          [
           "Wang Qinghua"
          ],
          [
           "Wu Chaoqun"
          ],
          [
           "Zhang Cheng Fei"
          ],
          [
           "John Farber"
          ],
          [
           "Huh Jae-myung"
          ],
          [
           "Pyotr Kondrashev"
          ],
          [
           "Vladimir Litvinenko"
          ],
          [
           "Liu Xiucai & family"
          ],
          [
           "Sushilkumar Parekh"
          ],
          [
           "Vinod Saraf"
          ],
          [
           "Luc Tack"
          ],
          [
           "Wang Wenbiao"
          ],
          [
           "Wen Yilong"
          ],
          [
           "Xiang Guangming & family"
          ],
          [
           "Xu Gang"
          ],
          [
           "Yuan Zhimin & family"
          ],
          [
           "Zhuang Kuilong & family"
          ],
          [
           "Cai Hao & family"
          ],
          [
           "Gao Yunfeng"
          ],
          [
           "Balkrishan Goenka"
          ],
          [
           "He Ningning"
          ],
          [
           "He Yamin & family"
          ],
          [
           "Hu Chengzhong"
          ],
          [
           "Huang Jian"
          ],
          [
           "Huang Weibin"
          ],
          [
           "Tan Ruiqing"
          ],
          [
           "Wang Mingwang"
          ],
          [
           "Wang Xiaoshen"
          ],
          [
           "Werner O. Weber"
          ],
          [
           "Clayton Zekelman"
          ],
          [
           "Zhuo Jun"
          ],
          [
           "Nerio Alessandri"
          ],
          [
           "Ryuji Arai"
          ],
          [
           "Achal Bakeri"
          ],
          [
           "Chu Jian"
          ],
          [
           "Du Shuanghua"
          ],
          [
           "Huang Dawen"
          ],
          [
           "Jiang Ganjun"
          ],
          [
           "Liang Guangwei"
          ],
          [
           "Deepak Mehta"
          ],
          [
           "Ulrike Meister"
          ],
          [
           "Yeh Kuo-I"
          ],
          [
           "Yu Jinkun & family"
          ],
          [
           "Zhang Gongyun"
          ],
          [
           "Cao Kejian"
          ],
          [
           "Andrei Komarov"
          ],
          [
           "Koo Bon-neung"
          ],
          [
           "Lou Guoqiang"
          ],
          [
           "Lu Shenglin"
          ],
          [
           "Lu Zhilin"
          ],
          [
           "Mou Jinxiang"
          ],
          [
           "Eren Ozmen"
          ],
          [
           "Fatih Ozmen"
          ],
          [
           "Kavita Singhania"
          ],
          [
           "Winarko Sulistyo"
          ],
          [
           "Wang Shumin"
          ],
          [
           "Allan Wong"
          ],
          [
           "Wu Li-gann"
          ],
          [
           "Xiong Haitao"
          ],
          [
           "Alan Zekelman"
          ],
          [
           "Zhang Chuanwei & family"
          ],
          [
           "Zhang Xi"
          ],
          [
           "Zheng Jianjiang & family"
          ],
          [
           "Zheng Xiaodong"
          ],
          [
           "Zhou Wen & family"
          ],
          [
           "Cao Jianwei"
          ],
          [
           "Chen Jiancheng"
          ],
          [
           "Donald Friese"
          ],
          [
           "Gao Xingjiang"
          ],
          [
           "Gaston Glock & family"
          ],
          [
           "Guo Jianqiang"
          ],
          [
           "Hu Rongda & family"
          ],
          [
           "Alexander Knauf"
          ],
          [
           "Lai Guogui & family"
          ],
          [
           "Lv Yongxiang"
          ],
          [
           "John McConnell & family"
          ],
          [
           "Peng Hao"
          ],
          [
           "Tan Eng Kee"
          ],
          [
           "Sunil Vachani"
          ],
          [
           "Wang Kunxiao"
          ],
          [
           "Anne Werninghaus"
          ],
          [
           "Wu Chung-yi"
          ],
          [
           "Yuan Jinhua"
          ],
          [
           "Chung Mong-joon"
          ],
          [
           "Gim Seong-gon"
          ],
          [
           "Hang Hong"
          ],
          [
           "Ronnen Harary"
          ],
          [
           "Ashok Kajaria"
          ],
          [
           "Ma Hong"
          ],
          [
           "Sergei Makhlai"
          ],
          [
           "George Pedersen"
          ],
          [
           "Anton Rabie"
          ],
          [
           "Manny Stul"
          ],
          [
           "Yao Hsiao Tung"
          ],
          [
           "Zhang Yuqiang"
          ]
         ],
         "hovertemplate": "Industry=Manufacturing<br>Age=%{x}<br>Net Worth (in Billion USD)=%{y}<br>Name=%{customdata[0]}<extra></extra>",
         "legendgroup": "Manufacturing",
         "marker": {
          "color": "#636efa",
          "symbol": "circle"
         },
         "mode": "markers",
         "name": "Manufacturing",
         "showlegend": true,
         "type": "scattergl",
         "x": {
          "bdata": "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",
          "dtype": "f8"
         },
         "xaxis": "x",
         "y": {
          "bdata": "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",
          "dtype": "f8"
         },
         "yaxis": "y"
        },
        {
         "customdata": [
          [
           "Lee Shau Kee"
          ],
          [
           "Yang Huiyan & family"
          ],
          [
           "Hui Ka Yan"
          ],
          [
           "Wu Yajun"
          ],
          [
           "Peter Woo"
          ],
          [
           "Zuo Hui"
          ],
          [
           "Donald Bren"
          ],
          [
           "Wang Jianlin"
          ],
          [
           "Kwong Siu-hing"
          ],
          [
           "Joseph Lau"
          ],
          [
           "Robert & Philip Ng"
          ],
          [
           "Alexander Otto"
          ],
          [
           "Harry Triguboff"
          ],
          [
           "Cai Kui"
          ],
          [
           "Hui Wing Mau"
          ],
          [
           "Ian & Richard Livingstone"
          ],
          [
           "Sun Hongbin"
          ],
          [
           "Kushal Pal Singh"
          ],
          [
           "Kei Hoi Pang"
          ],
          [
           "David Reuben"
          ],
          [
           "Manuel Villar"
          ],
          [
           "Wang Zhenhua"
          ],
          [
           "Stephen Ross"
          ],
          [
           "Huang Chulong"
          ],
          [
           "Fredrik Lundberg"
          ],
          [
           "Francis Choi"
          ],
          [
           "Chu Mang Yee & family"
          ],
          [
           "Law Kar Po"
          ],
          [
           "Li Wa"
          ],
          [
           "John A. Sobrato & family"
          ],
          [
           "Chan Laiwa & family"
          ],
          [
           "Neil Bluhm"
          ],
          [
           "Rene Benko"
          ],
          [
           "Edward Roski, Jr."
          ],
          [
           "Alexandra Schoerghuber"
          ],
          [
           "Sam Zell"
          ],
          [
           "Frank Lowy"
          ],
          [
           "Ted Lerner & family"
          ],
          [
           "Radovan Vitek"
          ],
          [
           "Tang Shing-bor"
          ],
          [
           "Igor Olenicoff"
          ],
          [
           "Yakir Gabay"
          ],
          [
           "Edwin Leong"
          ],
          [
           "Rick Caruso"
          ],
          [
           "Leonard Stern"
          ],
          [
           "Ji Qi"
          ],
          [
           "Katharina Otto-Bernstein"
          ],
          [
           "Akira Mori & family"
          ],
          [
           "Jeff Greene"
          ],
          [
           "Erik Selin"
          ],
          [
           "John Gandel"
          ],
          [
           "Sergei Gordeev"
          ],
          [
           "Donald Sterling"
          ],
          [
           "Ivar Tollefsen"
          ],
          [
           "Kong Jian Min"
          ],
          [
           "Samuel Tak Lee"
          ],
          [
           "Ty Warner"
          ],
          [
           "Charles Cohen"
          ],
          [
           "Zarakh Iliev"
          ],
          [
           "Angela Leong"
          ],
          [
           "God Nisanov"
          ],
          [
           "Jay Paul"
          ],
          [
           "Richard LeFrak & family"
          ],
          [
           "Wang Wenxue"
          ],
          [
           "Zhang Xin & Pan Shiyi"
          ],
          [
           "Carlo Fidani"
          ],
          [
           "Rita Tong Liu"
          ],
          [
           "Zhang Li"
          ],
          [
           "Jane Goldman"
          ],
          [
           "Hoi Kin Hong"
          ],
          [
           "Herb Simon"
          ],
          [
           "Jerry Speyer"
          ],
          [
           "Allan Goldman"
          ],
          [
           "Amy Goldman Fowler"
          ],
          [
           "Huang Rulun"
          ],
          [
           "Diane Kemper"
          ],
          [
           "Geoffrey Kwok"
          ],
          [
           "Or Wai Sheun"
          ],
          [
           "Ben Ashkenazy"
          ],
          [
           "Bob Gaglardi"
          ],
          [
           "Maritsa Lazari & family"
          ],
          [
           "Chandru Raheja"
          ],
          [
           "Jeff Sutton"
          ],
          [
           "Chen Hua"
          ],
          [
           "Li Sze Lim"
          ],
          [
           "Mitchell Goldhar"
          ],
          [
           "Lu Zhiqiang"
          ],
          [
           "Ou Zongrong & family"
          ],
          [
           "Richard Peery"
          ],
          [
           "H. Ross Perot, Jr."
          ],
          [
           "Su Suyu & family"
          ],
          [
           "Tong Jinquan"
          ],
          [
           "Yitzhak Tshuva"
          ],
          [
           "Mortimer Zuckerman"
          ],
          [
           "Choo Chong Ngen"
          ],
          [
           "Brad Kelley"
          ],
          [
           "Raj Kumar & Kishin RK"
          ],
          [
           "Adam Kwok"
          ],
          [
           "Shum Chiu Hung & family"
          ],
          [
           "John Arrillaga"
          ],
          [
           "Geng Jianming"
          ],
          [
           "Donald Horton"
          ],
          [
           "Jonathan Kwok"
          ],
          [
           "Hussain Sajwani"
          ],
          [
           "Donald Trump"
          ],
          [
           "Edward DeBartolo, Jr."
          ],
          [
           "Bob Ell"
          ],
          [
           "Fong Yun Wah"
          ],
          [
           "Katsumi Tada"
          ],
          [
           "Jitendra Virwani"
          ],
          [
           "Lang Walker"
          ],
          [
           "Richard Barton"
          ],
          [
           "Huang Wei"
          ],
          [
           "Thomas Kwok"
          ],
          [
           "Lin Chang Su-O"
          ],
          [
           "David Walentas"
          ],
          [
           "Yang Jian"
          ],
          [
           "Huang Shih Tsai"
          ],
          [
           "Jiang Yehua & family"
          ],
          [
           "Keeree Kanjanapas"
          ],
          [
           "Lin Chen-hai"
          ],
          [
           "Vikas Oberoi"
          ],
          [
           "Erik Paulsson & family"
          ],
          [
           "Masaaki Arai"
          ],
          [
           "George Argyros & family"
          ],
          [
           "Bahaa Hariri"
          ],
          [
           "Alain Taravella"
          ],
          [
           "Wichai Thongtang"
          ],
          [
           "Wang Chaobin"
          ],
          [
           "Yan Zhi"
          ],
          [
           "Mark Dixon"
          ],
          [
           "Jiang Zhaobai"
          ],
          [
           "Christopher Kwok"
          ],
          [
           "Edward Kwok"
          ],
          [
           "Lin Dingqiang & family"
          ],
          [
           "Peng Yongdong"
          ],
          [
           "Stephen Winn"
          ],
          [
           "Gordon Wu"
          ],
          [
           "William Heinecke"
          ],
          [
           "Jin Huiming"
          ],
          [
           "Vincent Lo"
          ],
          [
           "Miao Shouliang"
          ],
          [
           "Glenn Sanford"
          ],
          [
           "Richard Chang"
          ],
          [
           "Chao Teng-hsiung"
          ],
          [
           "Chen Guoxiang & family"
          ],
          [
           "Ivan Chrenko"
          ],
          [
           "David Lichtenstein"
          ],
          [
           "Jorge Perez"
          ],
          [
           "Zhang Guiping & family"
          ],
          [
           "Lesley Bamberger"
          ],
          [
           "Chen Yung-tai"
          ],
          [
           "Asok Kumar Hiranandani"
          ],
          [
           "Niranjan Hiranandani"
          ],
          [
           "B. Wayne Hughes, Jr."
          ],
          [
           "Alexander Klyachin"
          ],
          [
           "Liang Yanfeng & family"
          ],
          [
           "David Mindus"
          ],
          [
           "Tomas Olivo Lopez"
          ],
          [
           "Subhash Runwal"
          ],
          [
           "Yang Erzhu"
          ],
          [
           "Yu Peidi"
          ],
          [
           "Zhang Keqiang"
          ],
          [
           "Zhang Yuanlin"
          ],
          [
           "Guo Ziwen"
          ],
          [
           "Huang Wen Tsai"
          ],
          [
           "Raymond Kwok"
          ],
          [
           "George Marcus"
          ],
          [
           "John Van Lieshout"
          ],
          [
           "Zhong Sheng Jian"
          ],
          [
           "Chen Zhuolin"
          ],
          [
           "Lloyd Frink"
          ],
          [
           "Huang Hongyun & family"
          ],
          [
           "Qi Jinxing"
          ],
          [
           "Martin Selig"
          ],
          [
           "Alexander Tedja"
          ],
          [
           "Wu Po Sum"
          ],
          [
           "Jeffrey Cheah"
          ],
          [
           "Vivien Chen"
          ],
          [
           "John Goff"
          ],
          [
           "Mangal Prabhat Lodha"
          ],
          [
           "Yoshiko Mori"
          ],
          [
           "Penny Sanford"
          ],
          [
           "Jasminder Singh & family"
          ],
          [
           "Terry Snow"
          ],
          [
           "Wei Shaojun"
          ],
          [
           "Yang Keng"
          ],
          [
           "Patrick Zalupski"
          ],
          [
           "Anant Asavabhokin"
          ],
          [
           "Chua Thian Poh"
          ],
          [
           "Wolfgang Egger"
          ],
          [
           "Lun Ruixiang & family"
          ],
          [
           "Bill Malhotra"
          ],
          [
           "Sam Tarascio"
          ],
          [
           "Robert Toll"
          ],
          [
           "Thongma Vijitpongpun"
          ],
          [
           "Danna Azrieli"
          ],
          [
           "Naomi Azrieli"
          ],
          [
           "Sharon Azrieli"
          ],
          [
           "Chen Jinshi & family"
          ],
          [
           "Lam Lung On & family"
          ],
          [
           "Ou Xueming"
          ],
          [
           "Chanchai Ruayrungruang"
          ],
          [
           "Su Rubo"
          ],
          [
           "Sun Xishuang"
          ],
          [
           "Jan Van Geet"
          ],
          [
           "Wong Hong King"
          ],
          [
           "Zeng Huansha"
          ],
          [
           "Vladimir Leschikov"
          ],
          [
           "Mofatraj Munot"
          ],
          [
           "Axel Stawski"
          ]
         ],
         "hovertemplate": "Industry=Real Estate<br>Age=%{x}<br>Net Worth (in Billion USD)=%{y}<br>Name=%{customdata[0]}<extra></extra>",
         "legendgroup": "Real Estate",
         "marker": {
          "color": "#EF553B",
          "symbol": "circle"
         },
         "mode": "markers",
         "name": "Real Estate",
         "showlegend": true,
         "type": "scattergl",
         "x": {
          "bdata": "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",
          "dtype": "f8"
         },
         "xaxis": "x",
         "y": {
          "bdata": "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",
          "dtype": "f8"
         },
         "yaxis": "y"
        },
        {
         "customdata": [
          [
           "Alexey Mordashov & family"
          ],
          [
           "Vladimir Potanin"
          ],
          [
           "Vladimir Lisin"
          ],
          [
           "German Larrea Mota Velasco & family"
          ],
          [
           "Gina Rinehart"
          ],
          [
           "Iris Fontbona & family"
          ],
          [
           "Andrew Forrest"
          ],
          [
           "Alisher Usmanov"
          ],
          [
           "Lakshmi Mittal"
          ],
          [
           "Wang Wenyin"
          ],
          [
           "Dang Yanbao"
          ],
          [
           "Savitri Jindal & family"
          ],
          [
           "Iskander Makhmudov"
          ],
          [
           "Alberto Bailleres Gonzalez & family"
          ],
          [
           "Andrei Skoch & family"
          ],
          [
           "Zheng Shuliang & family"
          ],
          [
           "Nicky Oppenheimer & family"
          ],
          [
           "Alexander Abramov"
          ],
          [
           "Rinat Akhmetov"
          ],
          [
           "Igor Altushkin"
          ],
          [
           "Andrei Kozitsyn"
          ],
          [
           "Ivan Glasenberg"
          ],
          [
           "Vladimir Kim"
          ],
          [
           "Julio Ponce Lerou"
          ],
          [
           "Oleg Deripaska"
          ],
          [
           "Feng Hailiang"
          ],
          [
           "Clive Palmer"
          ],
          [
           "Anil Agarwal & family"
          ],
          [
           "Alexander Frolov"
          ],
          [
           "Bulat Utemuratov"
          ],
          [
           "Patrice Motsepe"
          ],
          [
           "Konstantin Strukov"
          ],
          [
           "Victor Pinchuk"
          ],
          [
           "Luo Yangyong & family"
          ],
          [
           "Dmitry Pumpyansky"
          ],
          [
           "Shen Wenrong"
          ],
          [
           "Zhang Zhixiang"
          ],
          [
           "Daniel Mate"
          ],
          [
           "Aristotelis Mistakidis"
          ],
          [
           "Kostyantin Zhevago"
          ],
          [
           "Mikhail Shelkov"
          ],
          [
           "Tor Peterson"
          ],
          [
           "Zhang Xuexin & family"
          ],
          [
           "Vasily Anisimov"
          ],
          [
           "Robert Friedland"
          ],
          [
           "John Hancock"
          ],
          [
           "Jia Tianjiang & family"
          ],
          [
           "Bianca Rinehart"
          ],
          [
           "Ginia Rinehart"
          ],
          [
           "Pavel Tykac"
          ],
          [
           "Rufino Vigil Gonzalez"
          ],
          [
           "Hope Welker"
          ],
          [
           "Xie Weitong"
          ],
          [
           "Chen Xuehua"
          ],
          [
           "Juan Maria Riberas Mera"
          ],
          [
           "Alex Beard"
          ],
          [
           "Gary Fegel"
          ],
          [
           "Wang Zelong"
          ],
          [
           "Zeng Chaolin"
          ],
          [
           "Angela Bennett"
          ],
          [
           "Anatoly Lomakin"
          ],
          [
           "Antonio Marcegaglia"
          ],
          [
           "Emma Marcegaglia"
          ],
          [
           "Vadim Novinsky"
          ],
          [
           "Eduard Chukhlebov"
          ],
          [
           "Eduardo Hochschild"
          ],
          [
           "Igor Kudryashkin"
          ],
          [
           "Liang Jiankun & family"
          ],
          [
           "Anatoly Sedykh"
          ],
          [
           "Yu Bangping & family"
          ],
          [
           "Dan Gertler"
          ],
          [
           "Xiang Guangda"
          ],
          [
           "Zhao Meiguang"
          ]
         ],
         "hovertemplate": "Industry=Metals & Mining<br>Age=%{x}<br>Net Worth (in Billion USD)=%{y}<br>Name=%{customdata[0]}<extra></extra>",
         "legendgroup": "Metals & Mining",
         "marker": {
          "color": "#00cc96",
          "symbol": "circle"
         },
         "mode": "markers",
         "name": "Metals & Mining",
         "showlegend": true,
         "type": "scattergl",
         "x": {
          "bdata": "AAAAAACAS0AAAAAAAABOQAAAAAAAAFBAAAAAAADAUEAAAAAAAMBQQAAAAAAAgFNAAAAAAACATUAAAAAAAMBQQAAAAAAAgFFAAAAAAACASkAAAAAAAABIQAAAAAAAwFFAAAAAAACATEAAAAAAAEBWQAAAAAAAgEtAAAAAAADAUkAAAAAAAMBSQAAAAAAAAE9AAAAAAAAAS0AAAAAAAABJQAAAAAAAAE5AAAAAAAAAUEAAAAAAAABOQAAAAAAAwFJAAAAAAACASkAAAAAAAABOQAAAAAAAwFBAAAAAAADAUEAAAAAAAABMQAAAAAAAgE9AAAAAAACATUAAAAAAAABPQAAAAAAAAE5AAAAAAACARkAAAAAAAIBMQAAAAAAAwFJAAAAAAAAAS0AAAAAAAIBMQAAAAAAAgE1AAAAAAACAR0AAAAAAAABKQAAAAAAAAExAAAAAAABAUkAAAAAAAEBRQAAAAAAAgFFAAAAAAACARkAAAAAAAABNQAAAAAAAAEZAAAAAAAAAQUAAAAAAAABMQAAAAAAAAFJAAAAAAACAQUAAAAAAAABQQAAAAAAAAE5AAAAAAAAASkAAAAAAAIBKQAAAAAAAgEdAAAAAAAAAOEAAAAAAAABDQAAAAAAAQFNAAAAAAAAAUUAAAAAAAIBMQAAAAAAAgEtAAAAAAACATEAAAAAAAIBMQAAAAAAAgExAAAAAAACATUAAAAAAAIBNQAAAAAAAAExAAAAAAACASkAAAAAAAIBHQAAAAAAAgE9AAAAAAAAATUA=",
          "dtype": "f8"
         },
         "xaxis": "x",
         "y": {
          "bdata": "mpmZmZkZPUAAAAAAAAA7QDMzMzMzMzpAZmZmZmbmOUCamZmZmZk3QM3MzMzMTDdAZmZmZmZmNEBmZmZmZmYyQM3MzMzMzC1AZmZmZmZmKkBmZmZmZmYpQGZmZmZmZiNAZmZmZmZmI0BmZmZmZmYiQDMzMzMzMyFAMzMzMzMzIUAAAAAAAAAgQGZmZmZmZh5AZmZmZmZmHkAAAAAAAAAcQDMzMzMzMxlAAAAAAAAAFkBmZmZmZmYSQGZmZmZmZhBAZmZmZmZmDkBmZmZmZmYOQGZmZmZmZg5AzczMzMzMDEAzMzMzMzMLQDMzMzMzMwtAMzMzMzMzB0BmZmZmZmYGQAAAAAAAAARAMzMzMzMzA0AzMzMzMzMDQDMzMzMzMwNAMzMzMzMzA0BmZmZmZmYCQGZmZmZmZgJAZmZmZmZmAkAAAAAAAAAAQM3MzMzMzPw/zczMzMzM/D8zMzMzMzP7PzMzMzMzM/s/MzMzMzMz+z8zMzMzMzP7PzMzMzMzM/s/MzMzMzMz+z8zMzMzMzP7PzMzMzMzM/s/MzMzMzMz+z8zMzMzMzP7P5qZmZmZmfk/mpmZmZmZ+T8AAAAAAAD4PwAAAAAAAPg/AAAAAAAA+D8AAAAAAAD4P2ZmZmZmZvY/ZmZmZmZm9j9mZmZmZmb2P2ZmZmZmZvY/ZmZmZmZm9j/NzMzMzMz0P83MzMzMzPQ/zczMzMzM9D/NzMzMzMz0P83MzMzMzPQ/zczMzMzM9D8zMzMzMzPzPzMzMzMzM/M/AAAAAAAA8D8=",
          "dtype": "f8"
         },
         "yaxis": "y"
        },
        {
         "customdata": [
          [
           "Robin Zeng"
          ],
          [
           "Vagit Alekperov"
          ],
          [
           "Leonid Mikhelson"
          ],
          [
           "Gennady Timchenko"
          ],
          [
           "Fan Hongwei & family"
          ],
          [
           "Andrey Melnichenko"
          ],
          [
           "Mikhail Fridman"
          ],
          [
           "Huang Shilin"
          ],
          [
           "Leonid Fedun & family"
          ],
          [
           "German Khan"
          ],
          [
           "Harold Hamm & family"
          ],
          [
           "Viktor Vekselberg"
          ],
          [
           "Sarath Ratanavadi"
          ],
          [
           "Alexei Kuzmichev"
          ],
          [
           "Pei Zhenhua"
          ],
          [
           "Michael Kadoorie"
          ],
          [
           "Richard Kinder"
          ],
          [
           "Aloys Wobben"
          ],
          [
           "Wang Yusuo & family"
          ],
          [
           "Dannine Avara"
          ],
          [
           "Scott Duncan"
          ],
          [
           "Milane Frantz"
          ],
          [
           "Randa Duncan Williams"
          ],
          [
           "George Kaiser"
          ],
          [
           "Alceu Elias Feldmann"
          ],
          [
           "Terrence Pegula"
          ],
          [
           "Carrie Perrodo & family"
          ],
          [
           "Cao Renxian"
          ],
          [
           "Robert Bass"
          ],
          [
           "Walter Scott, Jr. & family"
          ],
          [
           "Ray Lee Hunt"
          ],
          [
           "Daniel Kretinsky"
          ],
          [
           "Trevor Rees-Jones"
          ],
          [
           "Jin Baofang"
          ],
          [
           "Lynn Schusterman"
          ],
          [
           "Kelcy Warren"
          ],
          [
           "Somphote Ahunai"
          ],
          [
           "Alejandro Bulgheroni"
          ],
          [
           "Ronald McAulay"
          ],
          [
           "Sid Bass"
          ],
          [
           "John Catsimatidis"
          ],
          [
           "Liu Ming Hui"
          ],
          [
           "Mikhail Gutseriev"
          ],
          [
           "Gao Jifan & family"
          ],
          [
           "Gregorio Perez Companc & family"
          ],
          [
           "Edward Bass"
          ],
          [
           "Nikolai Buinov"
          ],
          [
           "Lin Fanlian"
          ],
          [
           "Dean Solon"
          ],
          [
           "George Bishop"
          ],
          [
           "Ray Davis"
          ],
          [
           "Gordon Getty"
          ],
          [
           "Igor Makarov"
          ],
          [
           "Zhao Fenggang"
          ],
          [
           "Jeffery Hildebrand"
          ],
          [
           "W. Herbert Hunt"
          ],
          [
           "Shen Xiqiang & family"
          ],
          [
           "Arvind Tiku"
          ],
          [
           "Wu Kai"
          ],
          [
           "Lee Bass"
          ],
          [
           "Arthur Irving"
          ],
          [
           "Evgeny (Eugene) Shvidler"
          ],
          [
           "Vladimir Bogdanov"
          ],
          [
           "N. Murray Edwards"
          ],
          [
           "Torbjorn Tornqvist"
          ],
          [
           "Daniel Chiu"
          ],
          [
           "Paul Foster"
          ],
          [
           "Said Gutseriev"
          ],
          [
           "William Koch"
          ],
          [
           "Massimo Moratti"
          ],
          [
           "Rubens Ometto Silveira Mello"
          ],
          [
           "Ian Wood & family"
          ],
          [
           "Wu Yingming"
          ],
          [
           "Michael Polsky"
          ],
          [
           "Farkhad Akhmedov"
          ],
          [
           "Timothy Headington"
          ],
          [
           "Andrei Kosogov"
          ],
          [
           "Airat Shaimiev"
          ],
          [
           "Vardis Vardinoyannis & family"
          ],
          [
           "Mika Anttonen"
          ],
          [
           "Radik Shaimiev"
          ],
          [
           "Farris Wilks"
          ],
          [
           "Xu Guangfu & family"
          ],
          [
           "Chen Gang"
          ],
          [
           "Fan Zhaoxia & family"
          ],
          [
           "Qin Qingping & family"
          ],
          [
           "Rustem Sulteev"
          ],
          [
           "Zhou Yifeng & family"
          ],
          [
           "Bai Houshan"
          ],
          [
           "Chen Yuantai"
          ],
          [
           "Ron Corio"
          ],
          [
           "Gennady Kozovoy"
          ],
          [
           "Lim Hariyanto Wijaya Sarwono"
          ],
          [
           "Low Tuck Kwong"
          ],
          [
           "Michael S. Smith"
          ],
          [
           "Dan Wilks"
          ],
          [
           "Igor Yusufov"
          ],
          [
           "Albert Avdolyan"
          ],
          [
           "Jose Elias"
          ]
         ],
         "hovertemplate": "Industry=Energy<br>Age=%{x}<br>Net Worth (in Billion USD)=%{y}<br>Name=%{customdata[0]}<extra></extra>",
         "legendgroup": "Energy",
         "marker": {
          "color": "#ab63fa",
          "symbol": "circle"
         },
         "mode": "markers",
         "name": "Energy",
         "showlegend": true,
         "type": "scattergl",
         "x": {
          "bdata": "AAAAAAAASkAAAAAAAIBRQAAAAAAAQFBAAAAAAAAAUUAAAAAAAABLQAAAAAAAgEhAAAAAAAAATEAAAAAAAABLQAAAAAAAQFBAAAAAAACATUAAAAAAAMBSQAAAAAAAgE9AAAAAAACAS0AAAAAAAABNQAAAAAAAAE9AAAAAAADAU0AAAAAAAABTQAAAAAAAQFFAAAAAAACATEAAAAAAAIBMQAAAAAAAAENAAAAAAACASUAAAAAAAIBNQAAAAAAAgFNAAAAAAADAUUAAAAAAAIBRQAAAAAAAgFFAAAAAAAAASkAAAAAAAEBSQAAAAAAAQFZAAAAAAACAU0AAAAAAAIBGQAAAAAAAQFFAAAAAAAAAUUAAAAAAAIBUQAAAAAAAQFBAAAAAAACASkAAAAAAAABTQAAAAAAAQFVAAAAAAACAU0AAAAAAAABSQAAAAAAAAE1AAAAAAACAT0AAAAAAAABMQAAAAAAAQFVAAAAAAADAUkAAAAAAAIBKQAAAAAAAgE1AAAAAAAAATEAAAAAAAMBUQAAAAAAAwFNAAAAAAADAVUAAAAAAAIBNQAAAAAAAgEtAAAAAAAAAT0AAAAAAAABXQAAAAAAAQFJAAAAAAACASUAAAAAAAIBKQAAAAAAAAFBAAAAAAADAVkAAAAAAAIBMQAAAAAAAQFFAAAAAAACATkAAAAAAAMBQQAAAAAAAAE5AAAAAAACAT0AAAAAAAABAQAAAAAAAAFRAAAAAAADAUkAAAAAAAMBRQAAAAAAAgFNAAAAAAAAAS0AAAAAAAABSQAAAAAAAQFBAAAAAAACAUUAAAAAAAABOQAAAAAAAgE1AAAAAAAAAVkAAAAAAAABLQAAAAAAAAExAAAAAAABAUUAAAAAAAIBTQAAAAAAAgEpAAAAAAACASkAAAAAAAABNQAAAAAAAwFBAAAAAAAAARUAAAAAAAIBMQAAAAAAAgEpAAAAAAACATUAAAAAAAEBRQAAAAAAAAFdAAAAAAAAAUkAAAAAAAEBQQAAAAAAAAFBAAAAAAAAAUEAAAAAAAABJQAAAAAAAAEZA",
          "dtype": "f8"
         },
         "xaxis": "x",
         "y": {
          "bdata": "ZmZmZmZmPEBmZmZmZuY4QGZmZmZm5jhAAAAAAAAANkAzMzMzMzMyQGZmZmZm5jFAAAAAAAAAL0DNzMzMzMwpQDMzMzMzMyZAMzMzMzMzJEDNzMzMzMwiQAAAAAAAACJAzczMzMzMIUAzMzMzMzMfQAAAAAAAAB5AzczMzMzMHEAAAAAAAAAcQDMzMzMzMxtAmpmZmZmZGUAAAAAAAAAYQAAAAAAAABhAAAAAAAAAGEAAAAAAAAAYQDMzMzMzMxdAmpmZmZmZFUCamZmZmZkVQJqZmZmZmRVAMzMzMzMzFUBmZmZmZmYUQAAAAAAAABRAzczMzMzMEEBmZmZmZmYQQAAAAAAAABBAMzMzMzMzD0AzMzMzMzMLQDMzMzMzMwtAZmZmZmZmCkBmZmZmZmYKQJqZmZmZmQlAMzMzMzMzB0BmZmZmZmYGQGZmZmZmZgZAAAAAAAAABEAzMzMzMzMDQDMzMzMzMwNAmpmZmZmZAUCamZmZmZkBQJqZmZmZmQFAmpmZmZmZAUDNzMzMzMwAQM3MzMzMzABAzczMzMzMAEDNzMzMzMwAQM3MzMzMzABAAAAAAAAAAEAAAAAAAAAAQAAAAAAAAABAAAAAAAAAAEAAAAAAAAAAQGZmZmZmZv4/ZmZmZmZm/j9mZmZmZmb+P83MzMzMzPw/zczMzMzM/D/NzMzMzMz8PzMzMzMzM/s/MzMzMzMz+z8zMzMzMzP7P5qZmZmZmfk/mpmZmZmZ+T+amZmZmZn5P5qZmZmZmfk/mpmZmZmZ+T8AAAAAAAD4P2ZmZmZmZvY/ZmZmZmZm9j9mZmZmZmb2P2ZmZmZmZvY/ZmZmZmZm9j/NzMzMzMz0P83MzMzMzPQ/zczMzMzM9D/NzMzMzMz0PzMzMzMzM/M/MzMzMzMz8z8zMzMzMzPzPzMzMzMzM/M/MzMzMzMz8z+amZmZmZnxP5qZmZmZmfE/mpmZmZmZ8T+amZmZmZnxP5qZmZmZmfE/mpmZmZmZ8T+amZmZmZnxP5qZmZmZmfE/mpmZmZmZ8T8AAAAAAADwPwAAAAAAAPA/",
          "dtype": "f8"
         },
         "yaxis": "y"
        },
        {
         "customdata": [
          [
           "Klaus-Michael Kuehne"
          ],
          [
           "Rodolphe Saadé & family"
          ],
          [
           "Gianluigi & Rafaela Aponte"
          ],
          [
           "John Fredriksen"
          ],
          [
           "Lai Meisong"
          ],
          [
           "Dennis Washington"
          ],
          [
           "Fred Smith"
          ],
          [
           "Kjell Inge Rokke"
          ],
          [
           "Enrique Razon, Jr."
          ],
          [
           "Johnelle Hunt"
          ],
          [
           "Euisun Chung"
          ],
          [
           "Yang Shaopeng"
          ],
          [
           "Tung Chee Chen"
          ],
          [
           "Bradley Jacobs"
          ],
          [
           "Alexander Ponomarenko"
          ],
          [
           "Alexander Skorobogatko"
          ],
          [
           "Helmut Sohmen"
          ],
          [
           "Tung Chee Hwa"
          ],
          [
           "Roman Trotsenko"
          ],
          [
           "Lindsay Fox"
          ],
          [
           "Eiichi Kuriwada"
          ],
          [
           "Lai Jianfa"
          ],
          [
           "Wang Jilei"
          ],
          [
           "Yu Huijiao"
          ],
          [
           "G. Gnanalingam"
          ],
          [
           "Norbert Dentressangle"
          ],
          [
           "Zhang Xiaojuan"
          ],
          [
           "Lu Zongjun"
          ],
          [
           "Jerry Moyes"
          ],
          [
           "Chen Liying"
          ],
          [
           "Jim Thompson"
          ],
          [
           "Rafal Brzoska"
          ],
          [
           "Liu Jilu & family"
          ],
          [
           "Martin Moller Nielsen"
          ],
          [
           "Masaru Wasami"
          ]
         ],
         "hovertemplate": "Industry=Logistics<br>Age=%{x}<br>Net Worth (in Billion USD)=%{y}<br>Name=%{customdata[0]}<extra></extra>",
         "legendgroup": "Logistics",
         "marker": {
          "color": "#FFA15A",
          "symbol": "circle"
         },
         "mode": "markers",
         "name": "Logistics",
         "showlegend": true,
         "type": "scattergl",
         "x": {
          "bdata": "AAAAAADAVEAAAAAAAIBJQAAAAAAAAFRAAAAAAAAAU0AAAAAAAABJQAAAAAAAgFVAAAAAAAAAU0AAAAAAAABPQAAAAAAAgE5AAAAAAABAVkAAAAAAAABJQAAAAAAAgE9AAAAAAACAU0AAAAAAAABQQAAAAAAAAExAAAAAAACASkAAAAAAAEBUQAAAAAAAwFRAAAAAAAAASUAAAAAAAMBUQAAAAAAAgFJAAAAAAACASUAAAAAAAABMQAAAAAAAgEtAAAAAAAAAU0AAAAAAAIBQQAAAAAAAgElAAAAAAACATEAAAAAAAEBTQAAAAAAAgEZAAAAAAABAVEAAAAAAAIBFQAAAAAAAgFJAAAAAAAAATEAAAAAAAMBSQA==",
          "dtype": "f8"
         },
         "xaxis": "x",
         "y": {
          "bdata": "zczMzMxMOkDNzMzMzMwlQGZmZmZmZiVAzczMzMzMJEAzMzMzMzMdQJqZmZmZmRlAzczMzMzMFkAAAAAAAAAWQAAAAAAAABRAMzMzMzMzD0BmZmZmZmYOQM3MzMzMzAxAMzMzMzMzC0AzMzMzMzMHQDMzMzMzMwdAMzMzMzMzB0DNzMzMzMwEQM3MzMzMzARAMzMzMzMzA0BmZmZmZmYCQGZmZmZmZgJAZmZmZmZmAkBmZmZmZmb+P2ZmZmZmZv4/MzMzMzMz+z+amZmZmZn5P5qZmZmZmfk/AAAAAAAA+D8AAAAAAAD4P2ZmZmZmZvY/ZmZmZmZm9j/NzMzMzMz0P83MzMzMzPQ/zczMzMzM9D/NzMzMzMz0Pw==",
          "dtype": "f8"
         },
         "yaxis": "y"
        },
        {
         "customdata": [
          [
           "Jiang Rensheng & family"
          ],
          [
           "Li Xiting"
          ],
          [
           "Zhong Huijuan"
          ],
          [
           "Xu Hang"
          ],
          [
           "Sun Piaoyang"
          ],
          [
           "Chen Bang"
          ],
          [
           "Thomas Frist, Jr. & family"
          ],
          [
           "Seo Jung-jin"
          ],
          [
           "Cyrus Poonawalla"
          ],
          [
           "Cen Junda"
          ],
          [
           "Jorge Moll Filho & family"
          ],
          [
           "Andreas Struengmann & family"
          ],
          [
           "Thomas Struengmann & family"
          ],
          [
           "Dilip Shanghvi"
          ],
          [
           "Li Ge"
          ],
          [
           "Carl Cook"
          ],
          [
           "Massimiliana Landini Aleotti & family"
          ],
          [
           "Wolfgang Marguerre & family"
          ],
          [
           "Tse Ping"
          ],
          [
           "Ernesto Bertarelli"
          ],
          [
           "Niels Peter Louis-Hansen"
          ],
          [
           "Alain Merieux & family"
          ],
          [
           "Frederik Paulsen"
          ],
          [
           "Patrick Soon-Shiong"
          ],
          [
           "Murali Divi & family"
          ],
          [
           "Li Jianquan & family"
          ],
          [
           "Reinhold Schmieding"
          ],
          [
           "Ronda Stryker"
          ],
          [
           "Dulce Pugliese de Godoy Bueno"
          ],
          [
           "Guenther Fielmann & family"
          ],
          [
           "Hansjoerg Wyss"
          ],
          [
           "Jian Jun"
          ],
          [
           "Hasmukh Chudgar & family"
          ],
          [
           "Dong Wei"
          ],
          [
           "Christoph Zeller"
          ],
          [
           "An Kang"
          ],
          [
           "John Brown"
          ],
          [
           "Gustavo Denegri"
          ],
          [
           "Wu Guanjiang & family"
          ],
          [
           "Bernard Broermann"
          ],
          [
           "Pankaj Patel"
          ],
          [
           "Dong Fan"
          ],
          [
           "Hu Baifan"
          ],
          [
           "Rudolf Maag"
          ],
          [
           "Zhu Baoguo & family"
          ],
          [
           "Stéphane Bancel"
          ],
          [
           "Ye Chenghai & family"
          ],
          [
           "Traudl Engelhorn & family"
          ],
          [
           "Li Li"
          ],
          [
           "Liu Fangyi"
          ],
          [
           "Thomas Straumann"
          ],
          [
           "Jon Stryker"
          ],
          [
           "Xu Jingren"
          ],
          [
           "Kiran Mazumdar-Shaw"
          ],
          [
           "Ajay Piramal"
          ],
          [
           "Ugur Sahin"
          ],
          [
           "Ye Xiaoping"
          ],
          [
           "Du Weimin"
          ],
          [
           "Gilles Martin"
          ],
          [
           "Candido Pinheiro Koren de Lima"
          ],
          [
           "Hu Kaijun"
          ],
          [
           "Jerzy Starak"
          ],
          [
           "Yuan Liping"
          ],
          [
           "Leena Tewari"
          ],
          [
           "Viktor Kharitonin"
          ],
          [
           "Ke Zunhong & family"
          ],
          [
           "Maja Oeri"
          ],
          [
           "Otto Philipp Braun"
          ],
          [
           "Camilla de Godoy Bueno Grossi"
          ],
          [
           "Hao Hong"
          ],
          [
           "Jin Lei"
          ],
          [
           "Prasert Prasarttong-Osoth"
          ],
          [
           "Wilhelm Beier & family"
          ],
          [
           "Pedro de Godoy Bueno"
          ],
          [
           "Gan Zhongru"
          ],
          [
           "Peter Grogg"
          ],
          [
           "Gudrun Heine"
          ],
          [
           "P.V. Ramprasad Reddy"
          ],
          [
           "Sybill Storz"
          ],
          [
           "Pat Stryker"
          ],
          [
           "Osman Kibar"
          ],
          [
           "Samir Mehta"
          ],
          [
           "Sudhir Mehta"
          ],
          [
           "Lv Jianming"
          ],
          [
           "Rajendra Agarwal"
          ],
          [
           "Banwari Lal Bawri"
          ],
          [
           "Girdhari Lal Bawri"
          ],
          [
           "Cai Dongchen"
          ],
          [
           "Alexey Repik"
          ],
          [
           "Wu Guangming"
          ],
          [
           "Phillip Frost"
          ],
          [
           "Hu Kun"
          ],
          [
           "Carlos Sanchez"
          ],
          [
           "Xie Juhua & family"
          ],
          [
           "Zhao Tao"
          ],
          [
           "Chen Xiao Ying"
          ],
          [
           "Chen Xueli"
          ],
          [
           "Dai Lizhong"
          ],
          [
           "Alice Schwartz"
          ],
          [
           "Cao Longxiang & family"
          ],
          [
           "Mario Germano Giuliani"
          ],
          [
           "Hua Xuande & family"
          ],
          [
           "Lam Kong"
          ],
          [
           "Stewart Rahr"
          ],
          [
           "Randal J. Kirk"
          ],
          [
           "Alberto Roemmers"
          ],
          [
           "Alberto Siccardi & family"
          ],
          [
           "Timothy Springer"
          ],
          [
           "Wu Yiling"
          ],
          [
           "Xie Liangzhi & family"
          ],
          [
           "Bernard Fraisse"
          ],
          [
           "Gong Yingying"
          ],
          [
           "Lutz Mario Helmig"
          ],
          [
           "Weng Xianding"
          ],
          [
           "Anne Beaufour"
          ],
          [
           "Henri Beaufour"
          ],
          [
           "Dennis Gillings"
          ],
          [
           "Hou Juncheng"
          ],
          [
           "Ke Yunfeng & family"
          ],
          [
           "Miao Yongjun"
          ],
          [
           "Mahendra Prasad"
          ],
          [
           "Amy Wyss"
          ],
          [
           "Noubar Afeyan"
          ],
          [
           "Beda Diethelm"
          ],
          [
           "Gao Yi & family"
          ],
          [
           "Yusuf Hamied"
          ],
          [
           "Ke Jinlong & family"
          ],
          [
           "Ke Kangbao & family"
          ],
          [
           "Willy Michel"
          ],
          [
           "Sergio Stevanato"
          ],
          [
           "Robert Duggan"
          ],
          [
           "Carl Hansen"
          ],
          [
           "Lei Jufang"
          ],
          [
           "John Oyler"
          ],
          [
           "Jorge Pinheiro Koren de Lima"
          ],
          [
           "Candido Pinheiro Koren de Lima Junior"
          ],
          [
           "Pu Zhongjie & family"
          ],
          [
           "Leonard Schleifer"
          ],
          [
           "Shi Yifeng"
          ],
          [
           "Chirayu Amin"
          ],
          [
           "Cheng Xianfeng"
          ],
          [
           "Giammaria Giuliani"
          ],
          [
           "Yves-Loic Martin"
          ],
          [
           "Gary Michelson"
          ],
          [
           "Wang Junmin"
          ],
          [
           "Wu Yulan"
          ],
          [
           "Bernhard Braun-Luedicke"
          ],
          [
           "Eva Maria Braun-Luedicke"
          ],
          [
           "Friederike Braun-Luedicke"
          ],
          [
           "Ding Lieming & family"
          ],
          [
           "Robert Langer"
          ],
          [
           "Li Li"
          ],
          [
           "David Paul"
          ],
          [
           "Xiu Laigui"
          ],
          [
           "Chen Baohua"
          ],
          [
           "Heikki Kyostila"
          ],
          [
           "Arvind Lal"
          ],
          [
           "James Leininger"
          ],
          [
           "Lin Zhijun"
          ],
          [
           "Lin Zhixiong & family"
          ],
          [
           "Prathap Reddy"
          ],
          [
           "Satish Reddy"
          ],
          [
           "Ren Jinsheng & family"
          ],
          [
           "Basudeo Singh"
          ],
          [
           "August Troendle"
          ],
          [
           "Wang Zhentao & family"
          ],
          [
           "Yu Rong"
          ],
          [
           "Mori Arkin"
          ],
          [
           "Maurizio Billi"
          ],
          [
           "Anna Maria Braun"
          ],
          [
           "Johanna Braun"
          ],
          [
           "Karl Friedrich Braun"
          ],
          [
           "Jean-Paul Clozel"
          ],
          [
           "Keith Dunleavy & family"
          ],
          [
           "Hu Gengxi & family"
          ],
          [
           "Liang Yaoming"
          ],
          [
           "Itaru Tanimura"
          ],
          [
           "Mehmet Aydinlar"
          ],
          [
           "Ludwig Theodor Braun"
          ],
          [
           "Cao Xiaochun"
          ],
          [
           "Fan Minhua"
          ],
          [
           "Li Tan"
          ],
          [
           "Alan Miller & family"
          ],
          [
           "Xiong Jun & family"
          ],
          [
           "Zhu Tao"
          ],
          [
           "Premchand Godha"
          ],
          [
           "Lin Jie & family"
          ],
          [
           "Liu Gexin & family"
          ],
          [
           "G.V. Prasad"
          ],
          [
           "Qiu Dongxu"
          ],
          [
           "Rao Wei & family"
          ],
          [
           "Wan Feng & family"
          ],
          [
           "Yi Xianzhong & family"
          ],
          [
           "Yu Xuefeng"
          ],
          [
           "Yuan Jiandong & family"
          ],
          [
           "Zhou Minghua"
          ],
          [
           "Feng Yuxia"
          ],
          [
           "Antonio Gallardo Ballart"
          ],
          [
           "Jorge Gallardo Ballart"
          ],
          [
           "Ming Hsieh"
          ],
          [
           "Jin Lei & family"
          ],
          [
           "Li Wenmei & family"
          ],
          [
           "Lou Boliang & family"
          ],
          [
           "John Martin"
          ],
          [
           "Forrest Preston"
          ],
          [
           "M.Satyanarayana Reddy"
          ],
          [
           "Ruan Hongxian & family"
          ],
          [
           "Jack Schuler"
          ],
          [
           "Shin Dong-guk"
          ],
          [
           "George Yancopoulos"
          ],
          [
           "Mao Huihua"
          ],
          [
           "Vadim Yakunin"
          ],
          [
           "Yu De-Chao"
          ]
         ],
         "hovertemplate": "Industry=Healthcare<br>Age=%{x}<br>Net Worth (in Billion USD)=%{y}<br>Name=%{customdata[0]}<extra></extra>",
         "legendgroup": "Healthcare",
         "marker": {
          "color": "#19d3f3",
          "symbol": "circle"
         },
         "mode": "markers",
         "name": "Healthcare",
         "showlegend": true,
         "type": "scattergl",
         "x": {
          "bdata": "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",
          "dtype": "f8"
         },
         "xaxis": "x",
         "y": {
          "bdata": "ZmZmZmZmOEAAAAAAAIA1QDMzMzMzszNAAAAAAACAM0BmZmZmZuYyQGZmZmZm5jFAZmZmZmZmL0BmZmZmZmYsQGZmZmZmZilAMzMzMzMzJ0CamZmZmZkmQAAAAAAAACZAAAAAAAAAJkDNzMzMzMwlQDMzMzMzMyRAzczMzMzMI0AzMzMzMzMiQDMzMzMzMyJAzczMzMzMIUAzMzMzMzMhQGZmZmZmZiBAZmZmZmZmIEDNzMzMzMweQAAAAAAAAB5AMzMzMzMzG0AzMzMzMzMbQM3MzMzMzBpAAAAAAAAAGkAAAAAAAAAYQAAAAAAAABhAAAAAAAAAGEBmZmZmZmYWQAAAAAAAABZAAAAAAAAAFkAAAAAAAAAWQJqZmZmZmRVAzczMzMzMFEBmZmZmZmYUQGZmZmZmZhRAAAAAAAAAFEAAAAAAAAAUQGZmZmZmZhJAAAAAAAAAEkAAAAAAAAASQAAAAAAAABJAMzMzMzMzEUAzMzMzMzMRQM3MzMzMzBBAzczMzMzMEEDNzMzMzMwQQM3MzMzMzBBAZmZmZmZmEEBmZmZmZmYQQAAAAAAAABBAAAAAAAAAEEAAAAAAAAAQQAAAAAAAABBAMzMzMzMzD0AzMzMzMzMPQJqZmZmZmQ1AzczMzMzMDEDNzMzMzMwMQM3MzMzMzAxAAAAAAAAADEAzMzMzMzMLQJqZmZmZmQlAmpmZmZmZCUDNzMzMzMwIQM3MzMzMzAhAzczMzMzMCEDNzMzMzMwIQM3MzMzMzAhAAAAAAAAACEAAAAAAAAAIQAAAAAAAAAhAAAAAAAAACEAAAAAAAAAIQAAAAAAAAAhAAAAAAAAACEAAAAAAAAAIQDMzMzMzMwdAMzMzMzMzB0AzMzMzMzMHQGZmZmZmZgZAzczMzMzMBEDNzMzMzMwEQM3MzMzMzARAzczMzMzMBEDNzMzMzMwEQM3MzMzMzARAAAAAAAAABEAAAAAAAAAEQAAAAAAAAARAAAAAAAAABEAAAAAAAAAEQDMzMzMzMwNAMzMzMzMzA0AzMzMzMzMDQDMzMzMzMwNAZmZmZmZmAkBmZmZmZmYCQGZmZmZmZgJAZmZmZmZmAkBmZmZmZmYCQJqZmZmZmQFAmpmZmZmZAUCamZmZmZkBQJqZmZmZmQFAmpmZmZmZAUCamZmZmZkBQM3MzMzMzABAzczMzMzMAEDNzMzMzMwAQM3MzMzMzABAAAAAAAAAAEAAAAAAAAAAQAAAAAAAAABAAAAAAAAAAEAAAAAAAAAAQAAAAAAAAABAAAAAAAAAAEAAAAAAAAAAQGZmZmZmZv4/ZmZmZmZm/j9mZmZmZmb+P2ZmZmZmZv4/ZmZmZmZm/j9mZmZmZmb+P2ZmZmZmZv4/ZmZmZmZm/j/NzMzMzMz8P83MzMzMzPw/zczMzMzM/D/NzMzMzMz8P83MzMzMzPw/zczMzMzM/D/NzMzMzMz8P83MzMzMzPw/zczMzMzM/D8zMzMzMzP7PzMzMzMzM/s/MzMzMzMz+z8zMzMzMzP7PzMzMzMzM/s/MzMzMzMz+z8zMzMzMzP7P5qZmZmZmfk/mpmZmZmZ+T+amZmZmZn5P5qZmZmZmfk/mpmZmZmZ+T+amZmZmZn5P5qZmZmZmfk/mpmZmZmZ+T8AAAAAAAD4PwAAAAAAAPg/AAAAAAAA+D8AAAAAAAD4PwAAAAAAAPg/AAAAAAAA+D8AAAAAAAD4PwAAAAAAAPg/AAAAAAAA+D8AAAAAAAD4PwAAAAAAAPg/AAAAAAAA+D8AAAAAAAD4P2ZmZmZmZvY/ZmZmZmZm9j9mZmZmZmb2P2ZmZmZmZvY/ZmZmZmZm9j9mZmZmZmb2P2ZmZmZmZvY/ZmZmZmZm9j9mZmZmZmb2P2ZmZmZmZvY/zczMzMzM9D/NzMzMzMz0P83MzMzMzPQ/zczMzMzM9D/NzMzMzMz0P83MzMzMzPQ/zczMzMzM9D/NzMzMzMz0PzMzMzMzM/M/MzMzMzMz8z8zMzMzMzPzPzMzMzMzM/M/MzMzMzMz8z8zMzMzMzPzPzMzMzMzM/M/MzMzMzMz8z8zMzMzMzPzPzMzMzMzM/M/MzMzMzMz8z+amZmZmZnxP5qZmZmZmfE/mpmZmZmZ8T+amZmZmZnxP5qZmZmZmfE/mpmZmZmZ8T+amZmZmZnxP5qZmZmZmfE/mpmZmZmZ8T+amZmZmZnxP5qZmZmZmfE/mpmZmZmZ8T+amZmZmZnxP5qZmZmZmfE/AAAAAAAA8D8AAAAAAADwPwAAAAAAAPA/",
          "dtype": "f8"
         },
         "yaxis": "y"
        },
        {
         "customdata": [
          [
           "Pallonji Mistry"
          ],
          [
           "Nassef Sawiris"
          ],
          [
           "Diane Hendricks"
          ],
          [
           "Anthony Bamford & family"
          ],
          [
           "Thomas Schmidheiny"
          ],
          [
           "Erman Ilicak"
          ],
          [
           "Rafael Del Pino"
          ],
          [
           "Wang Linpeng"
          ],
          [
           "Peter Gilgan"
          ],
          [
           "Mohed Altrad"
          ],
          [
           "Francesco Gaetano Caltagirone"
          ],
          [
           "Samvel Karapetyan"
          ],
          [
           "Otto Happel"
          ],
          [
           "Riley Bechtel & family"
          ],
          [
           "Huang Zhenda & family"
          ],
          [
           "Arkady Rotenberg"
          ],
          [
           "Ravi Pillai"
          ],
          [
           "Maria Del Pino"
          ],
          [
           "Baba Kalyani"
          ],
          [
           "Florentino Perez"
          ],
          [
           "Zhu Xingliang"
          ],
          [
           "D. Leopoldo Del Pino"
          ],
          [
           "Wolfgang Leitner"
          ],
          [
           "Kim Sang-yeol"
          ],
          [
           "P.P. Reddy"
          ],
          [
           "P.V.Krishna Reddy"
          ],
          [
           "Anu Aga"
          ],
          [
           "Elena Baturina"
          ],
          [
           "Ayman Hariri"
          ],
          [
           "Syed Mokhtar AlBukhary"
          ],
          [
           "Clement Fayat & family"
          ],
          [
           "Jorge Mas"
          ],
          [
           "Andrei Molchanov"
          ],
          [
           "Boris Rotenberg"
          ],
          [
           "Simona Giorgetta"
          ],
          [
           "Fahed Hariri"
          ],
          [
           "Lee Joong-keun"
          ],
          [
           "Mats Paulsson & family"
          ],
          [
           "Mehmet Sinan Tara"
          ],
          [
           "Jose Llado Fernandez-Urrutia"
          ],
          [
           "David Penaloza Alanis"
          ],
          [
           "Marco Squinzi"
          ],
          [
           "Veronica Squinzi"
          ]
         ],
         "hovertemplate": "Industry=Construction & Engineering<br>Age=%{x}<br>Net Worth (in Billion USD)=%{y}<br>Name=%{customdata[0]}<extra></extra>",
         "legendgroup": "Construction & Engineering",
         "marker": {
          "color": "#FF6692",
          "symbol": "circle"
         },
         "mode": "markers",
         "name": "Construction & Engineering",
         "showlegend": true,
         "type": "scattergl",
         "x": {
          "bdata": "AAAAAADAVkAAAAAAAABOQAAAAAAAgFJAAAAAAADAUkAAAAAAAMBSQAAAAAAAgEpAAAAAAAAAT0AAAAAAAABKQAAAAAAAgFFAAAAAAABAUkAAAAAAAIBTQAAAAAAAgEtAAAAAAABAUkAAAAAAAEBRQAAAAAAAQFJAAAAAAABAUUAAAAAAAMBQQAAAAAAAQFBAAAAAAAAAUkAAAAAAAIBSQAAAAAAAgE5AAAAAAAAATUAAAAAAAABRQAAAAAAAAE5AAAAAAACAT0AAAAAAAIBJQAAAAAAAgFNAAAAAAAAATUAAAAAAAABFQAAAAAAAQFFAAAAAAABAVkAAAAAAAABNQAAAAAAAgEhAAAAAAAAAUEAAAAAAAIBFQAAAAAAAAERAAAAAAAAAVEAAAAAAAABTQAAAAAAAAE9AAAAAAADAVUAAAAAAAIBHQAAAAAAAgEhAAAAAAACASEA=",
          "dtype": "f8"
         },
         "xaxis": "x",
         "y": {
          "bdata": "MzMzMzMzLUCamZmZmZkgQAAAAAAAACBAmpmZmZmZH0AzMzMzMzMTQJqZmZmZmRFAMzMzMzMzD0AzMzMzMzMPQJqZmZmZmQ1AMzMzMzMzC0AzMzMzMzMLQGZmZmZmZgpAmpmZmZmZCUAzMzMzMzMHQDMzMzMzMwdAMzMzMzMzB0AAAAAAAAAEQGZmZmZmZgJAZmZmZmZmAkDNzMzMzMwAQGZmZmZmZv4/zczMzMzM/D/NzMzMzMz8PzMzMzMzM/s/mpmZmZmZ+T8AAAAAAAD4P2ZmZmZmZvY/zczMzMzM9D/NzMzMzMz0PzMzMzMzM/M/MzMzMzMz8z8zMzMzMzPzPzMzMzMzM/M/MzMzMzMz8z+amZmZmZnxP5qZmZmZmfE/mpmZmZmZ8T+amZmZmZnxP5qZmZmZmfE/AAAAAAAA8D8AAAAAAADwPwAAAAAAAPA/AAAAAAAA8D8=",
          "dtype": "f8"
         },
         "yaxis": "y"
        },
        {
         "customdata": [
          [
           "Jerry Jones"
          ],
          [
           "Stanley Kroenke"
          ],
          [
           "Robert Kraft"
          ],
          [
           "Arthur Blank"
          ],
          [
           "Stephen Bisciotti"
          ],
          [
           "Janice McNair"
          ],
          [
           "Denise York & family"
          ],
          [
           "Gayle Benson"
          ],
          [
           "Bernard Ecclestone & family"
          ],
          [
           "Arturo Moreno"
          ],
          [
           "James Irsay"
          ],
          [
           "Jeffrey Lurie"
          ],
          [
           "John Henry"
          ],
          [
           "Dan Snyder"
          ],
          [
           "Frank Fertitta, III."
          ],
          [
           "Lorenzo Fertitta"
          ],
          [
           "Vincent McMahon"
          ],
          [
           "Leslie Alexander"
          ],
          [
           "James France"
          ],
          [
           "Jerry Reinsdorf"
          ],
          [
           "Michael Jordan"
          ],
          [
           "Jim Crane"
          ],
          [
           "Theodore Leonsis"
          ],
          [
           "Joe Lacob"
          ]
         ],
         "hovertemplate": "Industry=Sports<br>Age=%{x}<br>Net Worth (in Billion USD)=%{y}<br>Name=%{customdata[0]}<extra></extra>",
         "legendgroup": "Sports",
         "marker": {
          "color": "#B6E880",
          "symbol": "circle"
         },
         "mode": "markers",
         "name": "Sports",
         "showlegend": true,
         "type": "scattergl",
         "x": {
          "bdata": "AAAAAACAU0AAAAAAAEBSQAAAAAAAwFNAAAAAAACAU0AAAAAAAABOQAAAAAAAAFVAAAAAAACAUUAAAAAAAIBSQAAAAAAAgFZAAAAAAACAUkAAAAAAAIBOQAAAAAAAQFFAAAAAAADAUUAAAAAAAABMQAAAAAAAgE1AAAAAAAAASkAAAAAAAMBSQAAAAAAAQFNAAAAAAAAAU0AAAAAAAEBVQAAAAAAAAE1AAAAAAADAUEAAAAAAAEBQQAAAAAAAQFBA",
          "dtype": "f8"
         },
         "xaxis": "x",
         "y": {
          "bdata": "zczMzMzMIUBmZmZmZmYgQJqZmZmZmRtAzczMzMzMGECamZmZmZkTQGZmZmZmZhBAAAAAAAAADEAzMzMzMzMLQDMzMzMzMwtAMzMzMzMzC0AAAAAAAAAIQAAAAAAAAAhAZmZmZmZmBkDNzMzMzMwEQJqZmZmZmQFAmpmZmZmZAUDNzMzMzMwAQM3MzMzMzPw/zczMzMzM/D8zMzMzMzP7P5qZmZmZmfk/ZmZmZmZm9j9mZmZmZmb2PzMzMzMzM/M/",
          "dtype": "f8"
         },
         "yaxis": "y"
        }
       ],
       "layout": {
        "height": 500,
        "legend": {
         "title": {
          "text": "Industry"
         },
         "tracegroupgap": 0
        },
        "template": {
         "data": {
          "bar": [
           {
            "error_x": {
             "color": "#2a3f5f"
            },
            "error_y": {
             "color": "#2a3f5f"
            },
            "marker": {
             "line": {
              "color": "white",
              "width": 0.5
             },
             "pattern": {
              "fillmode": "overlay",
              "size": 10,
              "solidity": 0.2
             }
            },
            "type": "bar"
           }
          ],
          "barpolar": [
           {
            "marker": {
             "line": {
              "color": "white",
              "width": 0.5
             },
             "pattern": {
              "fillmode": "overlay",
              "size": 10,
              "solidity": 0.2
             }
            },
            "type": "barpolar"
           }
          ],
          "carpet": [
           {
            "aaxis": {
             "endlinecolor": "#2a3f5f",
             "gridcolor": "#C8D4E3",
             "linecolor": "#C8D4E3",
             "minorgridcolor": "#C8D4E3",
             "startlinecolor": "#2a3f5f"
            },
            "baxis": {
             "endlinecolor": "#2a3f5f",
             "gridcolor": "#C8D4E3",
             "linecolor": "#C8D4E3",
             "minorgridcolor": "#C8D4E3",
             "startlinecolor": "#2a3f5f"
            },
            "type": "carpet"
           }
          ],
          "choropleth": [
           {
            "colorbar": {
             "outlinewidth": 0,
             "ticks": ""
            },
            "type": "choropleth"
           }
          ],
          "contour": [
           {
            "colorbar": {
             "outlinewidth": 0,
             "ticks": ""
            },
            "colorscale": [
             [
              0,
              "#0d0887"
             ],
             [
              0.1111111111111111,
              "#46039f"
             ],
             [
              0.2222222222222222,
              "#7201a8"
             ],
             [
              0.3333333333333333,
              "#9c179e"
             ],
             [
              0.4444444444444444,
              "#bd3786"
             ],
             [
              0.5555555555555556,
              "#d8576b"
             ],
             [
              0.6666666666666666,
              "#ed7953"
             ],
             [
              0.7777777777777778,
              "#fb9f3a"
             ],
             [
              0.8888888888888888,
              "#fdca26"
             ],
             [
              1,
              "#f0f921"
             ]
            ],
            "type": "contour"
           }
          ],
          "contourcarpet": [
           {
            "colorbar": {
             "outlinewidth": 0,
             "ticks": ""
            },
            "type": "contourcarpet"
           }
          ],
          "heatmap": [
           {
            "colorbar": {
             "outlinewidth": 0,
             "ticks": ""
            },
            "colorscale": [
             [
              0,
              "#0d0887"
             ],
             [
              0.1111111111111111,
              "#46039f"
             ],
             [
              0.2222222222222222,
              "#7201a8"
             ],
             [
              0.3333333333333333,
              "#9c179e"
             ],
             [
              0.4444444444444444,
              "#bd3786"
             ],
             [
              0.5555555555555556,
              "#d8576b"
             ],
             [
              0.6666666666666666,
              "#ed7953"
             ],
             [
              0.7777777777777778,
              "#fb9f3a"
             ],
             [
              0.8888888888888888,
              "#fdca26"
             ],
             [
              1,
              "#f0f921"
             ]
            ],
            "type": "heatmap"
           }
          ],
          "histogram": [
           {
            "marker": {
             "pattern": {
              "fillmode": "overlay",
              "size": 10,
              "solidity": 0.2
             }
            },
            "type": "histogram"
           }
          ],
          "histogram2d": [
           {
            "colorbar": {
             "outlinewidth": 0,
             "ticks": ""
            },
            "colorscale": [
             [
              0,
              "#0d0887"
             ],
             [
              0.1111111111111111,
              "#46039f"
             ],
             [
              0.2222222222222222,
              "#7201a8"
             ],
             [
              0.3333333333333333,
              "#9c179e"
             ],
             [
              0.4444444444444444,
              "#bd3786"
             ],
             [
              0.5555555555555556,
              "#d8576b"
             ],
             [
              0.6666666666666666,
              "#ed7953"
             ],
             [
              0.7777777777777778,
              "#fb9f3a"
             ],
             [
              0.8888888888888888,
              "#fdca26"
             ],
             [
              1,
              "#f0f921"
             ]
            ],
            "type": "histogram2d"
           }
          ],
          "histogram2dcontour": [
           {
            "colorbar": {
             "outlinewidth": 0,
             "ticks": ""
            },
            "colorscale": [
             [
              0,
              "#0d0887"
             ],
             [
              0.1111111111111111,
              "#46039f"
             ],
             [
              0.2222222222222222,
              "#7201a8"
             ],
             [
              0.3333333333333333,
              "#9c179e"
             ],
             [
              0.4444444444444444,
              "#bd3786"
             ],
             [
              0.5555555555555556,
              "#d8576b"
             ],
             [
              0.6666666666666666,
              "#ed7953"
             ],
             [
              0.7777777777777778,
              "#fb9f3a"
             ],
             [
              0.8888888888888888,
              "#fdca26"
             ],
             [
              1,
              "#f0f921"
             ]
            ],
            "type": "histogram2dcontour"
           }
          ],
          "mesh3d": [
           {
            "colorbar": {
             "outlinewidth": 0,
             "ticks": ""
            },
            "type": "mesh3d"
           }
          ],
          "parcoords": [
           {
            "line": {
             "colorbar": {
              "outlinewidth": 0,
              "ticks": ""
             }
            },
            "type": "parcoords"
           }
          ],
          "pie": [
           {
            "automargin": true,
            "type": "pie"
           }
          ],
          "scatter": [
           {
            "fillpattern": {
             "fillmode": "overlay",
             "size": 10,
             "solidity": 0.2
            },
            "type": "scatter"
           }
          ],
          "scatter3d": [
           {
            "line": {
             "colorbar": {
              "outlinewidth": 0,
              "ticks": ""
             }
            },
            "marker": {
             "colorbar": {
              "outlinewidth": 0,
              "ticks": ""
             }
            },
            "type": "scatter3d"
           }
          ],
          "scattercarpet": [
           {
            "marker": {
             "colorbar": {
              "outlinewidth": 0,
              "ticks": ""
             }
            },
            "type": "scattercarpet"
           }
          ],
          "scattergeo": [
           {
            "marker": {
             "colorbar": {
              "outlinewidth": 0,
              "ticks": ""
             }
            },
            "type": "scattergeo"
           }
          ],
          "scattergl": [
           {
            "marker": {
             "colorbar": {
              "outlinewidth": 0,
              "ticks": ""
             }
            },
            "type": "scattergl"
           }
          ],
          "scattermap": [
           {
            "marker": {
             "colorbar": {
              "outlinewidth": 0,
              "ticks": ""
             }
            },
            "type": "scattermap"
           }
          ],
          "scattermapbox": [
           {
            "marker": {
             "colorbar": {
              "outlinewidth": 0,
              "ticks": ""
             }
            },
            "type": "scattermapbox"
           }
          ],
          "scatterpolar": [
           {
            "marker": {
             "colorbar": {
              "outlinewidth": 0,
              "ticks": ""
             }
            },
            "type": "scatterpolar"
           }
          ],
          "scatterpolargl": [
           {
            "marker": {
             "colorbar": {
              "outlinewidth": 0,
              "ticks": ""
             }
            },
            "type": "scatterpolargl"
           }
          ],
          "scatterternary": [
           {
            "marker": {
             "colorbar": {
              "outlinewidth": 0,
              "ticks": ""
             }
            },
            "type": "scatterternary"
           }
          ],
          "surface": [
           {
            "colorbar": {
             "outlinewidth": 0,
             "ticks": ""
            },
            "colorscale": [
             [
              0,
              "#0d0887"
             ],
             [
              0.1111111111111111,
              "#46039f"
             ],
             [
              0.2222222222222222,
              "#7201a8"
             ],
             [
              0.3333333333333333,
              "#9c179e"
             ],
             [
              0.4444444444444444,
              "#bd3786"
             ],
             [
              0.5555555555555556,
              "#d8576b"
             ],
             [
              0.6666666666666666,
              "#ed7953"
             ],
             [
              0.7777777777777778,
              "#fb9f3a"
             ],
             [
              0.8888888888888888,
              "#fdca26"
             ],
             [
              1,
              "#f0f921"
             ]
            ],
            "type": "surface"
           }
          ],
          "table": [
           {
            "cells": {
             "fill": {
              "color": "#EBF0F8"
             },
             "line": {
              "color": "white"
             }
            },
            "header": {
             "fill": {
              "color": "#C8D4E3"
             },
             "line": {
              "color": "white"
             }
            },
            "type": "table"
           }
          ]
         },
         "layout": {
          "annotationdefaults": {
           "arrowcolor": "#2a3f5f",
           "arrowhead": 0,
           "arrowwidth": 1
          },
          "autotypenumbers": "strict",
          "coloraxis": {
           "colorbar": {
            "outlinewidth": 0,
            "ticks": ""
           }
          },
          "colorscale": {
           "diverging": [
            [
             0,
             "#8e0152"
            ],
            [
             0.1,
             "#c51b7d"
            ],
            [
             0.2,
             "#de77ae"
            ],
            [
             0.3,
             "#f1b6da"
            ],
            [
             0.4,
             "#fde0ef"
            ],
            [
             0.5,
             "#f7f7f7"
            ],
            [
             0.6,
             "#e6f5d0"
            ],
            [
             0.7,
             "#b8e186"
            ],
            [
             0.8,
             "#7fbc41"
            ],
            [
             0.9,
             "#4d9221"
            ],
            [
             1,
             "#276419"
            ]
           ],
           "sequential": [
            [
             0,
             "#0d0887"
            ],
            [
             0.1111111111111111,
             "#46039f"
            ],
            [
             0.2222222222222222,
             "#7201a8"
            ],
            [
             0.3333333333333333,
             "#9c179e"
            ],
            [
             0.4444444444444444,
             "#bd3786"
            ],
            [
             0.5555555555555556,
             "#d8576b"
            ],
            [
             0.6666666666666666,
             "#ed7953"
            ],
            [
             0.7777777777777778,
             "#fb9f3a"
            ],
            [
             0.8888888888888888,
             "#fdca26"
            ],
            [
             1,
             "#f0f921"
            ]
           ],
           "sequentialminus": [
            [
             0,
             "#0d0887"
            ],
            [
             0.1111111111111111,
             "#46039f"
            ],
            [
             0.2222222222222222,
             "#7201a8"
            ],
            [
             0.3333333333333333,
             "#9c179e"
            ],
            [
             0.4444444444444444,
             "#bd3786"
            ],
            [
             0.5555555555555556,
             "#d8576b"
            ],
            [
             0.6666666666666666,
             "#ed7953"
            ],
            [
             0.7777777777777778,
             "#fb9f3a"
            ],
            [
             0.8888888888888888,
             "#fdca26"
            ],
            [
             1,
             "#f0f921"
            ]
           ]
          },
          "colorway": [
           "#636efa",
           "#EF553B",
           "#00cc96",
           "#ab63fa",
           "#FFA15A",
           "#19d3f3",
           "#FF6692",
           "#B6E880",
           "#FF97FF",
           "#FECB52"
          ],
          "font": {
           "color": "#2a3f5f"
          },
          "geo": {
           "bgcolor": "white",
           "lakecolor": "white",
           "landcolor": "white",
           "showlakes": true,
           "showland": true,
           "subunitcolor": "#C8D4E3"
          },
          "hoverlabel": {
           "align": "left"
          },
          "hovermode": "closest",
          "mapbox": {
           "style": "light"
          },
          "paper_bgcolor": "white",
          "plot_bgcolor": "white",
          "polar": {
           "angularaxis": {
            "gridcolor": "#EBF0F8",
            "linecolor": "#EBF0F8",
            "ticks": ""
           },
           "bgcolor": "white",
           "radialaxis": {
            "gridcolor": "#EBF0F8",
            "linecolor": "#EBF0F8",
            "ticks": ""
           }
          },
          "scene": {
           "xaxis": {
            "backgroundcolor": "white",
            "gridcolor": "#DFE8F3",
            "gridwidth": 2,
            "linecolor": "#EBF0F8",
            "showbackground": true,
            "ticks": "",
            "zerolinecolor": "#EBF0F8"
           },
           "yaxis": {
            "backgroundcolor": "white",
            "gridcolor": "#DFE8F3",
            "gridwidth": 2,
            "linecolor": "#EBF0F8",
            "showbackground": true,
            "ticks": "",
            "zerolinecolor": "#EBF0F8"
           },
           "zaxis": {
            "backgroundcolor": "white",
            "gridcolor": "#DFE8F3",
            "gridwidth": 2,
            "linecolor": "#EBF0F8",
            "showbackground": true,
            "ticks": "",
            "zerolinecolor": "#EBF0F8"
           }
          },
          "shapedefaults": {
           "line": {
            "color": "#2a3f5f"
           }
          },
          "ternary": {
           "aaxis": {
            "gridcolor": "#DFE8F3",
            "linecolor": "#A2B1C6",
            "ticks": ""
           },
           "baxis": {
            "gridcolor": "#DFE8F3",
            "linecolor": "#A2B1C6",
            "ticks": ""
           },
           "bgcolor": "white",
           "caxis": {
            "gridcolor": "#DFE8F3",
            "linecolor": "#A2B1C6",
            "ticks": ""
           }
          },
          "title": {
           "x": 0.05
          },
          "xaxis": {
           "automargin": true,
           "gridcolor": "#EBF0F8",
           "linecolor": "#EBF0F8",
           "ticks": "",
           "title": {
            "standoff": 15
           },
           "zerolinecolor": "#EBF0F8",
           "zerolinewidth": 2
          },
          "yaxis": {
           "automargin": true,
           "gridcolor": "#EBF0F8",
           "linecolor": "#EBF0F8",
           "ticks": "",
           "title": {
            "standoff": 15
           },
           "zerolinecolor": "#EBF0F8",
           "zerolinewidth": 2
          }
         }
        },
        "title": {
         "text": "Age vs. Net Worth of Billionaires"
        },
        "width": 1500,
        "xaxis": {
         "anchor": "y",
         "domain": [
          0,
          1
         ],
         "title": {
          "text": "Age"
         }
        },
        "yaxis": {
         "anchor": "x",
         "domain": [
          0,
          1
         ],
         "title": {
          "text": "Net Worth (in Billion USD)"
         }
        }
       }
      }
     },
     "metadata": {},
     "output_type": "display_data"
    }
   ],
   "source": [
    "# Scatter plot of Age vs Net Worth\n",
    "fig = px.scatter(\n",
    "    df,\n",
    "    x='Age',\n",
    "    y='NetWorth',\n",
    "    title='Age vs. Net Worth of Billionaires',\n",
    "    labels={'Age': 'Age', 'NetWorth': 'Net Worth (in Billion USD)'},\n",
    "    color='Industry',\n",
    "    hover_data=['Name']\n",
    ")\n",
    "\n",
    "fig.update_layout(template='plotly_white',\n",
    "                  width = 1500,\n",
    "                  height = 500)\n",
    "fig.show()\n"
   ]
  },
  {
   "cell_type": "code",
   "execution_count": 146,
   "metadata": {},
   "outputs": [
    {
     "data": {
      "application/vnd.plotly.v1+json": {
       "config": {
        "plotlyServerURL": "https://plot.ly"
       },
       "data": [
        {
         "hovertemplate": "Source of Wealth=%{x}<br>Number of Billionaires=%{marker.color}<extra></extra>",
         "legendgroup": "",
         "marker": {
          "color": {
           "bdata": "qQBgAFkATgA9ACwAKgAjACAAIAAcABsAFwAXABUAFAAUABIAEgARAA==",
           "dtype": "i2"
          },
          "coloraxis": "coloraxis",
          "pattern": {
           "shape": ""
          }
         },
         "name": "",
         "orientation": "v",
         "showlegend": false,
         "text": {
          "bdata": "AAAAAAAgZUAAAAAAAABYQAAAAAAAQFZAAAAAAACAU0AAAAAAAIBOQAAAAAAAAEZAAAAAAAAARUAAAAAAAIBBQAAAAAAAAEBAAAAAAAAAQEAAAAAAAAA8QAAAAAAAADtAAAAAAAAAN0AAAAAAAAA3QAAAAAAAADVAAAAAAAAANEAAAAAAAAA0QAAAAAAAADJAAAAAAAAAMkAAAAAAAAAxQA==",
          "dtype": "f8"
         },
         "textposition": "outside",
         "type": "bar",
         "x": [
          "real estate",
          "pharmaceuticals",
          "investments",
          "diversified",
          "software",
          "retail",
          "hedge funds",
          "private equity",
          "consumer goods",
          "chemicals",
          "banking",
          "manufacturing",
          "e-commerce",
          "electronics",
          "education",
          "finance",
          "mining",
          "telecom",
          "auto parts",
          "steel"
         ],
         "xaxis": "x",
         "y": {
          "bdata": "qQBgAFkATgA9ACwAKgAjACAAIAAcABsAFwAXABUAFAAUABIAEgARAA==",
          "dtype": "i2"
         },
         "yaxis": "y"
        }
       ],
       "layout": {
        "barmode": "relative",
        "coloraxis": {
         "colorbar": {
          "title": {
           "text": "Number of Billionaires"
          }
         },
         "colorscale": [
          [
           0,
           "#0d0887"
          ],
          [
           0.1111111111111111,
           "#46039f"
          ],
          [
           0.2222222222222222,
           "#7201a8"
          ],
          [
           0.3333333333333333,
           "#9c179e"
          ],
          [
           0.4444444444444444,
           "#bd3786"
          ],
          [
           0.5555555555555556,
           "#d8576b"
          ],
          [
           0.6666666666666666,
           "#ed7953"
          ],
          [
           0.7777777777777778,
           "#fb9f3a"
          ],
          [
           0.8888888888888888,
           "#fdca26"
          ],
          [
           1,
           "#f0f921"
          ]
         ]
        },
        "legend": {
         "tracegroupgap": 0
        },
        "template": {
         "data": {
          "bar": [
           {
            "error_x": {
             "color": "#2a3f5f"
            },
            "error_y": {
             "color": "#2a3f5f"
            },
            "marker": {
             "line": {
              "color": "white",
              "width": 0.5
             },
             "pattern": {
              "fillmode": "overlay",
              "size": 10,
              "solidity": 0.2
             }
            },
            "type": "bar"
           }
          ],
          "barpolar": [
           {
            "marker": {
             "line": {
              "color": "white",
              "width": 0.5
             },
             "pattern": {
              "fillmode": "overlay",
              "size": 10,
              "solidity": 0.2
             }
            },
            "type": "barpolar"
           }
          ],
          "carpet": [
           {
            "aaxis": {
             "endlinecolor": "#2a3f5f",
             "gridcolor": "#C8D4E3",
             "linecolor": "#C8D4E3",
             "minorgridcolor": "#C8D4E3",
             "startlinecolor": "#2a3f5f"
            },
            "baxis": {
             "endlinecolor": "#2a3f5f",
             "gridcolor": "#C8D4E3",
             "linecolor": "#C8D4E3",
             "minorgridcolor": "#C8D4E3",
             "startlinecolor": "#2a3f5f"
            },
            "type": "carpet"
           }
          ],
          "choropleth": [
           {
            "colorbar": {
             "outlinewidth": 0,
             "ticks": ""
            },
            "type": "choropleth"
           }
          ],
          "contour": [
           {
            "colorbar": {
             "outlinewidth": 0,
             "ticks": ""
            },
            "colorscale": [
             [
              0,
              "#0d0887"
             ],
             [
              0.1111111111111111,
              "#46039f"
             ],
             [
              0.2222222222222222,
              "#7201a8"
             ],
             [
              0.3333333333333333,
              "#9c179e"
             ],
             [
              0.4444444444444444,
              "#bd3786"
             ],
             [
              0.5555555555555556,
              "#d8576b"
             ],
             [
              0.6666666666666666,
              "#ed7953"
             ],
             [
              0.7777777777777778,
              "#fb9f3a"
             ],
             [
              0.8888888888888888,
              "#fdca26"
             ],
             [
              1,
              "#f0f921"
             ]
            ],
            "type": "contour"
           }
          ],
          "contourcarpet": [
           {
            "colorbar": {
             "outlinewidth": 0,
             "ticks": ""
            },
            "type": "contourcarpet"
           }
          ],
          "heatmap": [
           {
            "colorbar": {
             "outlinewidth": 0,
             "ticks": ""
            },
            "colorscale": [
             [
              0,
              "#0d0887"
             ],
             [
              0.1111111111111111,
              "#46039f"
             ],
             [
              0.2222222222222222,
              "#7201a8"
             ],
             [
              0.3333333333333333,
              "#9c179e"
             ],
             [
              0.4444444444444444,
              "#bd3786"
             ],
             [
              0.5555555555555556,
              "#d8576b"
             ],
             [
              0.6666666666666666,
              "#ed7953"
             ],
             [
              0.7777777777777778,
              "#fb9f3a"
             ],
             [
              0.8888888888888888,
              "#fdca26"
             ],
             [
              1,
              "#f0f921"
             ]
            ],
            "type": "heatmap"
           }
          ],
          "histogram": [
           {
            "marker": {
             "pattern": {
              "fillmode": "overlay",
              "size": 10,
              "solidity": 0.2
             }
            },
            "type": "histogram"
           }
          ],
          "histogram2d": [
           {
            "colorbar": {
             "outlinewidth": 0,
             "ticks": ""
            },
            "colorscale": [
             [
              0,
              "#0d0887"
             ],
             [
              0.1111111111111111,
              "#46039f"
             ],
             [
              0.2222222222222222,
              "#7201a8"
             ],
             [
              0.3333333333333333,
              "#9c179e"
             ],
             [
              0.4444444444444444,
              "#bd3786"
             ],
             [
              0.5555555555555556,
              "#d8576b"
             ],
             [
              0.6666666666666666,
              "#ed7953"
             ],
             [
              0.7777777777777778,
              "#fb9f3a"
             ],
             [
              0.8888888888888888,
              "#fdca26"
             ],
             [
              1,
              "#f0f921"
             ]
            ],
            "type": "histogram2d"
           }
          ],
          "histogram2dcontour": [
           {
            "colorbar": {
             "outlinewidth": 0,
             "ticks": ""
            },
            "colorscale": [
             [
              0,
              "#0d0887"
             ],
             [
              0.1111111111111111,
              "#46039f"
             ],
             [
              0.2222222222222222,
              "#7201a8"
             ],
             [
              0.3333333333333333,
              "#9c179e"
             ],
             [
              0.4444444444444444,
              "#bd3786"
             ],
             [
              0.5555555555555556,
              "#d8576b"
             ],
             [
              0.6666666666666666,
              "#ed7953"
             ],
             [
              0.7777777777777778,
              "#fb9f3a"
             ],
             [
              0.8888888888888888,
              "#fdca26"
             ],
             [
              1,
              "#f0f921"
             ]
            ],
            "type": "histogram2dcontour"
           }
          ],
          "mesh3d": [
           {
            "colorbar": {
             "outlinewidth": 0,
             "ticks": ""
            },
            "type": "mesh3d"
           }
          ],
          "parcoords": [
           {
            "line": {
             "colorbar": {
              "outlinewidth": 0,
              "ticks": ""
             }
            },
            "type": "parcoords"
           }
          ],
          "pie": [
           {
            "automargin": true,
            "type": "pie"
           }
          ],
          "scatter": [
           {
            "fillpattern": {
             "fillmode": "overlay",
             "size": 10,
             "solidity": 0.2
            },
            "type": "scatter"
           }
          ],
          "scatter3d": [
           {
            "line": {
             "colorbar": {
              "outlinewidth": 0,
              "ticks": ""
             }
            },
            "marker": {
             "colorbar": {
              "outlinewidth": 0,
              "ticks": ""
             }
            },
            "type": "scatter3d"
           }
          ],
          "scattercarpet": [
           {
            "marker": {
             "colorbar": {
              "outlinewidth": 0,
              "ticks": ""
             }
            },
            "type": "scattercarpet"
           }
          ],
          "scattergeo": [
           {
            "marker": {
             "colorbar": {
              "outlinewidth": 0,
              "ticks": ""
             }
            },
            "type": "scattergeo"
           }
          ],
          "scattergl": [
           {
            "marker": {
             "colorbar": {
              "outlinewidth": 0,
              "ticks": ""
             }
            },
            "type": "scattergl"
           }
          ],
          "scattermap": [
           {
            "marker": {
             "colorbar": {
              "outlinewidth": 0,
              "ticks": ""
             }
            },
            "type": "scattermap"
           }
          ],
          "scattermapbox": [
           {
            "marker": {
             "colorbar": {
              "outlinewidth": 0,
              "ticks": ""
             }
            },
            "type": "scattermapbox"
           }
          ],
          "scatterpolar": [
           {
            "marker": {
             "colorbar": {
              "outlinewidth": 0,
              "ticks": ""
             }
            },
            "type": "scatterpolar"
           }
          ],
          "scatterpolargl": [
           {
            "marker": {
             "colorbar": {
              "outlinewidth": 0,
              "ticks": ""
             }
            },
            "type": "scatterpolargl"
           }
          ],
          "scatterternary": [
           {
            "marker": {
             "colorbar": {
              "outlinewidth": 0,
              "ticks": ""
             }
            },
            "type": "scatterternary"
           }
          ],
          "surface": [
           {
            "colorbar": {
             "outlinewidth": 0,
             "ticks": ""
            },
            "colorscale": [
             [
              0,
              "#0d0887"
             ],
             [
              0.1111111111111111,
              "#46039f"
             ],
             [
              0.2222222222222222,
              "#7201a8"
             ],
             [
              0.3333333333333333,
              "#9c179e"
             ],
             [
              0.4444444444444444,
              "#bd3786"
             ],
             [
              0.5555555555555556,
              "#d8576b"
             ],
             [
              0.6666666666666666,
              "#ed7953"
             ],
             [
              0.7777777777777778,
              "#fb9f3a"
             ],
             [
              0.8888888888888888,
              "#fdca26"
             ],
             [
              1,
              "#f0f921"
             ]
            ],
            "type": "surface"
           }
          ],
          "table": [
           {
            "cells": {
             "fill": {
              "color": "#EBF0F8"
             },
             "line": {
              "color": "white"
             }
            },
            "header": {
             "fill": {
              "color": "#C8D4E3"
             },
             "line": {
              "color": "white"
             }
            },
            "type": "table"
           }
          ]
         },
         "layout": {
          "annotationdefaults": {
           "arrowcolor": "#2a3f5f",
           "arrowhead": 0,
           "arrowwidth": 1
          },
          "autotypenumbers": "strict",
          "coloraxis": {
           "colorbar": {
            "outlinewidth": 0,
            "ticks": ""
           }
          },
          "colorscale": {
           "diverging": [
            [
             0,
             "#8e0152"
            ],
            [
             0.1,
             "#c51b7d"
            ],
            [
             0.2,
             "#de77ae"
            ],
            [
             0.3,
             "#f1b6da"
            ],
            [
             0.4,
             "#fde0ef"
            ],
            [
             0.5,
             "#f7f7f7"
            ],
            [
             0.6,
             "#e6f5d0"
            ],
            [
             0.7,
             "#b8e186"
            ],
            [
             0.8,
             "#7fbc41"
            ],
            [
             0.9,
             "#4d9221"
            ],
            [
             1,
             "#276419"
            ]
           ],
           "sequential": [
            [
             0,
             "#0d0887"
            ],
            [
             0.1111111111111111,
             "#46039f"
            ],
            [
             0.2222222222222222,
             "#7201a8"
            ],
            [
             0.3333333333333333,
             "#9c179e"
            ],
            [
             0.4444444444444444,
             "#bd3786"
            ],
            [
             0.5555555555555556,
             "#d8576b"
            ],
            [
             0.6666666666666666,
             "#ed7953"
            ],
            [
             0.7777777777777778,
             "#fb9f3a"
            ],
            [
             0.8888888888888888,
             "#fdca26"
            ],
            [
             1,
             "#f0f921"
            ]
           ],
           "sequentialminus": [
            [
             0,
             "#0d0887"
            ],
            [
             0.1111111111111111,
             "#46039f"
            ],
            [
             0.2222222222222222,
             "#7201a8"
            ],
            [
             0.3333333333333333,
             "#9c179e"
            ],
            [
             0.4444444444444444,
             "#bd3786"
            ],
            [
             0.5555555555555556,
             "#d8576b"
            ],
            [
             0.6666666666666666,
             "#ed7953"
            ],
            [
             0.7777777777777778,
             "#fb9f3a"
            ],
            [
             0.8888888888888888,
             "#fdca26"
            ],
            [
             1,
             "#f0f921"
            ]
           ]
          },
          "colorway": [
           "#636efa",
           "#EF553B",
           "#00cc96",
           "#ab63fa",
           "#FFA15A",
           "#19d3f3",
           "#FF6692",
           "#B6E880",
           "#FF97FF",
           "#FECB52"
          ],
          "font": {
           "color": "#2a3f5f"
          },
          "geo": {
           "bgcolor": "white",
           "lakecolor": "white",
           "landcolor": "white",
           "showlakes": true,
           "showland": true,
           "subunitcolor": "#C8D4E3"
          },
          "hoverlabel": {
           "align": "left"
          },
          "hovermode": "closest",
          "mapbox": {
           "style": "light"
          },
          "paper_bgcolor": "white",
          "plot_bgcolor": "white",
          "polar": {
           "angularaxis": {
            "gridcolor": "#EBF0F8",
            "linecolor": "#EBF0F8",
            "ticks": ""
           },
           "bgcolor": "white",
           "radialaxis": {
            "gridcolor": "#EBF0F8",
            "linecolor": "#EBF0F8",
            "ticks": ""
           }
          },
          "scene": {
           "xaxis": {
            "backgroundcolor": "white",
            "gridcolor": "#DFE8F3",
            "gridwidth": 2,
            "linecolor": "#EBF0F8",
            "showbackground": true,
            "ticks": "",
            "zerolinecolor": "#EBF0F8"
           },
           "yaxis": {
            "backgroundcolor": "white",
            "gridcolor": "#DFE8F3",
            "gridwidth": 2,
            "linecolor": "#EBF0F8",
            "showbackground": true,
            "ticks": "",
            "zerolinecolor": "#EBF0F8"
           },
           "zaxis": {
            "backgroundcolor": "white",
            "gridcolor": "#DFE8F3",
            "gridwidth": 2,
            "linecolor": "#EBF0F8",
            "showbackground": true,
            "ticks": "",
            "zerolinecolor": "#EBF0F8"
           }
          },
          "shapedefaults": {
           "line": {
            "color": "#2a3f5f"
           }
          },
          "ternary": {
           "aaxis": {
            "gridcolor": "#DFE8F3",
            "linecolor": "#A2B1C6",
            "ticks": ""
           },
           "baxis": {
            "gridcolor": "#DFE8F3",
            "linecolor": "#A2B1C6",
            "ticks": ""
           },
           "bgcolor": "white",
           "caxis": {
            "gridcolor": "#DFE8F3",
            "linecolor": "#A2B1C6",
            "ticks": ""
           }
          },
          "title": {
           "x": 0.05
          },
          "xaxis": {
           "automargin": true,
           "gridcolor": "#EBF0F8",
           "linecolor": "#EBF0F8",
           "ticks": "",
           "title": {
            "standoff": 15
           },
           "zerolinecolor": "#EBF0F8",
           "zerolinewidth": 2
          },
          "yaxis": {
           "automargin": true,
           "gridcolor": "#EBF0F8",
           "linecolor": "#EBF0F8",
           "ticks": "",
           "title": {
            "standoff": 15
           },
           "zerolinecolor": "#EBF0F8",
           "zerolinewidth": 2
          }
         }
        },
        "title": {
         "text": "Top Sources of Wealth (Top 20)"
        },
        "xaxis": {
         "anchor": "y",
         "domain": [
          0,
          1
         ],
         "tickangle": -45,
         "title": {
          "text": "Source of Wealth"
         }
        },
        "yaxis": {
         "anchor": "x",
         "domain": [
          0,
          1
         ],
         "title": {
          "text": "Number of Billionaires"
         }
        }
       }
      }
     },
     "metadata": {},
     "output_type": "display_data"
    }
   ],
   "source": [
    "# Top Sources of wealth for most billionaires\n",
    "# Top Sources of Wealth\n",
    "top_sources = df['Source'].value_counts().head(20).reset_index()\n",
    "top_sources.columns = ['Source', 'Number of Billionaires']\n",
    "\n",
    "# Create interactive bar chart\n",
    "fig = px.bar(\n",
    "    top_sources,\n",
    "    x='Source',\n",
    "    y='Number of Billionaires',\n",
    "    title='Top Sources of Wealth (Top 20)',\n",
    "    text='Number of Billionaires',\n",
    "    color='Number of Billionaires',\n",
    "    labels={'Source': 'Source of Wealth', 'Number of Billionaires': 'Number of Billionaires'}\n",
    ")\n",
    "\n",
    "fig.update_traces(textposition='outside')\n",
    "fig.update_layout(template='plotly_white', xaxis_tickangle=-45)\n",
    "fig.show()"
   ]
  },
  {
   "cell_type": "code",
   "execution_count": 81,
   "metadata": {},
   "outputs": [
    {
     "data": {
      "application/vnd.plotly.v1+json": {
       "config": {
        "plotlyServerURL": "https://plot.ly"
       },
       "data": [
        {
         "colorscale": [
          [
           0,
           "#440154"
          ],
          [
           0.1111111111111111,
           "#482878"
          ],
          [
           0.2222222222222222,
           "#3e4989"
          ],
          [
           0.3333333333333333,
           "#31688e"
          ],
          [
           0.4444444444444444,
           "#26828e"
          ],
          [
           0.5555555555555556,
           "#1f9e89"
          ],
          [
           0.6666666666666666,
           "#35b779"
          ],
          [
           0.7777777777777778,
           "#6ece58"
          ],
          [
           0.8888888888888888,
           "#b5de2b"
          ],
          [
           1,
           "#fde725"
          ]
         ],
         "reversescale": false,
         "showscale": true,
         "type": "heatmap",
         "x": [
          "NetWorth",
          "Rank",
          "Age"
         ],
         "y": [
          "NetWorth",
          "Rank",
          "Age"
         ],
         "z": {
          "bdata": "AAAAAAAA8D8gkeRb9HbevyWE5hCkRqE/IJHkW/R23r8AAAAAAADwP8rGXfzlyLq/JYTmEKRGoT/Kxl385ci6vwAAAAAAAPA/",
          "dtype": "f8",
          "shape": "3, 3"
         }
        }
       ],
       "layout": {
        "annotations": [
         {
          "font": {
           "color": "#000000"
          },
          "showarrow": false,
          "text": "1.0",
          "x": "NetWorth",
          "xref": "x",
          "y": "NetWorth",
          "yref": "y"
         },
         {
          "font": {
           "color": "#FFFFFF"
          },
          "showarrow": false,
          "text": "-0.48",
          "x": "Rank",
          "xref": "x",
          "y": "NetWorth",
          "yref": "y"
         },
         {
          "font": {
           "color": "#FFFFFF"
          },
          "showarrow": false,
          "text": "0.03",
          "x": "Age",
          "xref": "x",
          "y": "NetWorth",
          "yref": "y"
         },
         {
          "font": {
           "color": "#FFFFFF"
          },
          "showarrow": false,
          "text": "-0.48",
          "x": "NetWorth",
          "xref": "x",
          "y": "Rank",
          "yref": "y"
         },
         {
          "font": {
           "color": "#000000"
          },
          "showarrow": false,
          "text": "1.0",
          "x": "Rank",
          "xref": "x",
          "y": "Rank",
          "yref": "y"
         },
         {
          "font": {
           "color": "#FFFFFF"
          },
          "showarrow": false,
          "text": "-0.1",
          "x": "Age",
          "xref": "x",
          "y": "Rank",
          "yref": "y"
         },
         {
          "font": {
           "color": "#FFFFFF"
          },
          "showarrow": false,
          "text": "0.03",
          "x": "NetWorth",
          "xref": "x",
          "y": "Age",
          "yref": "y"
         },
         {
          "font": {
           "color": "#FFFFFF"
          },
          "showarrow": false,
          "text": "-0.1",
          "x": "Rank",
          "xref": "x",
          "y": "Age",
          "yref": "y"
         },
         {
          "font": {
           "color": "#000000"
          },
          "showarrow": false,
          "text": "1.0",
          "x": "Age",
          "xref": "x",
          "y": "Age",
          "yref": "y"
         }
        ],
        "template": {
         "data": {
          "bar": [
           {
            "error_x": {
             "color": "#2a3f5f"
            },
            "error_y": {
             "color": "#2a3f5f"
            },
            "marker": {
             "line": {
              "color": "white",
              "width": 0.5
             },
             "pattern": {
              "fillmode": "overlay",
              "size": 10,
              "solidity": 0.2
             }
            },
            "type": "bar"
           }
          ],
          "barpolar": [
           {
            "marker": {
             "line": {
              "color": "white",
              "width": 0.5
             },
             "pattern": {
              "fillmode": "overlay",
              "size": 10,
              "solidity": 0.2
             }
            },
            "type": "barpolar"
           }
          ],
          "carpet": [
           {
            "aaxis": {
             "endlinecolor": "#2a3f5f",
             "gridcolor": "#C8D4E3",
             "linecolor": "#C8D4E3",
             "minorgridcolor": "#C8D4E3",
             "startlinecolor": "#2a3f5f"
            },
            "baxis": {
             "endlinecolor": "#2a3f5f",
             "gridcolor": "#C8D4E3",
             "linecolor": "#C8D4E3",
             "minorgridcolor": "#C8D4E3",
             "startlinecolor": "#2a3f5f"
            },
            "type": "carpet"
           }
          ],
          "choropleth": [
           {
            "colorbar": {
             "outlinewidth": 0,
             "ticks": ""
            },
            "type": "choropleth"
           }
          ],
          "contour": [
           {
            "colorbar": {
             "outlinewidth": 0,
             "ticks": ""
            },
            "colorscale": [
             [
              0,
              "#0d0887"
             ],
             [
              0.1111111111111111,
              "#46039f"
             ],
             [
              0.2222222222222222,
              "#7201a8"
             ],
             [
              0.3333333333333333,
              "#9c179e"
             ],
             [
              0.4444444444444444,
              "#bd3786"
             ],
             [
              0.5555555555555556,
              "#d8576b"
             ],
             [
              0.6666666666666666,
              "#ed7953"
             ],
             [
              0.7777777777777778,
              "#fb9f3a"
             ],
             [
              0.8888888888888888,
              "#fdca26"
             ],
             [
              1,
              "#f0f921"
             ]
            ],
            "type": "contour"
           }
          ],
          "contourcarpet": [
           {
            "colorbar": {
             "outlinewidth": 0,
             "ticks": ""
            },
            "type": "contourcarpet"
           }
          ],
          "heatmap": [
           {
            "colorbar": {
             "outlinewidth": 0,
             "ticks": ""
            },
            "colorscale": [
             [
              0,
              "#0d0887"
             ],
             [
              0.1111111111111111,
              "#46039f"
             ],
             [
              0.2222222222222222,
              "#7201a8"
             ],
             [
              0.3333333333333333,
              "#9c179e"
             ],
             [
              0.4444444444444444,
              "#bd3786"
             ],
             [
              0.5555555555555556,
              "#d8576b"
             ],
             [
              0.6666666666666666,
              "#ed7953"
             ],
             [
              0.7777777777777778,
              "#fb9f3a"
             ],
             [
              0.8888888888888888,
              "#fdca26"
             ],
             [
              1,
              "#f0f921"
             ]
            ],
            "type": "heatmap"
           }
          ],
          "histogram": [
           {
            "marker": {
             "pattern": {
              "fillmode": "overlay",
              "size": 10,
              "solidity": 0.2
             }
            },
            "type": "histogram"
           }
          ],
          "histogram2d": [
           {
            "colorbar": {
             "outlinewidth": 0,
             "ticks": ""
            },
            "colorscale": [
             [
              0,
              "#0d0887"
             ],
             [
              0.1111111111111111,
              "#46039f"
             ],
             [
              0.2222222222222222,
              "#7201a8"
             ],
             [
              0.3333333333333333,
              "#9c179e"
             ],
             [
              0.4444444444444444,
              "#bd3786"
             ],
             [
              0.5555555555555556,
              "#d8576b"
             ],
             [
              0.6666666666666666,
              "#ed7953"
             ],
             [
              0.7777777777777778,
              "#fb9f3a"
             ],
             [
              0.8888888888888888,
              "#fdca26"
             ],
             [
              1,
              "#f0f921"
             ]
            ],
            "type": "histogram2d"
           }
          ],
          "histogram2dcontour": [
           {
            "colorbar": {
             "outlinewidth": 0,
             "ticks": ""
            },
            "colorscale": [
             [
              0,
              "#0d0887"
             ],
             [
              0.1111111111111111,
              "#46039f"
             ],
             [
              0.2222222222222222,
              "#7201a8"
             ],
             [
              0.3333333333333333,
              "#9c179e"
             ],
             [
              0.4444444444444444,
              "#bd3786"
             ],
             [
              0.5555555555555556,
              "#d8576b"
             ],
             [
              0.6666666666666666,
              "#ed7953"
             ],
             [
              0.7777777777777778,
              "#fb9f3a"
             ],
             [
              0.8888888888888888,
              "#fdca26"
             ],
             [
              1,
              "#f0f921"
             ]
            ],
            "type": "histogram2dcontour"
           }
          ],
          "mesh3d": [
           {
            "colorbar": {
             "outlinewidth": 0,
             "ticks": ""
            },
            "type": "mesh3d"
           }
          ],
          "parcoords": [
           {
            "line": {
             "colorbar": {
              "outlinewidth": 0,
              "ticks": ""
             }
            },
            "type": "parcoords"
           }
          ],
          "pie": [
           {
            "automargin": true,
            "type": "pie"
           }
          ],
          "scatter": [
           {
            "fillpattern": {
             "fillmode": "overlay",
             "size": 10,
             "solidity": 0.2
            },
            "type": "scatter"
           }
          ],
          "scatter3d": [
           {
            "line": {
             "colorbar": {
              "outlinewidth": 0,
              "ticks": ""
             }
            },
            "marker": {
             "colorbar": {
              "outlinewidth": 0,
              "ticks": ""
             }
            },
            "type": "scatter3d"
           }
          ],
          "scattercarpet": [
           {
            "marker": {
             "colorbar": {
              "outlinewidth": 0,
              "ticks": ""
             }
            },
            "type": "scattercarpet"
           }
          ],
          "scattergeo": [
           {
            "marker": {
             "colorbar": {
              "outlinewidth": 0,
              "ticks": ""
             }
            },
            "type": "scattergeo"
           }
          ],
          "scattergl": [
           {
            "marker": {
             "colorbar": {
              "outlinewidth": 0,
              "ticks": ""
             }
            },
            "type": "scattergl"
           }
          ],
          "scattermap": [
           {
            "marker": {
             "colorbar": {
              "outlinewidth": 0,
              "ticks": ""
             }
            },
            "type": "scattermap"
           }
          ],
          "scattermapbox": [
           {
            "marker": {
             "colorbar": {
              "outlinewidth": 0,
              "ticks": ""
             }
            },
            "type": "scattermapbox"
           }
          ],
          "scatterpolar": [
           {
            "marker": {
             "colorbar": {
              "outlinewidth": 0,
              "ticks": ""
             }
            },
            "type": "scatterpolar"
           }
          ],
          "scatterpolargl": [
           {
            "marker": {
             "colorbar": {
              "outlinewidth": 0,
              "ticks": ""
             }
            },
            "type": "scatterpolargl"
           }
          ],
          "scatterternary": [
           {
            "marker": {
             "colorbar": {
              "outlinewidth": 0,
              "ticks": ""
             }
            },
            "type": "scatterternary"
           }
          ],
          "surface": [
           {
            "colorbar": {
             "outlinewidth": 0,
             "ticks": ""
            },
            "colorscale": [
             [
              0,
              "#0d0887"
             ],
             [
              0.1111111111111111,
              "#46039f"
             ],
             [
              0.2222222222222222,
              "#7201a8"
             ],
             [
              0.3333333333333333,
              "#9c179e"
             ],
             [
              0.4444444444444444,
              "#bd3786"
             ],
             [
              0.5555555555555556,
              "#d8576b"
             ],
             [
              0.6666666666666666,
              "#ed7953"
             ],
             [
              0.7777777777777778,
              "#fb9f3a"
             ],
             [
              0.8888888888888888,
              "#fdca26"
             ],
             [
              1,
              "#f0f921"
             ]
            ],
            "type": "surface"
           }
          ],
          "table": [
           {
            "cells": {
             "fill": {
              "color": "#EBF0F8"
             },
             "line": {
              "color": "white"
             }
            },
            "header": {
             "fill": {
              "color": "#C8D4E3"
             },
             "line": {
              "color": "white"
             }
            },
            "type": "table"
           }
          ]
         },
         "layout": {
          "annotationdefaults": {
           "arrowcolor": "#2a3f5f",
           "arrowhead": 0,
           "arrowwidth": 1
          },
          "autotypenumbers": "strict",
          "coloraxis": {
           "colorbar": {
            "outlinewidth": 0,
            "ticks": ""
           }
          },
          "colorscale": {
           "diverging": [
            [
             0,
             "#8e0152"
            ],
            [
             0.1,
             "#c51b7d"
            ],
            [
             0.2,
             "#de77ae"
            ],
            [
             0.3,
             "#f1b6da"
            ],
            [
             0.4,
             "#fde0ef"
            ],
            [
             0.5,
             "#f7f7f7"
            ],
            [
             0.6,
             "#e6f5d0"
            ],
            [
             0.7,
             "#b8e186"
            ],
            [
             0.8,
             "#7fbc41"
            ],
            [
             0.9,
             "#4d9221"
            ],
            [
             1,
             "#276419"
            ]
           ],
           "sequential": [
            [
             0,
             "#0d0887"
            ],
            [
             0.1111111111111111,
             "#46039f"
            ],
            [
             0.2222222222222222,
             "#7201a8"
            ],
            [
             0.3333333333333333,
             "#9c179e"
            ],
            [
             0.4444444444444444,
             "#bd3786"
            ],
            [
             0.5555555555555556,
             "#d8576b"
            ],
            [
             0.6666666666666666,
             "#ed7953"
            ],
            [
             0.7777777777777778,
             "#fb9f3a"
            ],
            [
             0.8888888888888888,
             "#fdca26"
            ],
            [
             1,
             "#f0f921"
            ]
           ],
           "sequentialminus": [
            [
             0,
             "#0d0887"
            ],
            [
             0.1111111111111111,
             "#46039f"
            ],
            [
             0.2222222222222222,
             "#7201a8"
            ],
            [
             0.3333333333333333,
             "#9c179e"
            ],
            [
             0.4444444444444444,
             "#bd3786"
            ],
            [
             0.5555555555555556,
             "#d8576b"
            ],
            [
             0.6666666666666666,
             "#ed7953"
            ],
            [
             0.7777777777777778,
             "#fb9f3a"
            ],
            [
             0.8888888888888888,
             "#fdca26"
            ],
            [
             1,
             "#f0f921"
            ]
           ]
          },
          "colorway": [
           "#636efa",
           "#EF553B",
           "#00cc96",
           "#ab63fa",
           "#FFA15A",
           "#19d3f3",
           "#FF6692",
           "#B6E880",
           "#FF97FF",
           "#FECB52"
          ],
          "font": {
           "color": "#2a3f5f"
          },
          "geo": {
           "bgcolor": "white",
           "lakecolor": "white",
           "landcolor": "white",
           "showlakes": true,
           "showland": true,
           "subunitcolor": "#C8D4E3"
          },
          "hoverlabel": {
           "align": "left"
          },
          "hovermode": "closest",
          "mapbox": {
           "style": "light"
          },
          "paper_bgcolor": "white",
          "plot_bgcolor": "white",
          "polar": {
           "angularaxis": {
            "gridcolor": "#EBF0F8",
            "linecolor": "#EBF0F8",
            "ticks": ""
           },
           "bgcolor": "white",
           "radialaxis": {
            "gridcolor": "#EBF0F8",
            "linecolor": "#EBF0F8",
            "ticks": ""
           }
          },
          "scene": {
           "xaxis": {
            "backgroundcolor": "white",
            "gridcolor": "#DFE8F3",
            "gridwidth": 2,
            "linecolor": "#EBF0F8",
            "showbackground": true,
            "ticks": "",
            "zerolinecolor": "#EBF0F8"
           },
           "yaxis": {
            "backgroundcolor": "white",
            "gridcolor": "#DFE8F3",
            "gridwidth": 2,
            "linecolor": "#EBF0F8",
            "showbackground": true,
            "ticks": "",
            "zerolinecolor": "#EBF0F8"
           },
           "zaxis": {
            "backgroundcolor": "white",
            "gridcolor": "#DFE8F3",
            "gridwidth": 2,
            "linecolor": "#EBF0F8",
            "showbackground": true,
            "ticks": "",
            "zerolinecolor": "#EBF0F8"
           }
          },
          "shapedefaults": {
           "line": {
            "color": "#2a3f5f"
           }
          },
          "ternary": {
           "aaxis": {
            "gridcolor": "#DFE8F3",
            "linecolor": "#A2B1C6",
            "ticks": ""
           },
           "baxis": {
            "gridcolor": "#DFE8F3",
            "linecolor": "#A2B1C6",
            "ticks": ""
           },
           "bgcolor": "white",
           "caxis": {
            "gridcolor": "#DFE8F3",
            "linecolor": "#A2B1C6",
            "ticks": ""
           }
          },
          "title": {
           "x": 0.05
          },
          "xaxis": {
           "automargin": true,
           "gridcolor": "#EBF0F8",
           "linecolor": "#EBF0F8",
           "ticks": "",
           "title": {
            "standoff": 15
           },
           "zerolinecolor": "#EBF0F8",
           "zerolinewidth": 2
          },
          "yaxis": {
           "automargin": true,
           "gridcolor": "#EBF0F8",
           "linecolor": "#EBF0F8",
           "ticks": "",
           "title": {
            "standoff": 15
           },
           "zerolinecolor": "#EBF0F8",
           "zerolinewidth": 2
          }
         }
        },
        "title": {
         "text": "Correlation Heatmap"
        },
        "xaxis": {
         "dtick": 1,
         "gridcolor": "rgb(0, 0, 0)",
         "side": "top",
         "ticks": ""
        },
        "yaxis": {
         "dtick": 1,
         "ticks": "",
         "ticksuffix": "  "
        }
       }
      }
     },
     "metadata": {},
     "output_type": "display_data"
    }
   ],
   "source": [
    "import plotly.figure_factory as ff\n",
    "\n",
    "# Calculate correlation matrix\n",
    "correlation_matrix = df[['NetWorth', 'Rank', 'Age',]].corr()\n",
    "\n",
    "# Create heatmap\n",
    "fig = ff.create_annotated_heatmap(\n",
    "    z=correlation_matrix.values,\n",
    "    x=list(correlation_matrix.columns),\n",
    "    y=list(correlation_matrix.index),\n",
    "    annotation_text=correlation_matrix.round(2).values,\n",
    "    colorscale='Viridis',\n",
    "    showscale=True\n",
    ")\n",
    "\n",
    "fig.update_layout(title_text='Correlation Heatmap', template='plotly_white')\n",
    "fig.show()\n"
   ]
  },
  {
   "cell_type": "code",
   "execution_count": 142,
   "metadata": {},
   "outputs": [
    {
     "data": {
      "application/vnd.plotly.v1+json": {
       "config": {
        "plotlyServerURL": "https://plot.ly"
       },
       "data": [
        {
         "colorscale": [
          [
           0,
           "#440154"
          ],
          [
           0.1111111111111111,
           "#482878"
          ],
          [
           0.2222222222222222,
           "#3e4989"
          ],
          [
           0.3333333333333333,
           "#31688e"
          ],
          [
           0.4444444444444444,
           "#26828e"
          ],
          [
           0.5555555555555556,
           "#1f9e89"
          ],
          [
           0.6666666666666666,
           "#35b779"
          ],
          [
           0.7777777777777778,
           "#6ece58"
          ],
          [
           0.8888888888888888,
           "#b5de2b"
          ],
          [
           1,
           "#fde725"
          ]
         ],
         "reversescale": false,
         "showscale": true,
         "type": "heatmap",
         "x": [
          "Country",
          "Source",
          "Industry"
         ],
         "y": [
          "Country",
          "Source",
          "Industry"
         ],
         "z": {
          "bdata": "AAAAAAAA8D87yNKHCSakvxb55h6gQcA/O8jShwkmpL8AAAAAAADwP1P5DfcOKqI/FvnmHqBBwD9T+Q33DiqiPwAAAAAAAPA/",
          "dtype": "f8",
          "shape": "3, 3"
         }
        }
       ],
       "layout": {
        "annotations": [
         {
          "font": {
           "color": "#000000"
          },
          "showarrow": false,
          "text": "1.0",
          "x": "Country",
          "xref": "x",
          "y": "Country",
          "yref": "y"
         },
         {
          "font": {
           "color": "#FFFFFF"
          },
          "showarrow": false,
          "text": "-0.04",
          "x": "Source",
          "xref": "x",
          "y": "Country",
          "yref": "y"
         },
         {
          "font": {
           "color": "#FFFFFF"
          },
          "showarrow": false,
          "text": "0.13",
          "x": "Industry",
          "xref": "x",
          "y": "Country",
          "yref": "y"
         },
         {
          "font": {
           "color": "#FFFFFF"
          },
          "showarrow": false,
          "text": "-0.04",
          "x": "Country",
          "xref": "x",
          "y": "Source",
          "yref": "y"
         },
         {
          "font": {
           "color": "#000000"
          },
          "showarrow": false,
          "text": "1.0",
          "x": "Source",
          "xref": "x",
          "y": "Source",
          "yref": "y"
         },
         {
          "font": {
           "color": "#FFFFFF"
          },
          "showarrow": false,
          "text": "0.04",
          "x": "Industry",
          "xref": "x",
          "y": "Source",
          "yref": "y"
         },
         {
          "font": {
           "color": "#FFFFFF"
          },
          "showarrow": false,
          "text": "0.13",
          "x": "Country",
          "xref": "x",
          "y": "Industry",
          "yref": "y"
         },
         {
          "font": {
           "color": "#FFFFFF"
          },
          "showarrow": false,
          "text": "0.04",
          "x": "Source",
          "xref": "x",
          "y": "Industry",
          "yref": "y"
         },
         {
          "font": {
           "color": "#000000"
          },
          "showarrow": false,
          "text": "1.0",
          "x": "Industry",
          "xref": "x",
          "y": "Industry",
          "yref": "y"
         }
        ],
        "template": {
         "data": {
          "bar": [
           {
            "error_x": {
             "color": "#2a3f5f"
            },
            "error_y": {
             "color": "#2a3f5f"
            },
            "marker": {
             "line": {
              "color": "white",
              "width": 0.5
             },
             "pattern": {
              "fillmode": "overlay",
              "size": 10,
              "solidity": 0.2
             }
            },
            "type": "bar"
           }
          ],
          "barpolar": [
           {
            "marker": {
             "line": {
              "color": "white",
              "width": 0.5
             },
             "pattern": {
              "fillmode": "overlay",
              "size": 10,
              "solidity": 0.2
             }
            },
            "type": "barpolar"
           }
          ],
          "carpet": [
           {
            "aaxis": {
             "endlinecolor": "#2a3f5f",
             "gridcolor": "#C8D4E3",
             "linecolor": "#C8D4E3",
             "minorgridcolor": "#C8D4E3",
             "startlinecolor": "#2a3f5f"
            },
            "baxis": {
             "endlinecolor": "#2a3f5f",
             "gridcolor": "#C8D4E3",
             "linecolor": "#C8D4E3",
             "minorgridcolor": "#C8D4E3",
             "startlinecolor": "#2a3f5f"
            },
            "type": "carpet"
           }
          ],
          "choropleth": [
           {
            "colorbar": {
             "outlinewidth": 0,
             "ticks": ""
            },
            "type": "choropleth"
           }
          ],
          "contour": [
           {
            "colorbar": {
             "outlinewidth": 0,
             "ticks": ""
            },
            "colorscale": [
             [
              0,
              "#0d0887"
             ],
             [
              0.1111111111111111,
              "#46039f"
             ],
             [
              0.2222222222222222,
              "#7201a8"
             ],
             [
              0.3333333333333333,
              "#9c179e"
             ],
             [
              0.4444444444444444,
              "#bd3786"
             ],
             [
              0.5555555555555556,
              "#d8576b"
             ],
             [
              0.6666666666666666,
              "#ed7953"
             ],
             [
              0.7777777777777778,
              "#fb9f3a"
             ],
             [
              0.8888888888888888,
              "#fdca26"
             ],
             [
              1,
              "#f0f921"
             ]
            ],
            "type": "contour"
           }
          ],
          "contourcarpet": [
           {
            "colorbar": {
             "outlinewidth": 0,
             "ticks": ""
            },
            "type": "contourcarpet"
           }
          ],
          "heatmap": [
           {
            "colorbar": {
             "outlinewidth": 0,
             "ticks": ""
            },
            "colorscale": [
             [
              0,
              "#0d0887"
             ],
             [
              0.1111111111111111,
              "#46039f"
             ],
             [
              0.2222222222222222,
              "#7201a8"
             ],
             [
              0.3333333333333333,
              "#9c179e"
             ],
             [
              0.4444444444444444,
              "#bd3786"
             ],
             [
              0.5555555555555556,
              "#d8576b"
             ],
             [
              0.6666666666666666,
              "#ed7953"
             ],
             [
              0.7777777777777778,
              "#fb9f3a"
             ],
             [
              0.8888888888888888,
              "#fdca26"
             ],
             [
              1,
              "#f0f921"
             ]
            ],
            "type": "heatmap"
           }
          ],
          "histogram": [
           {
            "marker": {
             "pattern": {
              "fillmode": "overlay",
              "size": 10,
              "solidity": 0.2
             }
            },
            "type": "histogram"
           }
          ],
          "histogram2d": [
           {
            "colorbar": {
             "outlinewidth": 0,
             "ticks": ""
            },
            "colorscale": [
             [
              0,
              "#0d0887"
             ],
             [
              0.1111111111111111,
              "#46039f"
             ],
             [
              0.2222222222222222,
              "#7201a8"
             ],
             [
              0.3333333333333333,
              "#9c179e"
             ],
             [
              0.4444444444444444,
              "#bd3786"
             ],
             [
              0.5555555555555556,
              "#d8576b"
             ],
             [
              0.6666666666666666,
              "#ed7953"
             ],
             [
              0.7777777777777778,
              "#fb9f3a"
             ],
             [
              0.8888888888888888,
              "#fdca26"
             ],
             [
              1,
              "#f0f921"
             ]
            ],
            "type": "histogram2d"
           }
          ],
          "histogram2dcontour": [
           {
            "colorbar": {
             "outlinewidth": 0,
             "ticks": ""
            },
            "colorscale": [
             [
              0,
              "#0d0887"
             ],
             [
              0.1111111111111111,
              "#46039f"
             ],
             [
              0.2222222222222222,
              "#7201a8"
             ],
             [
              0.3333333333333333,
              "#9c179e"
             ],
             [
              0.4444444444444444,
              "#bd3786"
             ],
             [
              0.5555555555555556,
              "#d8576b"
             ],
             [
              0.6666666666666666,
              "#ed7953"
             ],
             [
              0.7777777777777778,
              "#fb9f3a"
             ],
             [
              0.8888888888888888,
              "#fdca26"
             ],
             [
              1,
              "#f0f921"
             ]
            ],
            "type": "histogram2dcontour"
           }
          ],
          "mesh3d": [
           {
            "colorbar": {
             "outlinewidth": 0,
             "ticks": ""
            },
            "type": "mesh3d"
           }
          ],
          "parcoords": [
           {
            "line": {
             "colorbar": {
              "outlinewidth": 0,
              "ticks": ""
             }
            },
            "type": "parcoords"
           }
          ],
          "pie": [
           {
            "automargin": true,
            "type": "pie"
           }
          ],
          "scatter": [
           {
            "fillpattern": {
             "fillmode": "overlay",
             "size": 10,
             "solidity": 0.2
            },
            "type": "scatter"
           }
          ],
          "scatter3d": [
           {
            "line": {
             "colorbar": {
              "outlinewidth": 0,
              "ticks": ""
             }
            },
            "marker": {
             "colorbar": {
              "outlinewidth": 0,
              "ticks": ""
             }
            },
            "type": "scatter3d"
           }
          ],
          "scattercarpet": [
           {
            "marker": {
             "colorbar": {
              "outlinewidth": 0,
              "ticks": ""
             }
            },
            "type": "scattercarpet"
           }
          ],
          "scattergeo": [
           {
            "marker": {
             "colorbar": {
              "outlinewidth": 0,
              "ticks": ""
             }
            },
            "type": "scattergeo"
           }
          ],
          "scattergl": [
           {
            "marker": {
             "colorbar": {
              "outlinewidth": 0,
              "ticks": ""
             }
            },
            "type": "scattergl"
           }
          ],
          "scattermap": [
           {
            "marker": {
             "colorbar": {
              "outlinewidth": 0,
              "ticks": ""
             }
            },
            "type": "scattermap"
           }
          ],
          "scattermapbox": [
           {
            "marker": {
             "colorbar": {
              "outlinewidth": 0,
              "ticks": ""
             }
            },
            "type": "scattermapbox"
           }
          ],
          "scatterpolar": [
           {
            "marker": {
             "colorbar": {
              "outlinewidth": 0,
              "ticks": ""
             }
            },
            "type": "scatterpolar"
           }
          ],
          "scatterpolargl": [
           {
            "marker": {
             "colorbar": {
              "outlinewidth": 0,
              "ticks": ""
             }
            },
            "type": "scatterpolargl"
           }
          ],
          "scatterternary": [
           {
            "marker": {
             "colorbar": {
              "outlinewidth": 0,
              "ticks": ""
             }
            },
            "type": "scatterternary"
           }
          ],
          "surface": [
           {
            "colorbar": {
             "outlinewidth": 0,
             "ticks": ""
            },
            "colorscale": [
             [
              0,
              "#0d0887"
             ],
             [
              0.1111111111111111,
              "#46039f"
             ],
             [
              0.2222222222222222,
              "#7201a8"
             ],
             [
              0.3333333333333333,
              "#9c179e"
             ],
             [
              0.4444444444444444,
              "#bd3786"
             ],
             [
              0.5555555555555556,
              "#d8576b"
             ],
             [
              0.6666666666666666,
              "#ed7953"
             ],
             [
              0.7777777777777778,
              "#fb9f3a"
             ],
             [
              0.8888888888888888,
              "#fdca26"
             ],
             [
              1,
              "#f0f921"
             ]
            ],
            "type": "surface"
           }
          ],
          "table": [
           {
            "cells": {
             "fill": {
              "color": "#EBF0F8"
             },
             "line": {
              "color": "white"
             }
            },
            "header": {
             "fill": {
              "color": "#C8D4E3"
             },
             "line": {
              "color": "white"
             }
            },
            "type": "table"
           }
          ]
         },
         "layout": {
          "annotationdefaults": {
           "arrowcolor": "#2a3f5f",
           "arrowhead": 0,
           "arrowwidth": 1
          },
          "autotypenumbers": "strict",
          "coloraxis": {
           "colorbar": {
            "outlinewidth": 0,
            "ticks": ""
           }
          },
          "colorscale": {
           "diverging": [
            [
             0,
             "#8e0152"
            ],
            [
             0.1,
             "#c51b7d"
            ],
            [
             0.2,
             "#de77ae"
            ],
            [
             0.3,
             "#f1b6da"
            ],
            [
             0.4,
             "#fde0ef"
            ],
            [
             0.5,
             "#f7f7f7"
            ],
            [
             0.6,
             "#e6f5d0"
            ],
            [
             0.7,
             "#b8e186"
            ],
            [
             0.8,
             "#7fbc41"
            ],
            [
             0.9,
             "#4d9221"
            ],
            [
             1,
             "#276419"
            ]
           ],
           "sequential": [
            [
             0,
             "#0d0887"
            ],
            [
             0.1111111111111111,
             "#46039f"
            ],
            [
             0.2222222222222222,
             "#7201a8"
            ],
            [
             0.3333333333333333,
             "#9c179e"
            ],
            [
             0.4444444444444444,
             "#bd3786"
            ],
            [
             0.5555555555555556,
             "#d8576b"
            ],
            [
             0.6666666666666666,
             "#ed7953"
            ],
            [
             0.7777777777777778,
             "#fb9f3a"
            ],
            [
             0.8888888888888888,
             "#fdca26"
            ],
            [
             1,
             "#f0f921"
            ]
           ],
           "sequentialminus": [
            [
             0,
             "#0d0887"
            ],
            [
             0.1111111111111111,
             "#46039f"
            ],
            [
             0.2222222222222222,
             "#7201a8"
            ],
            [
             0.3333333333333333,
             "#9c179e"
            ],
            [
             0.4444444444444444,
             "#bd3786"
            ],
            [
             0.5555555555555556,
             "#d8576b"
            ],
            [
             0.6666666666666666,
             "#ed7953"
            ],
            [
             0.7777777777777778,
             "#fb9f3a"
            ],
            [
             0.8888888888888888,
             "#fdca26"
            ],
            [
             1,
             "#f0f921"
            ]
           ]
          },
          "colorway": [
           "#636efa",
           "#EF553B",
           "#00cc96",
           "#ab63fa",
           "#FFA15A",
           "#19d3f3",
           "#FF6692",
           "#B6E880",
           "#FF97FF",
           "#FECB52"
          ],
          "font": {
           "color": "#2a3f5f"
          },
          "geo": {
           "bgcolor": "white",
           "lakecolor": "white",
           "landcolor": "white",
           "showlakes": true,
           "showland": true,
           "subunitcolor": "#C8D4E3"
          },
          "hoverlabel": {
           "align": "left"
          },
          "hovermode": "closest",
          "mapbox": {
           "style": "light"
          },
          "paper_bgcolor": "white",
          "plot_bgcolor": "white",
          "polar": {
           "angularaxis": {
            "gridcolor": "#EBF0F8",
            "linecolor": "#EBF0F8",
            "ticks": ""
           },
           "bgcolor": "white",
           "radialaxis": {
            "gridcolor": "#EBF0F8",
            "linecolor": "#EBF0F8",
            "ticks": ""
           }
          },
          "scene": {
           "xaxis": {
            "backgroundcolor": "white",
            "gridcolor": "#DFE8F3",
            "gridwidth": 2,
            "linecolor": "#EBF0F8",
            "showbackground": true,
            "ticks": "",
            "zerolinecolor": "#EBF0F8"
           },
           "yaxis": {
            "backgroundcolor": "white",
            "gridcolor": "#DFE8F3",
            "gridwidth": 2,
            "linecolor": "#EBF0F8",
            "showbackground": true,
            "ticks": "",
            "zerolinecolor": "#EBF0F8"
           },
           "zaxis": {
            "backgroundcolor": "white",
            "gridcolor": "#DFE8F3",
            "gridwidth": 2,
            "linecolor": "#EBF0F8",
            "showbackground": true,
            "ticks": "",
            "zerolinecolor": "#EBF0F8"
           }
          },
          "shapedefaults": {
           "line": {
            "color": "#2a3f5f"
           }
          },
          "ternary": {
           "aaxis": {
            "gridcolor": "#DFE8F3",
            "linecolor": "#A2B1C6",
            "ticks": ""
           },
           "baxis": {
            "gridcolor": "#DFE8F3",
            "linecolor": "#A2B1C6",
            "ticks": ""
           },
           "bgcolor": "white",
           "caxis": {
            "gridcolor": "#DFE8F3",
            "linecolor": "#A2B1C6",
            "ticks": ""
           }
          },
          "title": {
           "x": 0.05
          },
          "xaxis": {
           "automargin": true,
           "gridcolor": "#EBF0F8",
           "linecolor": "#EBF0F8",
           "ticks": "",
           "title": {
            "standoff": 15
           },
           "zerolinecolor": "#EBF0F8",
           "zerolinewidth": 2
          },
          "yaxis": {
           "automargin": true,
           "gridcolor": "#EBF0F8",
           "linecolor": "#EBF0F8",
           "ticks": "",
           "title": {
            "standoff": 15
           },
           "zerolinecolor": "#EBF0F8",
           "zerolinewidth": 2
          }
         }
        },
        "title": {
         "text": "Correlation Heatmap: Country, Source, and Industry"
        },
        "xaxis": {
         "dtick": 1,
         "gridcolor": "rgb(0, 0, 0)",
         "side": "top",
         "ticks": ""
        },
        "yaxis": {
         "dtick": 1,
         "ticks": "",
         "ticksuffix": "  "
        }
       }
      }
     },
     "metadata": {},
     "output_type": "display_data"
    }
   ],
   "source": [
    "import pandas as pd\n",
    "import plotly.figure_factory as ff\n",
    "\n",
    "# Frequency encode categorical variables\n",
    "encoded_df = df.copy()\n",
    "encoded_df['Country'] = encoded_df['Country'].map(encoded_df['Country'].value_counts())\n",
    "encoded_df['Source'] = encoded_df['Source'].map(encoded_df['Source'].value_counts())\n",
    "encoded_df['Industry'] = encoded_df['Industry'].map(encoded_df['Industry'].value_counts())\n",
    "\n",
    "# Calculate correlation matrix\n",
    "correlation_matrix = encoded_df[['Country', 'Source', 'Industry']].corr()\n",
    "\n",
    "# Create a heatmap\n",
    "fig = ff.create_annotated_heatmap(\n",
    "    z=correlation_matrix.values,\n",
    "    x=correlation_matrix.columns.tolist(),\n",
    "    y=correlation_matrix.columns.tolist(),\n",
    "    annotation_text=correlation_matrix.round(2).values,\n",
    "    colorscale='Viridis',\n",
    "    showscale=True\n",
    ")\n",
    "\n",
    "fig.update_layout(\n",
    "    title_text='Correlation Heatmap: Country, Source, and Industry',\n",
    "    template='plotly_white'\n",
    ")\n",
    "fig.show()\n"
   ]
  }
 ],
 "metadata": {
  "kernelspec": {
   "display_name": "billionaire_env",
   "language": "python",
   "name": "python3"
  },
  "language_info": {
   "codemirror_mode": {
    "name": "ipython",
    "version": 3
   },
   "file_extension": ".py",
   "mimetype": "text/x-python",
   "name": "python",
   "nbconvert_exporter": "python",
   "pygments_lexer": "ipython3",
   "version": "3.12.3"
  }
 },
 "nbformat": 4,
 "nbformat_minor": 2
}
